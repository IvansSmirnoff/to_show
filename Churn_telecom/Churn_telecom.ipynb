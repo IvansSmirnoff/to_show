{
 "cells": [
  {
   "cell_type": "markdown",
   "metadata": {},
   "source": [
    "_Navigation_"
   ]
  },
  {
   "cell_type": "code",
   "execution_count": 3,
   "metadata": {},
   "outputs": [
    {
     "data": {
      "application/javascript": [
       "$('<div id=\"toc\"></div>').css({position: 'fixed', top: '120px', left: 0}).appendTo(document.body);\n",
       "$.getScript('https://kmahelona.github.io/ipython_notebook_goodies/ipython_notebook_toc.js');\n"
      ],
      "text/plain": [
       "<IPython.core.display.Javascript object>"
      ]
     },
     "metadata": {},
     "output_type": "display_data"
    }
   ],
   "source": [
    "%%javascript\n",
    "$('<div id=\"toc\"></div>').css({position: 'fixed', top: '120px', left: 0}).appendTo(document.body);\n",
    "$.getScript('https://kmahelona.github.io/ipython_notebook_goodies/ipython_notebook_toc.js');"
   ]
  },
  {
   "cell_type": "markdown",
   "metadata": {},
   "source": [
    "# Task\n",
    "\n",
    "Telecom operator company decides to predict a clients' churn. If the company finds out that the customer wills to quit, he will be offered with special promocodes and personal options. Given data includes personal, tariff and contract information about some of it's clients.\n",
    "\n",
    "### Provided service\n",
    "\n",
    "There are two major services by the company: \n",
    "\n",
    "1. Landline telephone service. It is possible to connect the phone to several lines at the same time.\n",
    "2. The Internet. Connection can be of two types: via a telephone line (DSL (*digital subscriber line*), or fiber optic cable (*Fiber optic*).\n",
    "\n",
    "Also:\n",
    "\n",
    "- Internet security: antivirus (*Device Protection*) and blocking unsafe sites service (*OnlineSecurity*);\n",
    "- Personal technical support line (*TechSupport*);\n",
    "- Cloud file storage for data backup (*Online Backup*);\n",
    "- Streaming TV (*Streaming TV*) and movie catalog (*StreamingMovies*).\n",
    "\n",
    "Customers can pay for services every month or sign a contract for 1-2 years. Various payment methods and the possibility of receiving an electronic receipt are available.\n",
    "\n",
    "### Data description\n",
    "\n",
    "Data consists of files received from different sources:\n",
    "\n",
    "- `contract.csv` — information about the contract;\n",
    "- `personal.csv` — the personal data of the client;\n",
    "- `internet.csv` — information about Internet services;\n",
    "- `phone.csv` — information about telephony services.\n",
    "\n",
    "In all files, the `customerID` column contains the client code.\n",
    "\n",
    "Information about contracts is current as of February 1, 2020."
   ]
  },
  {
   "cell_type": "markdown",
   "metadata": {},
   "source": [
    "# Stack"
   ]
  },
  {
   "cell_type": "code",
   "execution_count": 4,
   "metadata": {},
   "outputs": [],
   "source": [
    "import pandas as pd\n",
    "import re\n",
    "import numpy as np\n",
    "import matplotlib.pyplot as plt\n",
    "from catboost import CatBoostClassifier\n",
    "from sklearn.model_selection import GridSearchCV\n",
    "from sklearn.model_selection import train_test_split\n",
    "from sklearn.preprocessing import OrdinalEncoder\n",
    "from sklearn.metrics import roc_auc_score\n",
    "from sklearn.metrics import accuracy_score"
   ]
  },
  {
   "cell_type": "markdown",
   "metadata": {},
   "source": [
    "___"
   ]
  },
  {
   "cell_type": "markdown",
   "metadata": {},
   "source": [
    "# First look"
   ]
  },
  {
   "cell_type": "code",
   "execution_count": 5,
   "metadata": {},
   "outputs": [],
   "source": [
    "contract = pd.read_csv('contract.csv')\n",
    "internet = pd.read_csv('internet.csv')\n",
    "personal = pd.read_csv('personal.csv')\n",
    "phone = pd.read_csv('phone.csv')"
   ]
  },
  {
   "cell_type": "markdown",
   "metadata": {},
   "source": [
    "### Contract"
   ]
  },
  {
   "cell_type": "code",
   "execution_count": 6,
   "metadata": {},
   "outputs": [
    {
     "data": {
      "text/html": [
       "<div>\n",
       "<style scoped>\n",
       "    .dataframe tbody tr th:only-of-type {\n",
       "        vertical-align: middle;\n",
       "    }\n",
       "\n",
       "    .dataframe tbody tr th {\n",
       "        vertical-align: top;\n",
       "    }\n",
       "\n",
       "    .dataframe thead th {\n",
       "        text-align: right;\n",
       "    }\n",
       "</style>\n",
       "<table border=\"1\" class=\"dataframe\">\n",
       "  <thead>\n",
       "    <tr style=\"text-align: right;\">\n",
       "      <th></th>\n",
       "      <th>customerID</th>\n",
       "      <th>BeginDate</th>\n",
       "      <th>EndDate</th>\n",
       "      <th>Type</th>\n",
       "      <th>PaperlessBilling</th>\n",
       "      <th>PaymentMethod</th>\n",
       "      <th>MonthlyCharges</th>\n",
       "      <th>TotalCharges</th>\n",
       "    </tr>\n",
       "  </thead>\n",
       "  <tbody>\n",
       "    <tr>\n",
       "      <td>0</td>\n",
       "      <td>7590-VHVEG</td>\n",
       "      <td>2020-01-01</td>\n",
       "      <td>No</td>\n",
       "      <td>Month-to-month</td>\n",
       "      <td>Yes</td>\n",
       "      <td>Electronic check</td>\n",
       "      <td>29.85</td>\n",
       "      <td>29.85</td>\n",
       "    </tr>\n",
       "    <tr>\n",
       "      <td>1</td>\n",
       "      <td>5575-GNVDE</td>\n",
       "      <td>2017-04-01</td>\n",
       "      <td>No</td>\n",
       "      <td>One year</td>\n",
       "      <td>No</td>\n",
       "      <td>Mailed check</td>\n",
       "      <td>56.95</td>\n",
       "      <td>1889.5</td>\n",
       "    </tr>\n",
       "    <tr>\n",
       "      <td>2</td>\n",
       "      <td>3668-QPYBK</td>\n",
       "      <td>2019-10-01</td>\n",
       "      <td>2019-12-01 00:00:00</td>\n",
       "      <td>Month-to-month</td>\n",
       "      <td>Yes</td>\n",
       "      <td>Mailed check</td>\n",
       "      <td>53.85</td>\n",
       "      <td>108.15</td>\n",
       "    </tr>\n",
       "    <tr>\n",
       "      <td>3</td>\n",
       "      <td>7795-CFOCW</td>\n",
       "      <td>2016-05-01</td>\n",
       "      <td>No</td>\n",
       "      <td>One year</td>\n",
       "      <td>No</td>\n",
       "      <td>Bank transfer (automatic)</td>\n",
       "      <td>42.30</td>\n",
       "      <td>1840.75</td>\n",
       "    </tr>\n",
       "    <tr>\n",
       "      <td>4</td>\n",
       "      <td>9237-HQITU</td>\n",
       "      <td>2019-09-01</td>\n",
       "      <td>2019-11-01 00:00:00</td>\n",
       "      <td>Month-to-month</td>\n",
       "      <td>Yes</td>\n",
       "      <td>Electronic check</td>\n",
       "      <td>70.70</td>\n",
       "      <td>151.65</td>\n",
       "    </tr>\n",
       "    <tr>\n",
       "      <td>...</td>\n",
       "      <td>...</td>\n",
       "      <td>...</td>\n",
       "      <td>...</td>\n",
       "      <td>...</td>\n",
       "      <td>...</td>\n",
       "      <td>...</td>\n",
       "      <td>...</td>\n",
       "      <td>...</td>\n",
       "    </tr>\n",
       "    <tr>\n",
       "      <td>7038</td>\n",
       "      <td>6840-RESVB</td>\n",
       "      <td>2018-02-01</td>\n",
       "      <td>No</td>\n",
       "      <td>One year</td>\n",
       "      <td>Yes</td>\n",
       "      <td>Mailed check</td>\n",
       "      <td>84.80</td>\n",
       "      <td>1990.5</td>\n",
       "    </tr>\n",
       "    <tr>\n",
       "      <td>7039</td>\n",
       "      <td>2234-XADUH</td>\n",
       "      <td>2014-02-01</td>\n",
       "      <td>No</td>\n",
       "      <td>One year</td>\n",
       "      <td>Yes</td>\n",
       "      <td>Credit card (automatic)</td>\n",
       "      <td>103.20</td>\n",
       "      <td>7362.9</td>\n",
       "    </tr>\n",
       "    <tr>\n",
       "      <td>7040</td>\n",
       "      <td>4801-JZAZL</td>\n",
       "      <td>2019-03-01</td>\n",
       "      <td>No</td>\n",
       "      <td>Month-to-month</td>\n",
       "      <td>Yes</td>\n",
       "      <td>Electronic check</td>\n",
       "      <td>29.60</td>\n",
       "      <td>346.45</td>\n",
       "    </tr>\n",
       "    <tr>\n",
       "      <td>7041</td>\n",
       "      <td>8361-LTMKD</td>\n",
       "      <td>2019-07-01</td>\n",
       "      <td>2019-11-01 00:00:00</td>\n",
       "      <td>Month-to-month</td>\n",
       "      <td>Yes</td>\n",
       "      <td>Mailed check</td>\n",
       "      <td>74.40</td>\n",
       "      <td>306.6</td>\n",
       "    </tr>\n",
       "    <tr>\n",
       "      <td>7042</td>\n",
       "      <td>3186-AJIEK</td>\n",
       "      <td>2014-08-01</td>\n",
       "      <td>No</td>\n",
       "      <td>Two year</td>\n",
       "      <td>Yes</td>\n",
       "      <td>Bank transfer (automatic)</td>\n",
       "      <td>105.65</td>\n",
       "      <td>6844.5</td>\n",
       "    </tr>\n",
       "  </tbody>\n",
       "</table>\n",
       "<p>7043 rows × 8 columns</p>\n",
       "</div>"
      ],
      "text/plain": [
       "      customerID   BeginDate              EndDate            Type  \\\n",
       "0     7590-VHVEG  2020-01-01                   No  Month-to-month   \n",
       "1     5575-GNVDE  2017-04-01                   No        One year   \n",
       "2     3668-QPYBK  2019-10-01  2019-12-01 00:00:00  Month-to-month   \n",
       "3     7795-CFOCW  2016-05-01                   No        One year   \n",
       "4     9237-HQITU  2019-09-01  2019-11-01 00:00:00  Month-to-month   \n",
       "...          ...         ...                  ...             ...   \n",
       "7038  6840-RESVB  2018-02-01                   No        One year   \n",
       "7039  2234-XADUH  2014-02-01                   No        One year   \n",
       "7040  4801-JZAZL  2019-03-01                   No  Month-to-month   \n",
       "7041  8361-LTMKD  2019-07-01  2019-11-01 00:00:00  Month-to-month   \n",
       "7042  3186-AJIEK  2014-08-01                   No        Two year   \n",
       "\n",
       "     PaperlessBilling              PaymentMethod  MonthlyCharges TotalCharges  \n",
       "0                 Yes           Electronic check           29.85        29.85  \n",
       "1                  No               Mailed check           56.95       1889.5  \n",
       "2                 Yes               Mailed check           53.85       108.15  \n",
       "3                  No  Bank transfer (automatic)           42.30      1840.75  \n",
       "4                 Yes           Electronic check           70.70       151.65  \n",
       "...               ...                        ...             ...          ...  \n",
       "7038              Yes               Mailed check           84.80       1990.5  \n",
       "7039              Yes    Credit card (automatic)          103.20       7362.9  \n",
       "7040              Yes           Electronic check           29.60       346.45  \n",
       "7041              Yes               Mailed check           74.40        306.6  \n",
       "7042              Yes  Bank transfer (automatic)          105.65       6844.5  \n",
       "\n",
       "[7043 rows x 8 columns]"
      ]
     },
     "execution_count": 6,
     "metadata": {},
     "output_type": "execute_result"
    }
   ],
   "source": [
    "contract"
   ]
  },
  {
   "cell_type": "code",
   "execution_count": 7,
   "metadata": {},
   "outputs": [
    {
     "name": "stdout",
     "output_type": "stream",
     "text": [
      "<class 'pandas.core.frame.DataFrame'>\n",
      "RangeIndex: 7043 entries, 0 to 7042\n",
      "Data columns (total 8 columns):\n",
      "customerID          7043 non-null object\n",
      "BeginDate           7043 non-null object\n",
      "EndDate             7043 non-null object\n",
      "Type                7043 non-null object\n",
      "PaperlessBilling    7043 non-null object\n",
      "PaymentMethod       7043 non-null object\n",
      "MonthlyCharges      7043 non-null float64\n",
      "TotalCharges        7043 non-null object\n",
      "dtypes: float64(1), object(7)\n",
      "memory usage: 440.3+ KB\n"
     ]
    }
   ],
   "source": [
    "contract.info()"
   ]
  },
  {
   "cell_type": "markdown",
   "metadata": {},
   "source": [
    "First dataset consists of the info about 7000 clients. Data types should be converted.\n",
    "\n",
    "Also data encoding will be needed for ML"
   ]
  },
  {
   "cell_type": "markdown",
   "metadata": {},
   "source": [
    "### internet"
   ]
  },
  {
   "cell_type": "code",
   "execution_count": 8,
   "metadata": {},
   "outputs": [
    {
     "data": {
      "text/html": [
       "<div>\n",
       "<style scoped>\n",
       "    .dataframe tbody tr th:only-of-type {\n",
       "        vertical-align: middle;\n",
       "    }\n",
       "\n",
       "    .dataframe tbody tr th {\n",
       "        vertical-align: top;\n",
       "    }\n",
       "\n",
       "    .dataframe thead th {\n",
       "        text-align: right;\n",
       "    }\n",
       "</style>\n",
       "<table border=\"1\" class=\"dataframe\">\n",
       "  <thead>\n",
       "    <tr style=\"text-align: right;\">\n",
       "      <th></th>\n",
       "      <th>customerID</th>\n",
       "      <th>InternetService</th>\n",
       "      <th>OnlineSecurity</th>\n",
       "      <th>OnlineBackup</th>\n",
       "      <th>DeviceProtection</th>\n",
       "      <th>TechSupport</th>\n",
       "      <th>StreamingTV</th>\n",
       "      <th>StreamingMovies</th>\n",
       "    </tr>\n",
       "  </thead>\n",
       "  <tbody>\n",
       "    <tr>\n",
       "      <td>0</td>\n",
       "      <td>7590-VHVEG</td>\n",
       "      <td>DSL</td>\n",
       "      <td>No</td>\n",
       "      <td>Yes</td>\n",
       "      <td>No</td>\n",
       "      <td>No</td>\n",
       "      <td>No</td>\n",
       "      <td>No</td>\n",
       "    </tr>\n",
       "    <tr>\n",
       "      <td>1</td>\n",
       "      <td>5575-GNVDE</td>\n",
       "      <td>DSL</td>\n",
       "      <td>Yes</td>\n",
       "      <td>No</td>\n",
       "      <td>Yes</td>\n",
       "      <td>No</td>\n",
       "      <td>No</td>\n",
       "      <td>No</td>\n",
       "    </tr>\n",
       "    <tr>\n",
       "      <td>2</td>\n",
       "      <td>3668-QPYBK</td>\n",
       "      <td>DSL</td>\n",
       "      <td>Yes</td>\n",
       "      <td>Yes</td>\n",
       "      <td>No</td>\n",
       "      <td>No</td>\n",
       "      <td>No</td>\n",
       "      <td>No</td>\n",
       "    </tr>\n",
       "    <tr>\n",
       "      <td>3</td>\n",
       "      <td>7795-CFOCW</td>\n",
       "      <td>DSL</td>\n",
       "      <td>Yes</td>\n",
       "      <td>No</td>\n",
       "      <td>Yes</td>\n",
       "      <td>Yes</td>\n",
       "      <td>No</td>\n",
       "      <td>No</td>\n",
       "    </tr>\n",
       "    <tr>\n",
       "      <td>4</td>\n",
       "      <td>9237-HQITU</td>\n",
       "      <td>Fiber optic</td>\n",
       "      <td>No</td>\n",
       "      <td>No</td>\n",
       "      <td>No</td>\n",
       "      <td>No</td>\n",
       "      <td>No</td>\n",
       "      <td>No</td>\n",
       "    </tr>\n",
       "    <tr>\n",
       "      <td>...</td>\n",
       "      <td>...</td>\n",
       "      <td>...</td>\n",
       "      <td>...</td>\n",
       "      <td>...</td>\n",
       "      <td>...</td>\n",
       "      <td>...</td>\n",
       "      <td>...</td>\n",
       "      <td>...</td>\n",
       "    </tr>\n",
       "    <tr>\n",
       "      <td>5512</td>\n",
       "      <td>6840-RESVB</td>\n",
       "      <td>DSL</td>\n",
       "      <td>Yes</td>\n",
       "      <td>No</td>\n",
       "      <td>Yes</td>\n",
       "      <td>Yes</td>\n",
       "      <td>Yes</td>\n",
       "      <td>Yes</td>\n",
       "    </tr>\n",
       "    <tr>\n",
       "      <td>5513</td>\n",
       "      <td>2234-XADUH</td>\n",
       "      <td>Fiber optic</td>\n",
       "      <td>No</td>\n",
       "      <td>Yes</td>\n",
       "      <td>Yes</td>\n",
       "      <td>No</td>\n",
       "      <td>Yes</td>\n",
       "      <td>Yes</td>\n",
       "    </tr>\n",
       "    <tr>\n",
       "      <td>5514</td>\n",
       "      <td>4801-JZAZL</td>\n",
       "      <td>DSL</td>\n",
       "      <td>Yes</td>\n",
       "      <td>No</td>\n",
       "      <td>No</td>\n",
       "      <td>No</td>\n",
       "      <td>No</td>\n",
       "      <td>No</td>\n",
       "    </tr>\n",
       "    <tr>\n",
       "      <td>5515</td>\n",
       "      <td>8361-LTMKD</td>\n",
       "      <td>Fiber optic</td>\n",
       "      <td>No</td>\n",
       "      <td>No</td>\n",
       "      <td>No</td>\n",
       "      <td>No</td>\n",
       "      <td>No</td>\n",
       "      <td>No</td>\n",
       "    </tr>\n",
       "    <tr>\n",
       "      <td>5516</td>\n",
       "      <td>3186-AJIEK</td>\n",
       "      <td>Fiber optic</td>\n",
       "      <td>Yes</td>\n",
       "      <td>No</td>\n",
       "      <td>Yes</td>\n",
       "      <td>Yes</td>\n",
       "      <td>Yes</td>\n",
       "      <td>Yes</td>\n",
       "    </tr>\n",
       "  </tbody>\n",
       "</table>\n",
       "<p>5517 rows × 8 columns</p>\n",
       "</div>"
      ],
      "text/plain": [
       "      customerID InternetService OnlineSecurity OnlineBackup DeviceProtection  \\\n",
       "0     7590-VHVEG             DSL             No          Yes               No   \n",
       "1     5575-GNVDE             DSL            Yes           No              Yes   \n",
       "2     3668-QPYBK             DSL            Yes          Yes               No   \n",
       "3     7795-CFOCW             DSL            Yes           No              Yes   \n",
       "4     9237-HQITU     Fiber optic             No           No               No   \n",
       "...          ...             ...            ...          ...              ...   \n",
       "5512  6840-RESVB             DSL            Yes           No              Yes   \n",
       "5513  2234-XADUH     Fiber optic             No          Yes              Yes   \n",
       "5514  4801-JZAZL             DSL            Yes           No               No   \n",
       "5515  8361-LTMKD     Fiber optic             No           No               No   \n",
       "5516  3186-AJIEK     Fiber optic            Yes           No              Yes   \n",
       "\n",
       "     TechSupport StreamingTV StreamingMovies  \n",
       "0             No          No              No  \n",
       "1             No          No              No  \n",
       "2             No          No              No  \n",
       "3            Yes          No              No  \n",
       "4             No          No              No  \n",
       "...          ...         ...             ...  \n",
       "5512         Yes         Yes             Yes  \n",
       "5513          No         Yes             Yes  \n",
       "5514          No          No              No  \n",
       "5515          No          No              No  \n",
       "5516         Yes         Yes             Yes  \n",
       "\n",
       "[5517 rows x 8 columns]"
      ]
     },
     "execution_count": 8,
     "metadata": {},
     "output_type": "execute_result"
    }
   ],
   "source": [
    "internet"
   ]
  },
  {
   "cell_type": "code",
   "execution_count": 9,
   "metadata": {},
   "outputs": [
    {
     "name": "stdout",
     "output_type": "stream",
     "text": [
      "<class 'pandas.core.frame.DataFrame'>\n",
      "RangeIndex: 5517 entries, 0 to 5516\n",
      "Data columns (total 8 columns):\n",
      "customerID          5517 non-null object\n",
      "InternetService     5517 non-null object\n",
      "OnlineSecurity      5517 non-null object\n",
      "OnlineBackup        5517 non-null object\n",
      "DeviceProtection    5517 non-null object\n",
      "TechSupport         5517 non-null object\n",
      "StreamingTV         5517 non-null object\n",
      "StreamingMovies     5517 non-null object\n",
      "dtypes: object(8)\n",
      "memory usage: 344.9+ KB\n"
     ]
    }
   ],
   "source": [
    "internet.info()"
   ]
  },
  {
   "cell_type": "markdown",
   "metadata": {},
   "source": [
    "Same thing- data types should be converted to numerical. There are less entries than in the `contract` db: not all clients use the internet service"
   ]
  },
  {
   "cell_type": "markdown",
   "metadata": {},
   "source": [
    "### personal"
   ]
  },
  {
   "cell_type": "code",
   "execution_count": 10,
   "metadata": {},
   "outputs": [
    {
     "data": {
      "text/html": [
       "<div>\n",
       "<style scoped>\n",
       "    .dataframe tbody tr th:only-of-type {\n",
       "        vertical-align: middle;\n",
       "    }\n",
       "\n",
       "    .dataframe tbody tr th {\n",
       "        vertical-align: top;\n",
       "    }\n",
       "\n",
       "    .dataframe thead th {\n",
       "        text-align: right;\n",
       "    }\n",
       "</style>\n",
       "<table border=\"1\" class=\"dataframe\">\n",
       "  <thead>\n",
       "    <tr style=\"text-align: right;\">\n",
       "      <th></th>\n",
       "      <th>customerID</th>\n",
       "      <th>gender</th>\n",
       "      <th>SeniorCitizen</th>\n",
       "      <th>Partner</th>\n",
       "      <th>Dependents</th>\n",
       "    </tr>\n",
       "  </thead>\n",
       "  <tbody>\n",
       "    <tr>\n",
       "      <td>0</td>\n",
       "      <td>7590-VHVEG</td>\n",
       "      <td>Female</td>\n",
       "      <td>0</td>\n",
       "      <td>Yes</td>\n",
       "      <td>No</td>\n",
       "    </tr>\n",
       "    <tr>\n",
       "      <td>1</td>\n",
       "      <td>5575-GNVDE</td>\n",
       "      <td>Male</td>\n",
       "      <td>0</td>\n",
       "      <td>No</td>\n",
       "      <td>No</td>\n",
       "    </tr>\n",
       "    <tr>\n",
       "      <td>2</td>\n",
       "      <td>3668-QPYBK</td>\n",
       "      <td>Male</td>\n",
       "      <td>0</td>\n",
       "      <td>No</td>\n",
       "      <td>No</td>\n",
       "    </tr>\n",
       "    <tr>\n",
       "      <td>3</td>\n",
       "      <td>7795-CFOCW</td>\n",
       "      <td>Male</td>\n",
       "      <td>0</td>\n",
       "      <td>No</td>\n",
       "      <td>No</td>\n",
       "    </tr>\n",
       "    <tr>\n",
       "      <td>4</td>\n",
       "      <td>9237-HQITU</td>\n",
       "      <td>Female</td>\n",
       "      <td>0</td>\n",
       "      <td>No</td>\n",
       "      <td>No</td>\n",
       "    </tr>\n",
       "    <tr>\n",
       "      <td>...</td>\n",
       "      <td>...</td>\n",
       "      <td>...</td>\n",
       "      <td>...</td>\n",
       "      <td>...</td>\n",
       "      <td>...</td>\n",
       "    </tr>\n",
       "    <tr>\n",
       "      <td>7038</td>\n",
       "      <td>6840-RESVB</td>\n",
       "      <td>Male</td>\n",
       "      <td>0</td>\n",
       "      <td>Yes</td>\n",
       "      <td>Yes</td>\n",
       "    </tr>\n",
       "    <tr>\n",
       "      <td>7039</td>\n",
       "      <td>2234-XADUH</td>\n",
       "      <td>Female</td>\n",
       "      <td>0</td>\n",
       "      <td>Yes</td>\n",
       "      <td>Yes</td>\n",
       "    </tr>\n",
       "    <tr>\n",
       "      <td>7040</td>\n",
       "      <td>4801-JZAZL</td>\n",
       "      <td>Female</td>\n",
       "      <td>0</td>\n",
       "      <td>Yes</td>\n",
       "      <td>Yes</td>\n",
       "    </tr>\n",
       "    <tr>\n",
       "      <td>7041</td>\n",
       "      <td>8361-LTMKD</td>\n",
       "      <td>Male</td>\n",
       "      <td>1</td>\n",
       "      <td>Yes</td>\n",
       "      <td>No</td>\n",
       "    </tr>\n",
       "    <tr>\n",
       "      <td>7042</td>\n",
       "      <td>3186-AJIEK</td>\n",
       "      <td>Male</td>\n",
       "      <td>0</td>\n",
       "      <td>No</td>\n",
       "      <td>No</td>\n",
       "    </tr>\n",
       "  </tbody>\n",
       "</table>\n",
       "<p>7043 rows × 5 columns</p>\n",
       "</div>"
      ],
      "text/plain": [
       "      customerID  gender  SeniorCitizen Partner Dependents\n",
       "0     7590-VHVEG  Female              0     Yes         No\n",
       "1     5575-GNVDE    Male              0      No         No\n",
       "2     3668-QPYBK    Male              0      No         No\n",
       "3     7795-CFOCW    Male              0      No         No\n",
       "4     9237-HQITU  Female              0      No         No\n",
       "...          ...     ...            ...     ...        ...\n",
       "7038  6840-RESVB    Male              0     Yes        Yes\n",
       "7039  2234-XADUH  Female              0     Yes        Yes\n",
       "7040  4801-JZAZL  Female              0     Yes        Yes\n",
       "7041  8361-LTMKD    Male              1     Yes         No\n",
       "7042  3186-AJIEK    Male              0      No         No\n",
       "\n",
       "[7043 rows x 5 columns]"
      ]
     },
     "execution_count": 10,
     "metadata": {},
     "output_type": "execute_result"
    }
   ],
   "source": [
    "personal"
   ]
  },
  {
   "cell_type": "code",
   "execution_count": 11,
   "metadata": {},
   "outputs": [
    {
     "name": "stdout",
     "output_type": "stream",
     "text": [
      "<class 'pandas.core.frame.DataFrame'>\n",
      "RangeIndex: 7043 entries, 0 to 7042\n",
      "Data columns (total 5 columns):\n",
      "customerID       7043 non-null object\n",
      "gender           7043 non-null object\n",
      "SeniorCitizen    7043 non-null int64\n",
      "Partner          7043 non-null object\n",
      "Dependents       7043 non-null object\n",
      "dtypes: int64(1), object(4)\n",
      "memory usage: 275.2+ KB\n"
     ]
    }
   ],
   "source": [
    "personal.info()"
   ]
  },
  {
   "cell_type": "markdown",
   "metadata": {},
   "source": [
    "### phone"
   ]
  },
  {
   "cell_type": "code",
   "execution_count": 12,
   "metadata": {},
   "outputs": [
    {
     "data": {
      "text/html": [
       "<div>\n",
       "<style scoped>\n",
       "    .dataframe tbody tr th:only-of-type {\n",
       "        vertical-align: middle;\n",
       "    }\n",
       "\n",
       "    .dataframe tbody tr th {\n",
       "        vertical-align: top;\n",
       "    }\n",
       "\n",
       "    .dataframe thead th {\n",
       "        text-align: right;\n",
       "    }\n",
       "</style>\n",
       "<table border=\"1\" class=\"dataframe\">\n",
       "  <thead>\n",
       "    <tr style=\"text-align: right;\">\n",
       "      <th></th>\n",
       "      <th>customerID</th>\n",
       "      <th>MultipleLines</th>\n",
       "    </tr>\n",
       "  </thead>\n",
       "  <tbody>\n",
       "    <tr>\n",
       "      <td>0</td>\n",
       "      <td>5575-GNVDE</td>\n",
       "      <td>No</td>\n",
       "    </tr>\n",
       "    <tr>\n",
       "      <td>1</td>\n",
       "      <td>3668-QPYBK</td>\n",
       "      <td>No</td>\n",
       "    </tr>\n",
       "    <tr>\n",
       "      <td>2</td>\n",
       "      <td>9237-HQITU</td>\n",
       "      <td>No</td>\n",
       "    </tr>\n",
       "    <tr>\n",
       "      <td>3</td>\n",
       "      <td>9305-CDSKC</td>\n",
       "      <td>Yes</td>\n",
       "    </tr>\n",
       "    <tr>\n",
       "      <td>4</td>\n",
       "      <td>1452-KIOVK</td>\n",
       "      <td>Yes</td>\n",
       "    </tr>\n",
       "    <tr>\n",
       "      <td>...</td>\n",
       "      <td>...</td>\n",
       "      <td>...</td>\n",
       "    </tr>\n",
       "    <tr>\n",
       "      <td>6356</td>\n",
       "      <td>2569-WGERO</td>\n",
       "      <td>No</td>\n",
       "    </tr>\n",
       "    <tr>\n",
       "      <td>6357</td>\n",
       "      <td>6840-RESVB</td>\n",
       "      <td>Yes</td>\n",
       "    </tr>\n",
       "    <tr>\n",
       "      <td>6358</td>\n",
       "      <td>2234-XADUH</td>\n",
       "      <td>Yes</td>\n",
       "    </tr>\n",
       "    <tr>\n",
       "      <td>6359</td>\n",
       "      <td>8361-LTMKD</td>\n",
       "      <td>Yes</td>\n",
       "    </tr>\n",
       "    <tr>\n",
       "      <td>6360</td>\n",
       "      <td>3186-AJIEK</td>\n",
       "      <td>No</td>\n",
       "    </tr>\n",
       "  </tbody>\n",
       "</table>\n",
       "<p>6361 rows × 2 columns</p>\n",
       "</div>"
      ],
      "text/plain": [
       "      customerID MultipleLines\n",
       "0     5575-GNVDE            No\n",
       "1     3668-QPYBK            No\n",
       "2     9237-HQITU            No\n",
       "3     9305-CDSKC           Yes\n",
       "4     1452-KIOVK           Yes\n",
       "...          ...           ...\n",
       "6356  2569-WGERO            No\n",
       "6357  6840-RESVB           Yes\n",
       "6358  2234-XADUH           Yes\n",
       "6359  8361-LTMKD           Yes\n",
       "6360  3186-AJIEK            No\n",
       "\n",
       "[6361 rows x 2 columns]"
      ]
     },
     "execution_count": 12,
     "metadata": {},
     "output_type": "execute_result"
    }
   ],
   "source": [
    "phone"
   ]
  },
  {
   "cell_type": "code",
   "execution_count": 13,
   "metadata": {},
   "outputs": [
    {
     "name": "stdout",
     "output_type": "stream",
     "text": [
      "<class 'pandas.core.frame.DataFrame'>\n",
      "RangeIndex: 6361 entries, 0 to 6360\n",
      "Data columns (total 2 columns):\n",
      "customerID       6361 non-null object\n",
      "MultipleLines    6361 non-null object\n",
      "dtypes: object(2)\n",
      "memory usage: 99.5+ KB\n"
     ]
    }
   ],
   "source": [
    "phone.info()"
   ]
  },
  {
   "cell_type": "markdown",
   "metadata": {},
   "source": [
    "## After first look\n",
    "\n",
    "In general, there are 7043 entries with clients data, but tables with services include less rows- it depends whether the client uses or doesn't use the service\n",
    "\n",
    "Data has to be preprocessed: for the analysis and for ML\n",
    "\n",
    "`customerID` will help to merge the data"
   ]
  },
  {
   "cell_type": "markdown",
   "metadata": {},
   "source": [
    "___"
   ]
  },
  {
   "cell_type": "markdown",
   "metadata": {},
   "source": [
    "## Preprocessing"
   ]
  },
  {
   "cell_type": "markdown",
   "metadata": {},
   "source": [
    "### Contract"
   ]
  },
  {
   "cell_type": "markdown",
   "metadata": {},
   "source": [
    "__Data types__"
   ]
  },
  {
   "cell_type": "code",
   "execution_count": 14,
   "metadata": {},
   "outputs": [],
   "source": [
    "# Dealing with the date columns: converting them to datetime and preparing them for new features creating\n",
    "\n",
    "contract['BeginDate'] = pd.to_datetime(contract['BeginDate'], format='%Y.%m.%d')\n",
    "contract.loc[contract['EndDate']  != 'No', 'actualend'] = contract['EndDate']\n",
    "\n",
    "contract['actualend'] = pd.to_datetime(contract['actualend'], format='%Y.%m.%d %H:%M:%S')\n",
    "\n",
    "contract['live_contract'] = contract['actualend'].sub(contract['BeginDate'], axis=0)\n",
    "\n",
    "contract = contract.drop(columns = ['EndDate'])"
   ]
  },
  {
   "cell_type": "code",
   "execution_count": 15,
   "metadata": {},
   "outputs": [],
   "source": [
    "contract['TotalCharges'] = contract['TotalCharges'].str.replace(',', '')\n"
   ]
  },
  {
   "cell_type": "code",
   "execution_count": 16,
   "metadata": {},
   "outputs": [],
   "source": [
    "def fast_num_conversion(s):\n",
    "    \n",
    "    f_convert = lambda x: re.sub('[$\\-,\\| ]', '', x)\n",
    "    f_float = lambda x: float(x) if x!='' else np.NaN\n",
    "    vals = {curr:f_float(f_convert(curr)) for curr in s.unique()}\n",
    "    return s.map(vals)"
   ]
  },
  {
   "cell_type": "code",
   "execution_count": 17,
   "metadata": {},
   "outputs": [],
   "source": [
    "contract['TotalCharges'] = fast_num_conversion(contract['TotalCharges'])"
   ]
  },
  {
   "cell_type": "markdown",
   "metadata": {},
   "source": [
    "Creating a new columns with the total contract duration, if it is finished. In other words, for how long a client used to be a (good guy) client"
   ]
  },
  {
   "cell_type": "code",
   "execution_count": 18,
   "metadata": {},
   "outputs": [],
   "source": [
    "contract['live_contract'] = contract['live_contract'].dt.days"
   ]
  },
  {
   "cell_type": "code",
   "execution_count": 19,
   "metadata": {},
   "outputs": [
    {
     "data": {
      "text/html": [
       "<div>\n",
       "<style scoped>\n",
       "    .dataframe tbody tr th:only-of-type {\n",
       "        vertical-align: middle;\n",
       "    }\n",
       "\n",
       "    .dataframe tbody tr th {\n",
       "        vertical-align: top;\n",
       "    }\n",
       "\n",
       "    .dataframe thead th {\n",
       "        text-align: right;\n",
       "    }\n",
       "</style>\n",
       "<table border=\"1\" class=\"dataframe\">\n",
       "  <thead>\n",
       "    <tr style=\"text-align: right;\">\n",
       "      <th></th>\n",
       "      <th>customerID</th>\n",
       "      <th>BeginDate</th>\n",
       "      <th>Type</th>\n",
       "      <th>PaperlessBilling</th>\n",
       "      <th>PaymentMethod</th>\n",
       "      <th>MonthlyCharges</th>\n",
       "      <th>TotalCharges</th>\n",
       "      <th>actualend</th>\n",
       "      <th>live_contract</th>\n",
       "    </tr>\n",
       "  </thead>\n",
       "  <tbody>\n",
       "    <tr>\n",
       "      <td>0</td>\n",
       "      <td>7590-VHVEG</td>\n",
       "      <td>2020-01-01</td>\n",
       "      <td>Month-to-month</td>\n",
       "      <td>Yes</td>\n",
       "      <td>Electronic check</td>\n",
       "      <td>29.85</td>\n",
       "      <td>29.85</td>\n",
       "      <td>NaT</td>\n",
       "      <td>NaN</td>\n",
       "    </tr>\n",
       "    <tr>\n",
       "      <td>1</td>\n",
       "      <td>5575-GNVDE</td>\n",
       "      <td>2017-04-01</td>\n",
       "      <td>One year</td>\n",
       "      <td>No</td>\n",
       "      <td>Mailed check</td>\n",
       "      <td>56.95</td>\n",
       "      <td>1889.50</td>\n",
       "      <td>NaT</td>\n",
       "      <td>NaN</td>\n",
       "    </tr>\n",
       "    <tr>\n",
       "      <td>2</td>\n",
       "      <td>3668-QPYBK</td>\n",
       "      <td>2019-10-01</td>\n",
       "      <td>Month-to-month</td>\n",
       "      <td>Yes</td>\n",
       "      <td>Mailed check</td>\n",
       "      <td>53.85</td>\n",
       "      <td>108.15</td>\n",
       "      <td>2019-12-01</td>\n",
       "      <td>61.0</td>\n",
       "    </tr>\n",
       "    <tr>\n",
       "      <td>3</td>\n",
       "      <td>7795-CFOCW</td>\n",
       "      <td>2016-05-01</td>\n",
       "      <td>One year</td>\n",
       "      <td>No</td>\n",
       "      <td>Bank transfer (automatic)</td>\n",
       "      <td>42.30</td>\n",
       "      <td>1840.75</td>\n",
       "      <td>NaT</td>\n",
       "      <td>NaN</td>\n",
       "    </tr>\n",
       "    <tr>\n",
       "      <td>4</td>\n",
       "      <td>9237-HQITU</td>\n",
       "      <td>2019-09-01</td>\n",
       "      <td>Month-to-month</td>\n",
       "      <td>Yes</td>\n",
       "      <td>Electronic check</td>\n",
       "      <td>70.70</td>\n",
       "      <td>151.65</td>\n",
       "      <td>2019-11-01</td>\n",
       "      <td>61.0</td>\n",
       "    </tr>\n",
       "    <tr>\n",
       "      <td>...</td>\n",
       "      <td>...</td>\n",
       "      <td>...</td>\n",
       "      <td>...</td>\n",
       "      <td>...</td>\n",
       "      <td>...</td>\n",
       "      <td>...</td>\n",
       "      <td>...</td>\n",
       "      <td>...</td>\n",
       "      <td>...</td>\n",
       "    </tr>\n",
       "    <tr>\n",
       "      <td>7038</td>\n",
       "      <td>6840-RESVB</td>\n",
       "      <td>2018-02-01</td>\n",
       "      <td>One year</td>\n",
       "      <td>Yes</td>\n",
       "      <td>Mailed check</td>\n",
       "      <td>84.80</td>\n",
       "      <td>1990.50</td>\n",
       "      <td>NaT</td>\n",
       "      <td>NaN</td>\n",
       "    </tr>\n",
       "    <tr>\n",
       "      <td>7039</td>\n",
       "      <td>2234-XADUH</td>\n",
       "      <td>2014-02-01</td>\n",
       "      <td>One year</td>\n",
       "      <td>Yes</td>\n",
       "      <td>Credit card (automatic)</td>\n",
       "      <td>103.20</td>\n",
       "      <td>7362.90</td>\n",
       "      <td>NaT</td>\n",
       "      <td>NaN</td>\n",
       "    </tr>\n",
       "    <tr>\n",
       "      <td>7040</td>\n",
       "      <td>4801-JZAZL</td>\n",
       "      <td>2019-03-01</td>\n",
       "      <td>Month-to-month</td>\n",
       "      <td>Yes</td>\n",
       "      <td>Electronic check</td>\n",
       "      <td>29.60</td>\n",
       "      <td>346.45</td>\n",
       "      <td>NaT</td>\n",
       "      <td>NaN</td>\n",
       "    </tr>\n",
       "    <tr>\n",
       "      <td>7041</td>\n",
       "      <td>8361-LTMKD</td>\n",
       "      <td>2019-07-01</td>\n",
       "      <td>Month-to-month</td>\n",
       "      <td>Yes</td>\n",
       "      <td>Mailed check</td>\n",
       "      <td>74.40</td>\n",
       "      <td>306.60</td>\n",
       "      <td>2019-11-01</td>\n",
       "      <td>123.0</td>\n",
       "    </tr>\n",
       "    <tr>\n",
       "      <td>7042</td>\n",
       "      <td>3186-AJIEK</td>\n",
       "      <td>2014-08-01</td>\n",
       "      <td>Two year</td>\n",
       "      <td>Yes</td>\n",
       "      <td>Bank transfer (automatic)</td>\n",
       "      <td>105.65</td>\n",
       "      <td>6844.50</td>\n",
       "      <td>NaT</td>\n",
       "      <td>NaN</td>\n",
       "    </tr>\n",
       "  </tbody>\n",
       "</table>\n",
       "<p>7043 rows × 9 columns</p>\n",
       "</div>"
      ],
      "text/plain": [
       "      customerID  BeginDate            Type PaperlessBilling  \\\n",
       "0     7590-VHVEG 2020-01-01  Month-to-month              Yes   \n",
       "1     5575-GNVDE 2017-04-01        One year               No   \n",
       "2     3668-QPYBK 2019-10-01  Month-to-month              Yes   \n",
       "3     7795-CFOCW 2016-05-01        One year               No   \n",
       "4     9237-HQITU 2019-09-01  Month-to-month              Yes   \n",
       "...          ...        ...             ...              ...   \n",
       "7038  6840-RESVB 2018-02-01        One year              Yes   \n",
       "7039  2234-XADUH 2014-02-01        One year              Yes   \n",
       "7040  4801-JZAZL 2019-03-01  Month-to-month              Yes   \n",
       "7041  8361-LTMKD 2019-07-01  Month-to-month              Yes   \n",
       "7042  3186-AJIEK 2014-08-01        Two year              Yes   \n",
       "\n",
       "                  PaymentMethod  MonthlyCharges  TotalCharges  actualend  \\\n",
       "0              Electronic check           29.85         29.85        NaT   \n",
       "1                  Mailed check           56.95       1889.50        NaT   \n",
       "2                  Mailed check           53.85        108.15 2019-12-01   \n",
       "3     Bank transfer (automatic)           42.30       1840.75        NaT   \n",
       "4              Electronic check           70.70        151.65 2019-11-01   \n",
       "...                         ...             ...           ...        ...   \n",
       "7038               Mailed check           84.80       1990.50        NaT   \n",
       "7039    Credit card (automatic)          103.20       7362.90        NaT   \n",
       "7040           Electronic check           29.60        346.45        NaT   \n",
       "7041               Mailed check           74.40        306.60 2019-11-01   \n",
       "7042  Bank transfer (automatic)          105.65       6844.50        NaT   \n",
       "\n",
       "      live_contract  \n",
       "0               NaN  \n",
       "1               NaN  \n",
       "2              61.0  \n",
       "3               NaN  \n",
       "4              61.0  \n",
       "...             ...  \n",
       "7038            NaN  \n",
       "7039            NaN  \n",
       "7040            NaN  \n",
       "7041          123.0  \n",
       "7042            NaN  \n",
       "\n",
       "[7043 rows x 9 columns]"
      ]
     },
     "execution_count": 19,
     "metadata": {},
     "output_type": "execute_result"
    }
   ],
   "source": [
    "contract"
   ]
  },
  {
   "cell_type": "code",
   "execution_count": 20,
   "metadata": {},
   "outputs": [
    {
     "name": "stdout",
     "output_type": "stream",
     "text": [
      "<class 'pandas.core.frame.DataFrame'>\n",
      "RangeIndex: 7043 entries, 0 to 7042\n",
      "Data columns (total 9 columns):\n",
      "customerID          7043 non-null object\n",
      "BeginDate           7043 non-null datetime64[ns]\n",
      "Type                7043 non-null object\n",
      "PaperlessBilling    7043 non-null object\n",
      "PaymentMethod       7043 non-null object\n",
      "MonthlyCharges      7043 non-null float64\n",
      "TotalCharges        7032 non-null float64\n",
      "actualend           1869 non-null datetime64[ns]\n",
      "live_contract       1869 non-null float64\n",
      "dtypes: datetime64[ns](2), float64(3), object(4)\n",
      "memory usage: 495.3+ KB\n"
     ]
    }
   ],
   "source": [
    "contract.info()"
   ]
  },
  {
   "cell_type": "markdown",
   "metadata": {},
   "source": [
    "### internet"
   ]
  },
  {
   "cell_type": "code",
   "execution_count": 21,
   "metadata": {},
   "outputs": [
    {
     "data": {
      "text/html": [
       "<div>\n",
       "<style scoped>\n",
       "    .dataframe tbody tr th:only-of-type {\n",
       "        vertical-align: middle;\n",
       "    }\n",
       "\n",
       "    .dataframe tbody tr th {\n",
       "        vertical-align: top;\n",
       "    }\n",
       "\n",
       "    .dataframe thead th {\n",
       "        text-align: right;\n",
       "    }\n",
       "</style>\n",
       "<table border=\"1\" class=\"dataframe\">\n",
       "  <thead>\n",
       "    <tr style=\"text-align: right;\">\n",
       "      <th></th>\n",
       "      <th>customerID</th>\n",
       "      <th>InternetService</th>\n",
       "      <th>OnlineSecurity</th>\n",
       "      <th>OnlineBackup</th>\n",
       "      <th>DeviceProtection</th>\n",
       "      <th>TechSupport</th>\n",
       "      <th>StreamingTV</th>\n",
       "      <th>StreamingMovies</th>\n",
       "    </tr>\n",
       "  </thead>\n",
       "  <tbody>\n",
       "    <tr>\n",
       "      <td>0</td>\n",
       "      <td>7590-VHVEG</td>\n",
       "      <td>DSL</td>\n",
       "      <td>No</td>\n",
       "      <td>Yes</td>\n",
       "      <td>No</td>\n",
       "      <td>No</td>\n",
       "      <td>No</td>\n",
       "      <td>No</td>\n",
       "    </tr>\n",
       "    <tr>\n",
       "      <td>1</td>\n",
       "      <td>5575-GNVDE</td>\n",
       "      <td>DSL</td>\n",
       "      <td>Yes</td>\n",
       "      <td>No</td>\n",
       "      <td>Yes</td>\n",
       "      <td>No</td>\n",
       "      <td>No</td>\n",
       "      <td>No</td>\n",
       "    </tr>\n",
       "    <tr>\n",
       "      <td>2</td>\n",
       "      <td>3668-QPYBK</td>\n",
       "      <td>DSL</td>\n",
       "      <td>Yes</td>\n",
       "      <td>Yes</td>\n",
       "      <td>No</td>\n",
       "      <td>No</td>\n",
       "      <td>No</td>\n",
       "      <td>No</td>\n",
       "    </tr>\n",
       "    <tr>\n",
       "      <td>3</td>\n",
       "      <td>7795-CFOCW</td>\n",
       "      <td>DSL</td>\n",
       "      <td>Yes</td>\n",
       "      <td>No</td>\n",
       "      <td>Yes</td>\n",
       "      <td>Yes</td>\n",
       "      <td>No</td>\n",
       "      <td>No</td>\n",
       "    </tr>\n",
       "    <tr>\n",
       "      <td>4</td>\n",
       "      <td>9237-HQITU</td>\n",
       "      <td>Fiber optic</td>\n",
       "      <td>No</td>\n",
       "      <td>No</td>\n",
       "      <td>No</td>\n",
       "      <td>No</td>\n",
       "      <td>No</td>\n",
       "      <td>No</td>\n",
       "    </tr>\n",
       "    <tr>\n",
       "      <td>...</td>\n",
       "      <td>...</td>\n",
       "      <td>...</td>\n",
       "      <td>...</td>\n",
       "      <td>...</td>\n",
       "      <td>...</td>\n",
       "      <td>...</td>\n",
       "      <td>...</td>\n",
       "      <td>...</td>\n",
       "    </tr>\n",
       "    <tr>\n",
       "      <td>5512</td>\n",
       "      <td>6840-RESVB</td>\n",
       "      <td>DSL</td>\n",
       "      <td>Yes</td>\n",
       "      <td>No</td>\n",
       "      <td>Yes</td>\n",
       "      <td>Yes</td>\n",
       "      <td>Yes</td>\n",
       "      <td>Yes</td>\n",
       "    </tr>\n",
       "    <tr>\n",
       "      <td>5513</td>\n",
       "      <td>2234-XADUH</td>\n",
       "      <td>Fiber optic</td>\n",
       "      <td>No</td>\n",
       "      <td>Yes</td>\n",
       "      <td>Yes</td>\n",
       "      <td>No</td>\n",
       "      <td>Yes</td>\n",
       "      <td>Yes</td>\n",
       "    </tr>\n",
       "    <tr>\n",
       "      <td>5514</td>\n",
       "      <td>4801-JZAZL</td>\n",
       "      <td>DSL</td>\n",
       "      <td>Yes</td>\n",
       "      <td>No</td>\n",
       "      <td>No</td>\n",
       "      <td>No</td>\n",
       "      <td>No</td>\n",
       "      <td>No</td>\n",
       "    </tr>\n",
       "    <tr>\n",
       "      <td>5515</td>\n",
       "      <td>8361-LTMKD</td>\n",
       "      <td>Fiber optic</td>\n",
       "      <td>No</td>\n",
       "      <td>No</td>\n",
       "      <td>No</td>\n",
       "      <td>No</td>\n",
       "      <td>No</td>\n",
       "      <td>No</td>\n",
       "    </tr>\n",
       "    <tr>\n",
       "      <td>5516</td>\n",
       "      <td>3186-AJIEK</td>\n",
       "      <td>Fiber optic</td>\n",
       "      <td>Yes</td>\n",
       "      <td>No</td>\n",
       "      <td>Yes</td>\n",
       "      <td>Yes</td>\n",
       "      <td>Yes</td>\n",
       "      <td>Yes</td>\n",
       "    </tr>\n",
       "  </tbody>\n",
       "</table>\n",
       "<p>5517 rows × 8 columns</p>\n",
       "</div>"
      ],
      "text/plain": [
       "      customerID InternetService OnlineSecurity OnlineBackup DeviceProtection  \\\n",
       "0     7590-VHVEG             DSL             No          Yes               No   \n",
       "1     5575-GNVDE             DSL            Yes           No              Yes   \n",
       "2     3668-QPYBK             DSL            Yes          Yes               No   \n",
       "3     7795-CFOCW             DSL            Yes           No              Yes   \n",
       "4     9237-HQITU     Fiber optic             No           No               No   \n",
       "...          ...             ...            ...          ...              ...   \n",
       "5512  6840-RESVB             DSL            Yes           No              Yes   \n",
       "5513  2234-XADUH     Fiber optic             No          Yes              Yes   \n",
       "5514  4801-JZAZL             DSL            Yes           No               No   \n",
       "5515  8361-LTMKD     Fiber optic             No           No               No   \n",
       "5516  3186-AJIEK     Fiber optic            Yes           No              Yes   \n",
       "\n",
       "     TechSupport StreamingTV StreamingMovies  \n",
       "0             No          No              No  \n",
       "1             No          No              No  \n",
       "2             No          No              No  \n",
       "3            Yes          No              No  \n",
       "4             No          No              No  \n",
       "...          ...         ...             ...  \n",
       "5512         Yes         Yes             Yes  \n",
       "5513          No         Yes             Yes  \n",
       "5514          No          No              No  \n",
       "5515          No          No              No  \n",
       "5516         Yes         Yes             Yes  \n",
       "\n",
       "[5517 rows x 8 columns]"
      ]
     },
     "execution_count": 21,
     "metadata": {},
     "output_type": "execute_result"
    }
   ],
   "source": [
    "internet.drop_duplicates()"
   ]
  },
  {
   "cell_type": "code",
   "execution_count": 22,
   "metadata": {},
   "outputs": [
    {
     "name": "stdout",
     "output_type": "stream",
     "text": [
      "<class 'pandas.core.frame.DataFrame'>\n",
      "RangeIndex: 5517 entries, 0 to 5516\n",
      "Data columns (total 8 columns):\n",
      "customerID          5517 non-null object\n",
      "InternetService     5517 non-null object\n",
      "OnlineSecurity      5517 non-null object\n",
      "OnlineBackup        5517 non-null object\n",
      "DeviceProtection    5517 non-null object\n",
      "TechSupport         5517 non-null object\n",
      "StreamingTV         5517 non-null object\n",
      "StreamingMovies     5517 non-null object\n",
      "dtypes: object(8)\n",
      "memory usage: 344.9+ KB\n"
     ]
    }
   ],
   "source": [
    "internet.info()"
   ]
  },
  {
   "cell_type": "markdown",
   "metadata": {},
   "source": [
    "__Nothing is to be done here right now. Later encoding is to be performed, for machine learning__"
   ]
  },
  {
   "cell_type": "markdown",
   "metadata": {},
   "source": [
    "### personal"
   ]
  },
  {
   "cell_type": "code",
   "execution_count": 23,
   "metadata": {},
   "outputs": [
    {
     "data": {
      "text/html": [
       "<div>\n",
       "<style scoped>\n",
       "    .dataframe tbody tr th:only-of-type {\n",
       "        vertical-align: middle;\n",
       "    }\n",
       "\n",
       "    .dataframe tbody tr th {\n",
       "        vertical-align: top;\n",
       "    }\n",
       "\n",
       "    .dataframe thead th {\n",
       "        text-align: right;\n",
       "    }\n",
       "</style>\n",
       "<table border=\"1\" class=\"dataframe\">\n",
       "  <thead>\n",
       "    <tr style=\"text-align: right;\">\n",
       "      <th></th>\n",
       "      <th>customerID</th>\n",
       "      <th>gender</th>\n",
       "      <th>SeniorCitizen</th>\n",
       "      <th>Partner</th>\n",
       "      <th>Dependents</th>\n",
       "    </tr>\n",
       "  </thead>\n",
       "  <tbody>\n",
       "    <tr>\n",
       "      <td>0</td>\n",
       "      <td>7590-VHVEG</td>\n",
       "      <td>Female</td>\n",
       "      <td>0</td>\n",
       "      <td>Yes</td>\n",
       "      <td>No</td>\n",
       "    </tr>\n",
       "    <tr>\n",
       "      <td>1</td>\n",
       "      <td>5575-GNVDE</td>\n",
       "      <td>Male</td>\n",
       "      <td>0</td>\n",
       "      <td>No</td>\n",
       "      <td>No</td>\n",
       "    </tr>\n",
       "    <tr>\n",
       "      <td>2</td>\n",
       "      <td>3668-QPYBK</td>\n",
       "      <td>Male</td>\n",
       "      <td>0</td>\n",
       "      <td>No</td>\n",
       "      <td>No</td>\n",
       "    </tr>\n",
       "    <tr>\n",
       "      <td>3</td>\n",
       "      <td>7795-CFOCW</td>\n",
       "      <td>Male</td>\n",
       "      <td>0</td>\n",
       "      <td>No</td>\n",
       "      <td>No</td>\n",
       "    </tr>\n",
       "    <tr>\n",
       "      <td>4</td>\n",
       "      <td>9237-HQITU</td>\n",
       "      <td>Female</td>\n",
       "      <td>0</td>\n",
       "      <td>No</td>\n",
       "      <td>No</td>\n",
       "    </tr>\n",
       "    <tr>\n",
       "      <td>...</td>\n",
       "      <td>...</td>\n",
       "      <td>...</td>\n",
       "      <td>...</td>\n",
       "      <td>...</td>\n",
       "      <td>...</td>\n",
       "    </tr>\n",
       "    <tr>\n",
       "      <td>7038</td>\n",
       "      <td>6840-RESVB</td>\n",
       "      <td>Male</td>\n",
       "      <td>0</td>\n",
       "      <td>Yes</td>\n",
       "      <td>Yes</td>\n",
       "    </tr>\n",
       "    <tr>\n",
       "      <td>7039</td>\n",
       "      <td>2234-XADUH</td>\n",
       "      <td>Female</td>\n",
       "      <td>0</td>\n",
       "      <td>Yes</td>\n",
       "      <td>Yes</td>\n",
       "    </tr>\n",
       "    <tr>\n",
       "      <td>7040</td>\n",
       "      <td>4801-JZAZL</td>\n",
       "      <td>Female</td>\n",
       "      <td>0</td>\n",
       "      <td>Yes</td>\n",
       "      <td>Yes</td>\n",
       "    </tr>\n",
       "    <tr>\n",
       "      <td>7041</td>\n",
       "      <td>8361-LTMKD</td>\n",
       "      <td>Male</td>\n",
       "      <td>1</td>\n",
       "      <td>Yes</td>\n",
       "      <td>No</td>\n",
       "    </tr>\n",
       "    <tr>\n",
       "      <td>7042</td>\n",
       "      <td>3186-AJIEK</td>\n",
       "      <td>Male</td>\n",
       "      <td>0</td>\n",
       "      <td>No</td>\n",
       "      <td>No</td>\n",
       "    </tr>\n",
       "  </tbody>\n",
       "</table>\n",
       "<p>7043 rows × 5 columns</p>\n",
       "</div>"
      ],
      "text/plain": [
       "      customerID  gender  SeniorCitizen Partner Dependents\n",
       "0     7590-VHVEG  Female              0     Yes         No\n",
       "1     5575-GNVDE    Male              0      No         No\n",
       "2     3668-QPYBK    Male              0      No         No\n",
       "3     7795-CFOCW    Male              0      No         No\n",
       "4     9237-HQITU  Female              0      No         No\n",
       "...          ...     ...            ...     ...        ...\n",
       "7038  6840-RESVB    Male              0     Yes        Yes\n",
       "7039  2234-XADUH  Female              0     Yes        Yes\n",
       "7040  4801-JZAZL  Female              0     Yes        Yes\n",
       "7041  8361-LTMKD    Male              1     Yes         No\n",
       "7042  3186-AJIEK    Male              0      No         No\n",
       "\n",
       "[7043 rows x 5 columns]"
      ]
     },
     "execution_count": 23,
     "metadata": {},
     "output_type": "execute_result"
    }
   ],
   "source": [
    "personal.drop_duplicates()"
   ]
  },
  {
   "cell_type": "code",
   "execution_count": 24,
   "metadata": {},
   "outputs": [
    {
     "name": "stdout",
     "output_type": "stream",
     "text": [
      "<class 'pandas.core.frame.DataFrame'>\n",
      "RangeIndex: 7043 entries, 0 to 7042\n",
      "Data columns (total 5 columns):\n",
      "customerID       7043 non-null object\n",
      "gender           7043 non-null object\n",
      "SeniorCitizen    7043 non-null int64\n",
      "Partner          7043 non-null object\n",
      "Dependents       7043 non-null object\n",
      "dtypes: int64(1), object(4)\n",
      "memory usage: 275.2+ KB\n"
     ]
    }
   ],
   "source": [
    "personal.info()"
   ]
  },
  {
   "cell_type": "markdown",
   "metadata": {},
   "source": [
    "__Same. No preprocessing needed: no NaN values, no duplicates__"
   ]
  },
  {
   "cell_type": "markdown",
   "metadata": {},
   "source": [
    "### phone"
   ]
  },
  {
   "cell_type": "code",
   "execution_count": 25,
   "metadata": {},
   "outputs": [
    {
     "data": {
      "text/html": [
       "<div>\n",
       "<style scoped>\n",
       "    .dataframe tbody tr th:only-of-type {\n",
       "        vertical-align: middle;\n",
       "    }\n",
       "\n",
       "    .dataframe tbody tr th {\n",
       "        vertical-align: top;\n",
       "    }\n",
       "\n",
       "    .dataframe thead th {\n",
       "        text-align: right;\n",
       "    }\n",
       "</style>\n",
       "<table border=\"1\" class=\"dataframe\">\n",
       "  <thead>\n",
       "    <tr style=\"text-align: right;\">\n",
       "      <th></th>\n",
       "      <th>customerID</th>\n",
       "      <th>MultipleLines</th>\n",
       "    </tr>\n",
       "  </thead>\n",
       "  <tbody>\n",
       "    <tr>\n",
       "      <td>0</td>\n",
       "      <td>5575-GNVDE</td>\n",
       "      <td>No</td>\n",
       "    </tr>\n",
       "    <tr>\n",
       "      <td>1</td>\n",
       "      <td>3668-QPYBK</td>\n",
       "      <td>No</td>\n",
       "    </tr>\n",
       "    <tr>\n",
       "      <td>2</td>\n",
       "      <td>9237-HQITU</td>\n",
       "      <td>No</td>\n",
       "    </tr>\n",
       "    <tr>\n",
       "      <td>3</td>\n",
       "      <td>9305-CDSKC</td>\n",
       "      <td>Yes</td>\n",
       "    </tr>\n",
       "    <tr>\n",
       "      <td>4</td>\n",
       "      <td>1452-KIOVK</td>\n",
       "      <td>Yes</td>\n",
       "    </tr>\n",
       "    <tr>\n",
       "      <td>...</td>\n",
       "      <td>...</td>\n",
       "      <td>...</td>\n",
       "    </tr>\n",
       "    <tr>\n",
       "      <td>6356</td>\n",
       "      <td>2569-WGERO</td>\n",
       "      <td>No</td>\n",
       "    </tr>\n",
       "    <tr>\n",
       "      <td>6357</td>\n",
       "      <td>6840-RESVB</td>\n",
       "      <td>Yes</td>\n",
       "    </tr>\n",
       "    <tr>\n",
       "      <td>6358</td>\n",
       "      <td>2234-XADUH</td>\n",
       "      <td>Yes</td>\n",
       "    </tr>\n",
       "    <tr>\n",
       "      <td>6359</td>\n",
       "      <td>8361-LTMKD</td>\n",
       "      <td>Yes</td>\n",
       "    </tr>\n",
       "    <tr>\n",
       "      <td>6360</td>\n",
       "      <td>3186-AJIEK</td>\n",
       "      <td>No</td>\n",
       "    </tr>\n",
       "  </tbody>\n",
       "</table>\n",
       "<p>6361 rows × 2 columns</p>\n",
       "</div>"
      ],
      "text/plain": [
       "      customerID MultipleLines\n",
       "0     5575-GNVDE            No\n",
       "1     3668-QPYBK            No\n",
       "2     9237-HQITU            No\n",
       "3     9305-CDSKC           Yes\n",
       "4     1452-KIOVK           Yes\n",
       "...          ...           ...\n",
       "6356  2569-WGERO            No\n",
       "6357  6840-RESVB           Yes\n",
       "6358  2234-XADUH           Yes\n",
       "6359  8361-LTMKD           Yes\n",
       "6360  3186-AJIEK            No\n",
       "\n",
       "[6361 rows x 2 columns]"
      ]
     },
     "execution_count": 25,
     "metadata": {},
     "output_type": "execute_result"
    }
   ],
   "source": [
    "phone.drop_duplicates()"
   ]
  },
  {
   "cell_type": "markdown",
   "metadata": {},
   "source": [
    "__Let's roll out some EDA__"
   ]
  },
  {
   "cell_type": "markdown",
   "metadata": {},
   "source": [
    "___"
   ]
  },
  {
   "cell_type": "markdown",
   "metadata": {},
   "source": [
    "# EDA"
   ]
  },
  {
   "cell_type": "markdown",
   "metadata": {},
   "source": [
    "### Total charged amount"
   ]
  },
  {
   "cell_type": "markdown",
   "metadata": {},
   "source": [
    "Hist"
   ]
  },
  {
   "cell_type": "code",
   "execution_count": 26,
   "metadata": {},
   "outputs": [
    {
     "data": {
      "text/plain": [
       "<matplotlib.axes._subplots.AxesSubplot at 0x209692ecf48>"
      ]
     },
     "execution_count": 26,
     "metadata": {},
     "output_type": "execute_result"
    },
    {
     "data": {
      "image/png": "[encoded data removed]",
      "text/plain": [
       "<Figure size 432x288 with 1 Axes>"
      ]
     },
     "metadata": {
      "needs_background": "light"
     },
     "output_type": "display_data"
    }
   ],
   "source": [
    "contract['TotalCharges'].hist(bins = 30)"
   ]
  },
  {
   "cell_type": "markdown",
   "metadata": {},
   "source": [
    "Boxplot"
   ]
  },
  {
   "cell_type": "code",
   "execution_count": 27,
   "metadata": {},
   "outputs": [
    {
     "data": {
      "text/plain": [
       "<matplotlib.axes._subplots.AxesSubplot at 0x2096932dcc8>"
      ]
     },
     "execution_count": 27,
     "metadata": {},
     "output_type": "execute_result"
    },
    {
     "data": {
      "image/png": "[encoded data removed]",
      "text/plain": [
       "<Figure size 432x288 with 1 Axes>"
      ]
     },
     "metadata": {
      "needs_background": "light"
     },
     "output_type": "display_data"
    }
   ],
   "source": [
    "contract.boxplot('TotalCharges')"
   ]
  },
  {
   "cell_type": "markdown",
   "metadata": {},
   "source": [
    "No outliers, which is good\n",
    "\n",
    "Half of the clients payid less than 2000 (whatever the currency is) for the whole calculation period"
   ]
  },
  {
   "cell_type": "markdown",
   "metadata": {},
   "source": [
    "### Monthly charged amount"
   ]
  },
  {
   "cell_type": "markdown",
   "metadata": {},
   "source": [
    "Hist"
   ]
  },
  {
   "cell_type": "code",
   "execution_count": 28,
   "metadata": {},
   "outputs": [
    {
     "data": {
      "text/plain": [
       "<matplotlib.axes._subplots.AxesSubplot at 0x209696f9ec8>"
      ]
     },
     "execution_count": 28,
     "metadata": {},
     "output_type": "execute_result"
    },
    {
     "data": {
      "image/png": "[encoded data removed]",
      "text/plain": [
       "<Figure size 432x288 with 1 Axes>"
      ]
     },
     "metadata": {
      "needs_background": "light"
     },
     "output_type": "display_data"
    }
   ],
   "source": [
    "contract['MonthlyCharges'].hist(bins = 20)"
   ]
  },
  {
   "cell_type": "markdown",
   "metadata": {},
   "source": [
    "The histogram for a larger number of bins indicates that the data is discrete, which is logical - the monthly fee should not vary from client to client as a continuous value"
   ]
  },
  {
   "cell_type": "code",
   "execution_count": 29,
   "metadata": {},
   "outputs": [
    {
     "data": {
      "text/plain": [
       "<matplotlib.axes._subplots.AxesSubplot at 0x209696963c8>"
      ]
     },
     "execution_count": 29,
     "metadata": {},
     "output_type": "execute_result"
    },
    {
     "data": {
      "image/png": "[encoded data removed]",
      "text/plain": [
       "<Figure size 432x288 with 1 Axes>"
      ]
     },
     "metadata": {
      "needs_background": "light"
     },
     "output_type": "display_data"
    }
   ],
   "source": [
    "contract['MonthlyCharges'].hist(bins = 150)"
   ]
  },
  {
   "cell_type": "markdown",
   "metadata": {},
   "source": [
    "Boxplot"
   ]
  },
  {
   "cell_type": "code",
   "execution_count": 30,
   "metadata": {},
   "outputs": [
    {
     "data": {
      "text/plain": [
       "<matplotlib.axes._subplots.AxesSubplot at 0x209696a6e48>"
      ]
     },
     "execution_count": 30,
     "metadata": {},
     "output_type": "execute_result"
    },
    {
     "data": {
      "image/png": "[encoded data removed]",
      "text/plain": [
       "<Figure size 432x288 with 1 Axes>"
      ]
     },
     "metadata": {
      "needs_background": "light"
     },
     "output_type": "display_data"
    }
   ],
   "source": [
    "contract.boxplot('MonthlyCharges')"
   ]
  },
  {
   "cell_type": "markdown",
   "metadata": {},
   "source": [
    "The median monthly check is $ 65. At the same time, the majority of customers don't pay much\n",
    "\n",
    "_Let's take a closer look at why customers pay so differently and whether the value of the monthly receipt depends on the services provided_"
   ]
  },
  {
   "cell_type": "markdown",
   "metadata": {},
   "source": [
    "__Average Charges and payment method__"
   ]
  },
  {
   "cell_type": "code",
   "execution_count": 31,
   "metadata": {},
   "outputs": [
    {
     "data": {
      "text/html": [
       "<div>\n",
       "<style scoped>\n",
       "    .dataframe tbody tr th:only-of-type {\n",
       "        vertical-align: middle;\n",
       "    }\n",
       "\n",
       "    .dataframe tbody tr th {\n",
       "        vertical-align: top;\n",
       "    }\n",
       "\n",
       "    .dataframe thead tr th {\n",
       "        text-align: left;\n",
       "    }\n",
       "\n",
       "    .dataframe thead tr:last-of-type th {\n",
       "        text-align: right;\n",
       "    }\n",
       "</style>\n",
       "<table border=\"1\" class=\"dataframe\">\n",
       "  <thead>\n",
       "    <tr>\n",
       "      <th></th>\n",
       "      <th>mean</th>\n",
       "      <th>median</th>\n",
       "    </tr>\n",
       "    <tr>\n",
       "      <th></th>\n",
       "      <th>MonthlyCharges</th>\n",
       "      <th>MonthlyCharges</th>\n",
       "    </tr>\n",
       "    <tr>\n",
       "      <th>Type</th>\n",
       "      <th></th>\n",
       "      <th></th>\n",
       "    </tr>\n",
       "  </thead>\n",
       "  <tbody>\n",
       "    <tr>\n",
       "      <td>Month-to-month</td>\n",
       "      <td>66.398490</td>\n",
       "      <td>73.25</td>\n",
       "    </tr>\n",
       "    <tr>\n",
       "      <td>One year</td>\n",
       "      <td>65.048608</td>\n",
       "      <td>68.75</td>\n",
       "    </tr>\n",
       "    <tr>\n",
       "      <td>Two year</td>\n",
       "      <td>60.770413</td>\n",
       "      <td>64.35</td>\n",
       "    </tr>\n",
       "  </tbody>\n",
       "</table>\n",
       "</div>"
      ],
      "text/plain": [
       "                         mean         median\n",
       "               MonthlyCharges MonthlyCharges\n",
       "Type                                        \n",
       "Month-to-month      66.398490          73.25\n",
       "One year            65.048608          68.75\n",
       "Two year            60.770413          64.35"
      ]
     },
     "execution_count": 31,
     "metadata": {},
     "output_type": "execute_result"
    }
   ],
   "source": [
    "contract.pivot_table(index = 'Type', values = 'MonthlyCharges', aggfunc = ['mean', 'median'])"
   ]
  },
  {
   "cell_type": "markdown",
   "metadata": {},
   "source": [
    "The dependence of the average receipt on the type of payment is insignificant.\n",
    "\n",
    "There is no more interesting data in the contract table. It's time to merge other tables and see what they can tell us"
   ]
  },
  {
   "cell_type": "markdown",
   "metadata": {},
   "source": [
    "#### MonthlyCharges and the internet connection"
   ]
  },
  {
   "cell_type": "code",
   "execution_count": 32,
   "metadata": {},
   "outputs": [
    {
     "data": {
      "text/html": [
       "<div>\n",
       "<style scoped>\n",
       "    .dataframe tbody tr th:only-of-type {\n",
       "        vertical-align: middle;\n",
       "    }\n",
       "\n",
       "    .dataframe tbody tr th {\n",
       "        vertical-align: top;\n",
       "    }\n",
       "\n",
       "    .dataframe thead tr th {\n",
       "        text-align: left;\n",
       "    }\n",
       "\n",
       "    .dataframe thead tr:last-of-type th {\n",
       "        text-align: right;\n",
       "    }\n",
       "</style>\n",
       "<table border=\"1\" class=\"dataframe\">\n",
       "  <thead>\n",
       "    <tr>\n",
       "      <th></th>\n",
       "      <th>mean</th>\n",
       "      <th>median</th>\n",
       "    </tr>\n",
       "    <tr>\n",
       "      <th></th>\n",
       "      <th>MonthlyCharges</th>\n",
       "      <th>MonthlyCharges</th>\n",
       "    </tr>\n",
       "    <tr>\n",
       "      <th>InternetService</th>\n",
       "      <th></th>\n",
       "      <th></th>\n",
       "    </tr>\n",
       "  </thead>\n",
       "  <tbody>\n",
       "    <tr>\n",
       "      <td>DSL</td>\n",
       "      <td>58.102169</td>\n",
       "      <td>56.150</td>\n",
       "    </tr>\n",
       "    <tr>\n",
       "      <td>Fiber optic</td>\n",
       "      <td>91.500129</td>\n",
       "      <td>91.675</td>\n",
       "    </tr>\n",
       "  </tbody>\n",
       "</table>\n",
       "</div>"
      ],
      "text/plain": [
       "                          mean         median\n",
       "                MonthlyCharges MonthlyCharges\n",
       "InternetService                              \n",
       "DSL                  58.102169         56.150\n",
       "Fiber optic          91.500129         91.675"
      ]
     },
     "execution_count": 32,
     "metadata": {},
     "output_type": "execute_result"
    }
   ],
   "source": [
    "contract.merge(internet, on='customerID', how='left').pivot_table(\n",
    "    index = ['InternetService'], values = 'MonthlyCharges', aggfunc = ['mean', 'median'])"
   ]
  },
  {
   "cell_type": "markdown",
   "metadata": {},
   "source": [
    "Fiber optic is more expensive. Customers pay almost twice as much for Fiber Optic as for DSL, which is logical: the service is more modern and faster in Connection speed. In General, the amount of the receipt becomes larger the more additional services the user connects to the Internet"
   ]
  },
  {
   "cell_type": "code",
   "execution_count": 33,
   "metadata": {},
   "outputs": [
    {
     "data": {
      "text/html": [
       "<div>\n",
       "<style scoped>\n",
       "    .dataframe tbody tr th:only-of-type {\n",
       "        vertical-align: middle;\n",
       "    }\n",
       "\n",
       "    .dataframe tbody tr th {\n",
       "        vertical-align: top;\n",
       "    }\n",
       "\n",
       "    .dataframe thead th {\n",
       "        text-align: right;\n",
       "    }\n",
       "</style>\n",
       "<table border=\"1\" class=\"dataframe\">\n",
       "  <thead>\n",
       "    <tr style=\"text-align: right;\">\n",
       "      <th></th>\n",
       "      <th></th>\n",
       "      <th></th>\n",
       "      <th></th>\n",
       "      <th></th>\n",
       "      <th></th>\n",
       "      <th></th>\n",
       "      <th>MonthlyCharges</th>\n",
       "    </tr>\n",
       "    <tr>\n",
       "      <th>InternetService</th>\n",
       "      <th>OnlineSecurity</th>\n",
       "      <th>OnlineBackup</th>\n",
       "      <th>DeviceProtection</th>\n",
       "      <th>TechSupport</th>\n",
       "      <th>StreamingTV</th>\n",
       "      <th>StreamingMovies</th>\n",
       "      <th></th>\n",
       "    </tr>\n",
       "  </thead>\n",
       "  <tbody>\n",
       "    <tr>\n",
       "      <td rowspan=\"5\" valign=\"top\">DSL</td>\n",
       "      <td rowspan=\"4\" valign=\"top\">No</td>\n",
       "      <td rowspan=\"2\" valign=\"top\">No</td>\n",
       "      <td rowspan=\"2\" valign=\"top\">No</td>\n",
       "      <td>No</td>\n",
       "      <td>No</td>\n",
       "      <td>No</td>\n",
       "      <td>40.277721</td>\n",
       "    </tr>\n",
       "    <tr>\n",
       "      <td>Yes</td>\n",
       "      <td>No</td>\n",
       "      <td>No</td>\n",
       "      <td>44.731757</td>\n",
       "    </tr>\n",
       "    <tr>\n",
       "      <td>Yes</td>\n",
       "      <td>No</td>\n",
       "      <td>No</td>\n",
       "      <td>No</td>\n",
       "      <td>No</td>\n",
       "      <td>44.793814</td>\n",
       "    </tr>\n",
       "    <tr>\n",
       "      <td>No</td>\n",
       "      <td>Yes</td>\n",
       "      <td>No</td>\n",
       "      <td>No</td>\n",
       "      <td>No</td>\n",
       "      <td>46.567000</td>\n",
       "    </tr>\n",
       "    <tr>\n",
       "      <td>Yes</td>\n",
       "      <td>No</td>\n",
       "      <td>No</td>\n",
       "      <td>No</td>\n",
       "      <td>No</td>\n",
       "      <td>No</td>\n",
       "      <td>47.075943</td>\n",
       "    </tr>\n",
       "    <tr>\n",
       "      <td>...</td>\n",
       "      <td>...</td>\n",
       "      <td>...</td>\n",
       "      <td>...</td>\n",
       "      <td>...</td>\n",
       "      <td>...</td>\n",
       "      <td>...</td>\n",
       "      <td>...</td>\n",
       "    </tr>\n",
       "    <tr>\n",
       "      <td rowspan=\"5\" valign=\"top\">Fiber optic</td>\n",
       "      <td rowspan=\"3\" valign=\"top\">Yes</td>\n",
       "      <td>Yes</td>\n",
       "      <td>No</td>\n",
       "      <td>Yes</td>\n",
       "      <td>Yes</td>\n",
       "      <td>Yes</td>\n",
       "      <td>107.889394</td>\n",
       "    </tr>\n",
       "    <tr>\n",
       "      <td>No</td>\n",
       "      <td>Yes</td>\n",
       "      <td>Yes</td>\n",
       "      <td>Yes</td>\n",
       "      <td>Yes</td>\n",
       "      <td>108.446154</td>\n",
       "    </tr>\n",
       "    <tr>\n",
       "      <td>Yes</td>\n",
       "      <td>Yes</td>\n",
       "      <td>No</td>\n",
       "      <td>Yes</td>\n",
       "      <td>Yes</td>\n",
       "      <td>108.793750</td>\n",
       "    </tr>\n",
       "    <tr>\n",
       "      <td>No</td>\n",
       "      <td>Yes</td>\n",
       "      <td>Yes</td>\n",
       "      <td>Yes</td>\n",
       "      <td>Yes</td>\n",
       "      <td>Yes</td>\n",
       "      <td>109.110092</td>\n",
       "    </tr>\n",
       "    <tr>\n",
       "      <td>Yes</td>\n",
       "      <td>Yes</td>\n",
       "      <td>Yes</td>\n",
       "      <td>Yes</td>\n",
       "      <td>Yes</td>\n",
       "      <td>Yes</td>\n",
       "      <td>114.311702</td>\n",
       "    </tr>\n",
       "  </tbody>\n",
       "</table>\n",
       "<p>128 rows × 1 columns</p>\n",
       "</div>"
      ],
      "text/plain": [
       "                                                                                                      MonthlyCharges\n",
       "InternetService OnlineSecurity OnlineBackup DeviceProtection TechSupport StreamingTV StreamingMovies                \n",
       "DSL             No             No           No               No          No          No                    40.277721\n",
       "                                                             Yes         No          No                    44.731757\n",
       "                               Yes          No               No          No          No                    44.793814\n",
       "                               No           Yes              No          No          No                    46.567000\n",
       "                Yes            No           No               No          No          No                    47.075943\n",
       "...                                                                                                              ...\n",
       "Fiber optic     Yes            Yes          No               Yes         Yes         Yes                  107.889394\n",
       "                               No           Yes              Yes         Yes         Yes                  108.446154\n",
       "                               Yes          Yes              No          Yes         Yes                  108.793750\n",
       "                No             Yes          Yes              Yes         Yes         Yes                  109.110092\n",
       "                Yes            Yes          Yes              Yes         Yes         Yes                  114.311702\n",
       "\n",
       "[128 rows x 1 columns]"
      ]
     },
     "execution_count": 33,
     "metadata": {},
     "output_type": "execute_result"
    }
   ],
   "source": [
    "contract.merge(internet, on='customerID', how='left').pivot_table(\n",
    "    index = [\n",
    "        'InternetService', 'OnlineSecurity', 'OnlineBackup', 'DeviceProtection', 'TechSupport', 'StreamingTV', 'StreamingMovies'],\n",
    "    values = 'MonthlyCharges').sort_values(\n",
    "    by = 'MonthlyCharges')"
   ]
  },
  {
   "cell_type": "markdown",
   "metadata": {},
   "source": [
    "_The most precious thing is to hear Yes to all questions (quote)_"
   ]
  },
  {
   "cell_type": "markdown",
   "metadata": {},
   "source": [
    "#### Dial Services"
   ]
  },
  {
   "cell_type": "markdown",
   "metadata": {},
   "source": [
    "In the table with telephone services, there is only a column: whether the client is connected to several lines at the same time. Multiple lines bring a larger check"
   ]
  },
  {
   "cell_type": "code",
   "execution_count": 34,
   "metadata": {},
   "outputs": [
    {
     "data": {
      "text/html": [
       "<div>\n",
       "<style scoped>\n",
       "    .dataframe tbody tr th:only-of-type {\n",
       "        vertical-align: middle;\n",
       "    }\n",
       "\n",
       "    .dataframe tbody tr th {\n",
       "        vertical-align: top;\n",
       "    }\n",
       "\n",
       "    .dataframe thead th {\n",
       "        text-align: right;\n",
       "    }\n",
       "</style>\n",
       "<table border=\"1\" class=\"dataframe\">\n",
       "  <thead>\n",
       "    <tr style=\"text-align: right;\">\n",
       "      <th></th>\n",
       "      <th>MonthlyCharges</th>\n",
       "    </tr>\n",
       "    <tr>\n",
       "      <th>MultipleLines</th>\n",
       "      <th></th>\n",
       "    </tr>\n",
       "  </thead>\n",
       "  <tbody>\n",
       "    <tr>\n",
       "      <td>No</td>\n",
       "      <td>54.195059</td>\n",
       "    </tr>\n",
       "    <tr>\n",
       "      <td>Yes</td>\n",
       "      <td>82.036974</td>\n",
       "    </tr>\n",
       "  </tbody>\n",
       "</table>\n",
       "</div>"
      ],
      "text/plain": [
       "               MonthlyCharges\n",
       "MultipleLines                \n",
       "No                  54.195059\n",
       "Yes                 82.036974"
      ]
     },
     "execution_count": 34,
     "metadata": {},
     "output_type": "execute_result"
    }
   ],
   "source": [
    "contract.merge(phone, on='customerID', how='left').pivot_table(\n",
    "    index = ['MultipleLines'], values = 'MonthlyCharges')"
   ]
  },
  {
   "cell_type": "markdown",
   "metadata": {},
   "source": [
    "#### And personal data"
   ]
  },
  {
   "cell_type": "markdown",
   "metadata": {},
   "source": [
    "Table, similar to the internet one, but with personal data. Let's take a look at the average bill"
   ]
  },
  {
   "cell_type": "markdown",
   "metadata": {},
   "source": [
    "__Single men pay the least (60 per month), non - single men- most of all (68 per month):__"
   ]
  },
  {
   "cell_type": "code",
   "execution_count": 35,
   "metadata": {},
   "outputs": [
    {
     "data": {
      "text/html": [
       "<div>\n",
       "<style scoped>\n",
       "    .dataframe tbody tr th:only-of-type {\n",
       "        vertical-align: middle;\n",
       "    }\n",
       "\n",
       "    .dataframe tbody tr th {\n",
       "        vertical-align: top;\n",
       "    }\n",
       "\n",
       "    .dataframe thead th {\n",
       "        text-align: right;\n",
       "    }\n",
       "</style>\n",
       "<table border=\"1\" class=\"dataframe\">\n",
       "  <thead>\n",
       "    <tr style=\"text-align: right;\">\n",
       "      <th></th>\n",
       "      <th></th>\n",
       "      <th>MonthlyCharges</th>\n",
       "    </tr>\n",
       "    <tr>\n",
       "      <th>Partner</th>\n",
       "      <th>gender</th>\n",
       "      <th></th>\n",
       "    </tr>\n",
       "  </thead>\n",
       "  <tbody>\n",
       "    <tr>\n",
       "      <td rowspan=\"2\" valign=\"top\">No</td>\n",
       "      <td>Female</td>\n",
       "      <td>63.874111</td>\n",
       "    </tr>\n",
       "    <tr>\n",
       "      <td>Male</td>\n",
       "      <td>60.058854</td>\n",
       "    </tr>\n",
       "    <tr>\n",
       "      <td rowspan=\"2\" valign=\"top\">Yes</td>\n",
       "      <td>Female</td>\n",
       "      <td>66.622630</td>\n",
       "    </tr>\n",
       "    <tr>\n",
       "      <td>Male</td>\n",
       "      <td>68.912398</td>\n",
       "    </tr>\n",
       "  </tbody>\n",
       "</table>\n",
       "</div>"
      ],
      "text/plain": [
       "                MonthlyCharges\n",
       "Partner gender                \n",
       "No      Female       63.874111\n",
       "        Male         60.058854\n",
       "Yes     Female       66.622630\n",
       "        Male         68.912398"
      ]
     },
     "execution_count": 35,
     "metadata": {},
     "output_type": "execute_result"
    }
   ],
   "source": [
    "contract.merge(personal, on='customerID', how='left').pivot_table(\n",
    "    index = ['Partner','gender'\n",
    "            ], values = 'MonthlyCharges')"
   ]
  },
  {
   "cell_type": "markdown",
   "metadata": {},
   "source": [
    "__Senior Citizens, surprisingly, pay more than people of pre-retirement age: 62 vs 80:__"
   ]
  },
  {
   "cell_type": "code",
   "execution_count": 36,
   "metadata": {},
   "outputs": [
    {
     "data": {
      "text/html": [
       "<div>\n",
       "<style scoped>\n",
       "    .dataframe tbody tr th:only-of-type {\n",
       "        vertical-align: middle;\n",
       "    }\n",
       "\n",
       "    .dataframe tbody tr th {\n",
       "        vertical-align: top;\n",
       "    }\n",
       "\n",
       "    .dataframe thead th {\n",
       "        text-align: right;\n",
       "    }\n",
       "</style>\n",
       "<table border=\"1\" class=\"dataframe\">\n",
       "  <thead>\n",
       "    <tr style=\"text-align: right;\">\n",
       "      <th></th>\n",
       "      <th>MonthlyCharges</th>\n",
       "    </tr>\n",
       "    <tr>\n",
       "      <th>SeniorCitizen</th>\n",
       "      <th></th>\n",
       "    </tr>\n",
       "  </thead>\n",
       "  <tbody>\n",
       "    <tr>\n",
       "      <td>0</td>\n",
       "      <td>61.847441</td>\n",
       "    </tr>\n",
       "    <tr>\n",
       "      <td>1</td>\n",
       "      <td>79.820359</td>\n",
       "    </tr>\n",
       "  </tbody>\n",
       "</table>\n",
       "</div>"
      ],
      "text/plain": [
       "               MonthlyCharges\n",
       "SeniorCitizen                \n",
       "0                   61.847441\n",
       "1                   79.820359"
      ]
     },
     "execution_count": 36,
     "metadata": {},
     "output_type": "execute_result"
    }
   ],
   "source": [
    "contract.merge(personal, on='customerID', how='left').pivot_table(\n",
    "    index = ['SeniorCitizen'\n",
    "            ], values = 'MonthlyCharges')"
   ]
  },
  {
   "cell_type": "markdown",
   "metadata": {},
   "source": [
    "__Customers with dependents pay less for Telecom than customers without them: 60 and 67 respectively__"
   ]
  },
  {
   "cell_type": "code",
   "execution_count": 37,
   "metadata": {},
   "outputs": [
    {
     "data": {
      "text/html": [
       "<div>\n",
       "<style scoped>\n",
       "    .dataframe tbody tr th:only-of-type {\n",
       "        vertical-align: middle;\n",
       "    }\n",
       "\n",
       "    .dataframe tbody tr th {\n",
       "        vertical-align: top;\n",
       "    }\n",
       "\n",
       "    .dataframe thead th {\n",
       "        text-align: right;\n",
       "    }\n",
       "</style>\n",
       "<table border=\"1\" class=\"dataframe\">\n",
       "  <thead>\n",
       "    <tr style=\"text-align: right;\">\n",
       "      <th></th>\n",
       "      <th>MonthlyCharges</th>\n",
       "    </tr>\n",
       "    <tr>\n",
       "      <th>Dependents</th>\n",
       "      <th></th>\n",
       "    </tr>\n",
       "  </thead>\n",
       "  <tbody>\n",
       "    <tr>\n",
       "      <td>No</td>\n",
       "      <td>67.002808</td>\n",
       "    </tr>\n",
       "    <tr>\n",
       "      <td>Yes</td>\n",
       "      <td>59.522156</td>\n",
       "    </tr>\n",
       "  </tbody>\n",
       "</table>\n",
       "</div>"
      ],
      "text/plain": [
       "            MonthlyCharges\n",
       "Dependents                \n",
       "No               67.002808\n",
       "Yes              59.522156"
      ]
     },
     "execution_count": 37,
     "metadata": {},
     "output_type": "execute_result"
    }
   ],
   "source": [
    "contract.merge(personal, on='customerID', how='left').pivot_table(\n",
    "    index = ['Dependents'\n",
    "            ], values = 'MonthlyCharges')"
   ]
  },
  {
   "cell_type": "markdown",
   "metadata": {},
   "source": [
    "### About the monthly charges"
   ]
  },
  {
   "cell_type": "markdown",
   "metadata": {},
   "source": [
    "- The data is discrete enough, which is logical - the monthly fee should not vary from client to client as a continuous value - users pay for services at established prices\n",
    "- The median monthly check is 65\n",
    "\n",
    "Let's take a closer look at why customers pay so differently and whether the value of the monthly receipt depends on the services provided:\n",
    "\n",
    "- On average, customers pay almost twice as much for Fiber Optic as for DSL, which is logical: the service is more modern and faster in connection speed. In General, the amount of the receipt becomes larger the more additional services the user connects to the Internet\n",
    "- In the table with telephone services, there is only a column whether the client is connected to several lines at the same time. Multiple lines bring a larger check\n",
    "- Single men pay the least (60 per month), non - single men pay most of all (68 per month). In general, the average monthly payment increases from the presence of a partner\n",
    "- Clients with dependents on average pay less for Telecom than clients without them: 60 and 67 respectively\n",
    "- Senior Citizens, surprisingly, pay more than people of pre-retirement age: 62 against 80. Maybe they manage to be fooled by the company managers"
   ]
  },
  {
   "cell_type": "markdown",
   "metadata": {},
   "source": [
    "### The main question: churn"
   ]
  },
  {
   "cell_type": "markdown",
   "metadata": {},
   "source": [
    "Previously, during preprocessing, `live_contract` column was created. Values of `live_contract` are either abscent, or show the result of substraction of Begin Date and the End Date of the contract, in days"
   ]
  },
  {
   "cell_type": "markdown",
   "metadata": {},
   "source": [
    "#### `live contract` for those who quit"
   ]
  },
  {
   "cell_type": "code",
   "execution_count": 38,
   "metadata": {},
   "outputs": [
    {
     "data": {
      "text/plain": [
       "<matplotlib.axes._subplots.AxesSubplot at 0x20969a60788>"
      ]
     },
     "execution_count": 38,
     "metadata": {},
     "output_type": "execute_result"
    },
    {
     "data": {
      "image/png": "[encoded data removed]",
      "text/plain": [
       "<Figure size 432x288 with 1 Axes>"
      ]
     },
     "metadata": {
      "needs_background": "light"
     },
     "output_type": "display_data"
    }
   ],
   "source": [
    "contract['live_contract'].hist(bins = 30)"
   ]
  },
  {
   "cell_type": "markdown",
   "metadata": {},
   "source": [
    "The majority quits in the first year, but old, loyal customers also sometimes get lost. The distribution looks like a Poisson distribution"
   ]
  },
  {
   "cell_type": "code",
   "execution_count": 39,
   "metadata": {},
   "outputs": [
    {
     "data": {
      "text/plain": [
       "count    1869.000000\n",
       "mean      547.352060\n",
       "std       594.389607\n",
       "min        30.000000\n",
       "25%        61.000000\n",
       "50%       304.000000\n",
       "75%       883.000000\n",
       "max      2191.000000\n",
       "Name: live_contract, dtype: float64"
      ]
     },
     "execution_count": 39,
     "metadata": {},
     "output_type": "execute_result"
    }
   ],
   "source": [
    "contract['live_contract'].describe()"
   ]
  },
  {
   "cell_type": "markdown",
   "metadata": {},
   "source": [
    "Half of the clients actually quit within the first 300 days of signing the contract. At the same time, the average time to use the company's services is twice longer - 600 days, thanks to those loyal customers who left after 2000 days"
   ]
  },
  {
   "cell_type": "markdown",
   "metadata": {},
   "source": [
    "#### Typical churn..."
   ]
  },
  {
   "cell_type": "code",
   "execution_count": 40,
   "metadata": {},
   "outputs": [
    {
     "data": {
      "text/html": [
       "<div>\n",
       "<style scoped>\n",
       "    .dataframe tbody tr th:only-of-type {\n",
       "        vertical-align: middle;\n",
       "    }\n",
       "\n",
       "    .dataframe tbody tr th {\n",
       "        vertical-align: top;\n",
       "    }\n",
       "\n",
       "    .dataframe thead th {\n",
       "        text-align: right;\n",
       "    }\n",
       "</style>\n",
       "<table border=\"1\" class=\"dataframe\">\n",
       "  <thead>\n",
       "    <tr style=\"text-align: right;\">\n",
       "      <th></th>\n",
       "      <th>customerID</th>\n",
       "      <th>BeginDate</th>\n",
       "      <th>Type</th>\n",
       "      <th>PaperlessBilling</th>\n",
       "      <th>PaymentMethod</th>\n",
       "      <th>MonthlyCharges</th>\n",
       "      <th>TotalCharges</th>\n",
       "      <th>actualend</th>\n",
       "      <th>live_contract</th>\n",
       "    </tr>\n",
       "  </thead>\n",
       "  <tbody>\n",
       "    <tr>\n",
       "      <td>2</td>\n",
       "      <td>3668-QPYBK</td>\n",
       "      <td>2019-10-01</td>\n",
       "      <td>Month-to-month</td>\n",
       "      <td>Yes</td>\n",
       "      <td>Mailed check</td>\n",
       "      <td>53.85</td>\n",
       "      <td>108.15</td>\n",
       "      <td>2019-12-01</td>\n",
       "      <td>61.0</td>\n",
       "    </tr>\n",
       "    <tr>\n",
       "      <td>4</td>\n",
       "      <td>9237-HQITU</td>\n",
       "      <td>2019-09-01</td>\n",
       "      <td>Month-to-month</td>\n",
       "      <td>Yes</td>\n",
       "      <td>Electronic check</td>\n",
       "      <td>70.70</td>\n",
       "      <td>151.65</td>\n",
       "      <td>2019-11-01</td>\n",
       "      <td>61.0</td>\n",
       "    </tr>\n",
       "    <tr>\n",
       "      <td>5</td>\n",
       "      <td>9305-CDSKC</td>\n",
       "      <td>2019-03-01</td>\n",
       "      <td>Month-to-month</td>\n",
       "      <td>Yes</td>\n",
       "      <td>Electronic check</td>\n",
       "      <td>99.65</td>\n",
       "      <td>820.50</td>\n",
       "      <td>2019-11-01</td>\n",
       "      <td>245.0</td>\n",
       "    </tr>\n",
       "  </tbody>\n",
       "</table>\n",
       "</div>"
      ],
      "text/plain": [
       "   customerID  BeginDate            Type PaperlessBilling     PaymentMethod  \\\n",
       "2  3668-QPYBK 2019-10-01  Month-to-month              Yes      Mailed check   \n",
       "4  9237-HQITU 2019-09-01  Month-to-month              Yes  Electronic check   \n",
       "5  9305-CDSKC 2019-03-01  Month-to-month              Yes  Electronic check   \n",
       "\n",
       "   MonthlyCharges  TotalCharges  actualend  live_contract  \n",
       "2           53.85        108.15 2019-12-01           61.0  \n",
       "4           70.70        151.65 2019-11-01           61.0  \n",
       "5           99.65        820.50 2019-11-01          245.0  "
      ]
     },
     "execution_count": 40,
     "metadata": {},
     "output_type": "execute_result"
    }
   ],
   "source": [
    "churn = contract.loc[contract['live_contract'].notna()]\n",
    "\n",
    "churn.head(3)"
   ]
  },
  {
   "cell_type": "markdown",
   "metadata": {},
   "source": [
    "__...pays mothly__"
   ]
  },
  {
   "cell_type": "markdown",
   "metadata": {},
   "source": [
    "Contract types for all clients"
   ]
  },
  {
   "cell_type": "code",
   "execution_count": 41,
   "metadata": {},
   "outputs": [
    {
     "data": {
      "text/plain": [
       "Month-to-month    55.019168\n",
       "Two year          24.066449\n",
       "One year          20.914383\n",
       "Name: Type, dtype: float64"
      ]
     },
     "execution_count": 41,
     "metadata": {},
     "output_type": "execute_result"
    }
   ],
   "source": [
    "contract['Type'].value_counts(normalize=True) * 100"
   ]
  },
  {
   "cell_type": "markdown",
   "metadata": {},
   "source": [
    "Contract types for those who quit"
   ]
  },
  {
   "cell_type": "code",
   "execution_count": 42,
   "metadata": {},
   "outputs": [
    {
     "data": {
      "text/plain": [
       "Month-to-month    88.550027\n",
       "One year           8.881755\n",
       "Two year           2.568218\n",
       "Name: Type, dtype: float64"
      ]
     },
     "execution_count": 42,
     "metadata": {},
     "output_type": "execute_result"
    }
   ],
   "source": [
    "churn['Type'].value_counts(normalize=True) * 100"
   ]
  },
  {
   "cell_type": "markdown",
   "metadata": {},
   "source": [
    "Departed clients often have a monthly payment for the contract - with a monthly payment, it is easier to leave"
   ]
  },
  {
   "cell_type": "markdown",
   "metadata": {},
   "source": [
    "__...pays more__"
   ]
  },
  {
   "cell_type": "code",
   "execution_count": 43,
   "metadata": {},
   "outputs": [
    {
     "data": {
      "text/plain": [
       "64.76169246059922"
      ]
     },
     "execution_count": 43,
     "metadata": {},
     "output_type": "execute_result"
    }
   ],
   "source": [
    "contract['MonthlyCharges'].mean()"
   ]
  },
  {
   "cell_type": "code",
   "execution_count": 44,
   "metadata": {},
   "outputs": [
    {
     "data": {
      "text/plain": [
       "74.4413322632423"
      ]
     },
     "execution_count": 44,
     "metadata": {},
     "output_type": "execute_result"
    }
   ],
   "source": [
    "churn['MonthlyCharges'].mean()"
   ]
  },
  {
   "cell_type": "markdown",
   "metadata": {},
   "source": [
    "__... but in total paid less- because he quit__"
   ]
  },
  {
   "cell_type": "code",
   "execution_count": 45,
   "metadata": {},
   "outputs": [
    {
     "data": {
      "text/plain": [
       "2283.3004408418697"
      ]
     },
     "execution_count": 45,
     "metadata": {},
     "output_type": "execute_result"
    }
   ],
   "source": [
    "contract['TotalCharges'].mean()"
   ]
  },
  {
   "cell_type": "code",
   "execution_count": 46,
   "metadata": {},
   "outputs": [
    {
     "data": {
      "text/plain": [
       "1531.7960941680035"
      ]
     },
     "execution_count": 46,
     "metadata": {},
     "output_type": "execute_result"
    }
   ],
   "source": [
    "churn['TotalCharges'].mean()"
   ]
  },
  {
   "cell_type": "markdown",
   "metadata": {},
   "source": [
    "2283 vs 1531. It's an expensive thing to lose a client"
   ]
  },
  {
   "cell_type": "markdown",
   "metadata": {},
   "source": [
    "__...pays with Electronic Check__"
   ]
  },
  {
   "cell_type": "code",
   "execution_count": 47,
   "metadata": {},
   "outputs": [
    {
     "data": {
      "text/plain": [
       "Electronic check             33.579441\n",
       "Mailed check                 22.887974\n",
       "Bank transfer (automatic)    21.922476\n",
       "Credit card (automatic)      21.610109\n",
       "Name: PaymentMethod, dtype: float64"
      ]
     },
     "execution_count": 47,
     "metadata": {},
     "output_type": "execute_result"
    }
   ],
   "source": [
    "contract['PaymentMethod'].value_counts(normalize=True) * 100"
   ]
  },
  {
   "cell_type": "code",
   "execution_count": 48,
   "metadata": {},
   "outputs": [
    {
     "data": {
      "text/plain": [
       "Electronic check             57.303371\n",
       "Mailed check                 16.479401\n",
       "Bank transfer (automatic)    13.804173\n",
       "Credit card (automatic)      12.413055\n",
       "Name: PaymentMethod, dtype: float64"
      ]
     },
     "execution_count": 48,
     "metadata": {},
     "output_type": "execute_result"
    }
   ],
   "source": [
    "churn['PaymentMethod'].value_counts(normalize=True) * 100"
   ]
  },
  {
   "cell_type": "markdown",
   "metadata": {},
   "source": [
    "Electronic check: Among those who quit 75% and 60% among all"
   ]
  },
  {
   "cell_type": "code",
   "execution_count": 49,
   "metadata": {},
   "outputs": [
    {
     "data": {
      "text/plain": [
       "Yes    59.221922\n",
       "No     40.778078\n",
       "Name: PaperlessBilling, dtype: float64"
      ]
     },
     "execution_count": 49,
     "metadata": {},
     "output_type": "execute_result"
    }
   ],
   "source": [
    "contract['PaperlessBilling'].value_counts(normalize=True) * 100"
   ]
  },
  {
   "cell_type": "code",
   "execution_count": 50,
   "metadata": {},
   "outputs": [
    {
     "data": {
      "text/plain": [
       "Yes    74.906367\n",
       "No     25.093633\n",
       "Name: PaperlessBilling, dtype: float64"
      ]
     },
     "execution_count": 50,
     "metadata": {},
     "output_type": "execute_result"
    }
   ],
   "source": [
    "churn['PaperlessBilling'].value_counts(normalize=True) * 100"
   ]
  },
  {
   "cell_type": "markdown",
   "metadata": {},
   "source": [
    "More than half of the clients who left paid for services electronically. At the same time, only a third of all clients in the pay electronically.\n",
    "\n",
    "\"Electronic\" clients go to competitors more often"
   ]
  },
  {
   "cell_type": "markdown",
   "metadata": {},
   "source": [
    "#### Churn and personal data"
   ]
  },
  {
   "cell_type": "markdown",
   "metadata": {},
   "source": [
    "__No bounds with gender__"
   ]
  },
  {
   "cell_type": "code",
   "execution_count": 51,
   "metadata": {},
   "outputs": [
    {
     "data": {
      "text/plain": [
       "Male      50.47565\n",
       "Female    49.52435\n",
       "Name: gender, dtype: float64"
      ]
     },
     "execution_count": 51,
     "metadata": {},
     "output_type": "execute_result"
    }
   ],
   "source": [
    "contract.merge(personal, on='customerID', how='left')['gender'].value_counts(normalize=True) * 100"
   ]
  },
  {
   "cell_type": "code",
   "execution_count": 52,
   "metadata": {},
   "outputs": [
    {
     "data": {
      "text/plain": [
       "Female    50.24077\n",
       "Male      49.75923\n",
       "Name: gender, dtype: float64"
      ]
     },
     "execution_count": 52,
     "metadata": {},
     "output_type": "execute_result"
    }
   ],
   "source": [
    "churn.merge(personal, on='customerID', how='left')['gender'].value_counts(normalize=True) * 100"
   ]
  },
  {
   "cell_type": "markdown",
   "metadata": {},
   "source": [
    "There are only two genders: churn and non-churn."
   ]
  },
  {
   "cell_type": "markdown",
   "metadata": {},
   "source": [
    "__Dependants keep the client from quitting__"
   ]
  },
  {
   "cell_type": "code",
   "execution_count": 53,
   "metadata": {},
   "outputs": [
    {
     "data": {
      "text/plain": [
       "No     70.041176\n",
       "Yes    29.958824\n",
       "Name: Dependents, dtype: float64"
      ]
     },
     "execution_count": 53,
     "metadata": {},
     "output_type": "execute_result"
    }
   ],
   "source": [
    "contract.merge(personal, on='customerID', how='left')['Dependents'].value_counts(normalize=True) * 100"
   ]
  },
  {
   "cell_type": "code",
   "execution_count": 54,
   "metadata": {},
   "outputs": [
    {
     "data": {
      "text/plain": [
       "No     82.557517\n",
       "Yes    17.442483\n",
       "Name: Dependents, dtype: float64"
      ]
     },
     "execution_count": 54,
     "metadata": {},
     "output_type": "execute_result"
    }
   ],
   "source": [
    "churn.merge(personal, on='customerID', how='left')['Dependents'].value_counts(normalize=True) * 100"
   ]
  },
  {
   "cell_type": "markdown",
   "metadata": {},
   "source": [
    "30% among all clients have dependats. And only 17% among those who quit"
   ]
  },
  {
   "cell_type": "markdown",
   "metadata": {},
   "source": [
    "__There are more Senior Citizens among those who quit, compared to the united sample__"
   ]
  },
  {
   "cell_type": "code",
   "execution_count": 55,
   "metadata": {},
   "outputs": [
    {
     "data": {
      "text/plain": [
       "0    83.785319\n",
       "1    16.214681\n",
       "Name: SeniorCitizen, dtype: float64"
      ]
     },
     "execution_count": 55,
     "metadata": {},
     "output_type": "execute_result"
    }
   ],
   "source": [
    "contract.merge(personal, on='customerID', how='left')['SeniorCitizen'].value_counts(normalize=True) * 100"
   ]
  },
  {
   "cell_type": "code",
   "execution_count": 56,
   "metadata": {},
   "outputs": [
    {
     "data": {
      "text/plain": [
       "0    74.531835\n",
       "1    25.468165\n",
       "Name: SeniorCitizen, dtype: float64"
      ]
     },
     "execution_count": 56,
     "metadata": {},
     "output_type": "execute_result"
    }
   ],
   "source": [
    "churn.merge(personal, on='customerID', how='left')['SeniorCitizen'].value_counts(normalize=True) * 100"
   ]
  },
  {
   "cell_type": "markdown",
   "metadata": {},
   "source": [
    "16 percent among all VS 25 among those who left. Perhaps this is due to non-economic reasons, such as death (?). Important column for a future predictive model"
   ]
  },
  {
   "cell_type": "markdown",
   "metadata": {},
   "source": [
    "__Leaving client less probably has a partner__"
   ]
  },
  {
   "cell_type": "code",
   "execution_count": 57,
   "metadata": {},
   "outputs": [
    {
     "data": {
      "text/plain": [
       "No     51.69672\n",
       "Yes    48.30328\n",
       "Name: Partner, dtype: float64"
      ]
     },
     "execution_count": 57,
     "metadata": {},
     "output_type": "execute_result"
    }
   ],
   "source": [
    "contract.merge(personal, on='customerID', how='left')['Partner'].value_counts(normalize=True) * 100"
   ]
  },
  {
   "cell_type": "code",
   "execution_count": 58,
   "metadata": {},
   "outputs": [
    {
     "data": {
      "text/plain": [
       "No     64.205457\n",
       "Yes    35.794543\n",
       "Name: Partner, dtype: float64"
      ]
     },
     "execution_count": 58,
     "metadata": {},
     "output_type": "execute_result"
    }
   ],
   "source": [
    "churn.merge(personal, on='customerID', how='left')['Partner'].value_counts(normalize=True) * 100"
   ]
  },
  {
   "cell_type": "markdown",
   "metadata": {},
   "source": [
    "64% of the clients who quit are unmarried, compared to only half of them in the united sample. The situation is similar to dependents - family ties seem to keep the client from leaving.\n",
    "\n",
    "__We can create an additional column where the 1 will be for those who have both a partner and children. More connections, more loyalty to the brand.__"
   ]
  },
  {
   "cell_type": "markdown",
   "metadata": {},
   "source": [
    "### About the churn"
   ]
  },
  {
   "cell_type": "markdown",
   "metadata": {},
   "source": [
    "Previously, in preprocessing, a column was created with the time of using the company's services, the \"lifetime\" of the company's client\n",
    "\n",
    "- Most of them leave in the first year, but old, loyal customers are also sometimes lost. The distribution looks like a Poisson distribution\n",
    "\n",
    "- Average departed client: \n",
    " - Prefer a monthly payment type\n",
    "    - Pays by electronic payment, with an electronic check\n",
    "- - is more Likely to have no children and no partner\n",
    "    - More often it turns out to A Senior Citizen"
   ]
  },
  {
   "cell_type": "markdown",
   "metadata": {},
   "source": [
    "___"
   ]
  },
  {
   "cell_type": "markdown",
   "metadata": {},
   "source": [
    "# EDA Summary"
   ]
  },
  {
   "cell_type": "markdown",
   "metadata": {},
   "source": [
    "__In general__, there are 7043 entries with clients data, but tables with services include less rows- it depends whether the client uses or doesn't use the service\n",
    "\n",
    "Data has to be preprocessed: for the analysis and for ML\n",
    "\n",
    "`customerID` will help to merge the data"
   ]
  },
  {
   "cell_type": "markdown",
   "metadata": {},
   "source": [
    "_There are no outliers and duplicates. There are gaps caused by the abscence of the service usage of the clients_"
   ]
  },
  {
   "cell_type": "markdown",
   "metadata": {},
   "source": [
    "__Creating__ a new column with the contract duration if the contract is closed. In days"
   ]
  },
  {
   "cell_type": "markdown",
   "metadata": {},
   "source": [
    "__Charges__\n",
    "\n",
    "- The data is discrete enough, which is logical - the monthly fee should not vary from client to client as a continuous value - users pay for services at established prices\n",
    "- The median monthly check is 65\n",
    "\n",
    "Let's take a closer look at why customers pay so differently and whether the value of the monthly receipt depends on the services provided:\n",
    "\n",
    "- On average, customers pay almost twice as much for Fiber Optic as for DSL, which is logical: the service is more modern and faster in connection speed. In General, the amount of the receipt becomes larger the more additional services the user connects to the Internet\n",
    "- In the table with telephone services, there is only a column whether the client is connected to several lines at the same time. Multiple lines bring a larger check\n",
    "- Single men pay the least (60 per month), non - single men pay most of all (68 per month). In general, the average monthly payment increases from the presence of a partner\n",
    "- Clients with dependents on average pay less for Telecom than clients without them: 60 and 67 respectively\n",
    "- Senior Citizens, surprisingly, pay more than people of pre-retirement age: 62 against 80. Maybe they manage to be fooled by the company managers"
   ]
  },
  {
   "cell_type": "markdown",
   "metadata": {},
   "source": [
    "__Churn__"
   ]
  },
  {
   "cell_type": "markdown",
   "metadata": {},
   "source": [
    "Previously, in preprocessing, a column was created with the time of using the company's services, the \"lifetime\" of the company's client\n",
    "\n",
    "- Most of them leave in the first year, but old, loyal customers are also sometimes lost. The distribution looks like a Poisson distribution\n",
    "\n",
    "- Average departed client: \n",
    " - Prefer a monthly payment type\n",
    "    - Pays by electronic payment, with an electronic check\n",
    "- is more Likely to have no children and no partner\n",
    "    - More often it turns out to A Senior Citizen"
   ]
  },
  {
   "cell_type": "markdown",
   "metadata": {},
   "source": [
    "# Machine learning"
   ]
  },
  {
   "cell_type": "markdown",
   "metadata": {},
   "source": [
    "## Data formation\n",
    "\n",
    "Merging all data into one table"
   ]
  },
  {
   "cell_type": "code",
   "execution_count": 59,
   "metadata": {},
   "outputs": [
    {
     "data": {
      "text/html": [
       "<div>\n",
       "<style scoped>\n",
       "    .dataframe tbody tr th:only-of-type {\n",
       "        vertical-align: middle;\n",
       "    }\n",
       "\n",
       "    .dataframe tbody tr th {\n",
       "        vertical-align: top;\n",
       "    }\n",
       "\n",
       "    .dataframe thead th {\n",
       "        text-align: right;\n",
       "    }\n",
       "</style>\n",
       "<table border=\"1\" class=\"dataframe\">\n",
       "  <thead>\n",
       "    <tr style=\"text-align: right;\">\n",
       "      <th></th>\n",
       "      <th>customerID</th>\n",
       "      <th>BeginDate</th>\n",
       "      <th>Type</th>\n",
       "      <th>PaperlessBilling</th>\n",
       "      <th>PaymentMethod</th>\n",
       "      <th>MonthlyCharges</th>\n",
       "      <th>TotalCharges</th>\n",
       "      <th>actualend</th>\n",
       "      <th>live_contract</th>\n",
       "      <th>gender</th>\n",
       "      <th>...</th>\n",
       "      <th>Partner</th>\n",
       "      <th>Dependents</th>\n",
       "      <th>MultipleLines</th>\n",
       "      <th>InternetService</th>\n",
       "      <th>OnlineSecurity</th>\n",
       "      <th>OnlineBackup</th>\n",
       "      <th>DeviceProtection</th>\n",
       "      <th>TechSupport</th>\n",
       "      <th>StreamingTV</th>\n",
       "      <th>StreamingMovies</th>\n",
       "    </tr>\n",
       "  </thead>\n",
       "  <tbody>\n",
       "    <tr>\n",
       "      <td>0</td>\n",
       "      <td>7590-VHVEG</td>\n",
       "      <td>2020-01-01</td>\n",
       "      <td>Month-to-month</td>\n",
       "      <td>Yes</td>\n",
       "      <td>Electronic check</td>\n",
       "      <td>29.85</td>\n",
       "      <td>29.85</td>\n",
       "      <td>NaT</td>\n",
       "      <td>NaN</td>\n",
       "      <td>Female</td>\n",
       "      <td>...</td>\n",
       "      <td>Yes</td>\n",
       "      <td>No</td>\n",
       "      <td>NaN</td>\n",
       "      <td>DSL</td>\n",
       "      <td>No</td>\n",
       "      <td>Yes</td>\n",
       "      <td>No</td>\n",
       "      <td>No</td>\n",
       "      <td>No</td>\n",
       "      <td>No</td>\n",
       "    </tr>\n",
       "    <tr>\n",
       "      <td>1</td>\n",
       "      <td>5575-GNVDE</td>\n",
       "      <td>2017-04-01</td>\n",
       "      <td>One year</td>\n",
       "      <td>No</td>\n",
       "      <td>Mailed check</td>\n",
       "      <td>56.95</td>\n",
       "      <td>1889.50</td>\n",
       "      <td>NaT</td>\n",
       "      <td>NaN</td>\n",
       "      <td>Male</td>\n",
       "      <td>...</td>\n",
       "      <td>No</td>\n",
       "      <td>No</td>\n",
       "      <td>No</td>\n",
       "      <td>DSL</td>\n",
       "      <td>Yes</td>\n",
       "      <td>No</td>\n",
       "      <td>Yes</td>\n",
       "      <td>No</td>\n",
       "      <td>No</td>\n",
       "      <td>No</td>\n",
       "    </tr>\n",
       "    <tr>\n",
       "      <td>2</td>\n",
       "      <td>3668-QPYBK</td>\n",
       "      <td>2019-10-01</td>\n",
       "      <td>Month-to-month</td>\n",
       "      <td>Yes</td>\n",
       "      <td>Mailed check</td>\n",
       "      <td>53.85</td>\n",
       "      <td>108.15</td>\n",
       "      <td>2019-12-01</td>\n",
       "      <td>61.0</td>\n",
       "      <td>Male</td>\n",
       "      <td>...</td>\n",
       "      <td>No</td>\n",
       "      <td>No</td>\n",
       "      <td>No</td>\n",
       "      <td>DSL</td>\n",
       "      <td>Yes</td>\n",
       "      <td>Yes</td>\n",
       "      <td>No</td>\n",
       "      <td>No</td>\n",
       "      <td>No</td>\n",
       "      <td>No</td>\n",
       "    </tr>\n",
       "  </tbody>\n",
       "</table>\n",
       "<p>3 rows × 21 columns</p>\n",
       "</div>"
      ],
      "text/plain": [
       "   customerID  BeginDate            Type PaperlessBilling     PaymentMethod  \\\n",
       "0  7590-VHVEG 2020-01-01  Month-to-month              Yes  Electronic check   \n",
       "1  5575-GNVDE 2017-04-01        One year               No      Mailed check   \n",
       "2  3668-QPYBK 2019-10-01  Month-to-month              Yes      Mailed check   \n",
       "\n",
       "   MonthlyCharges  TotalCharges  actualend  live_contract  gender  ...  \\\n",
       "0           29.85         29.85        NaT            NaN  Female  ...   \n",
       "1           56.95       1889.50        NaT            NaN    Male  ...   \n",
       "2           53.85        108.15 2019-12-01           61.0    Male  ...   \n",
       "\n",
       "   Partner Dependents MultipleLines InternetService OnlineSecurity  \\\n",
       "0      Yes         No           NaN             DSL             No   \n",
       "1       No         No            No             DSL            Yes   \n",
       "2       No         No            No             DSL            Yes   \n",
       "\n",
       "  OnlineBackup DeviceProtection TechSupport StreamingTV StreamingMovies  \n",
       "0          Yes               No          No          No              No  \n",
       "1           No              Yes          No          No              No  \n",
       "2          Yes               No          No          No              No  \n",
       "\n",
       "[3 rows x 21 columns]"
      ]
     },
     "execution_count": 59,
     "metadata": {},
     "output_type": "execute_result"
    }
   ],
   "source": [
    "for_ml = contract.merge(personal, on='customerID', how='left')\n",
    "\n",
    "for_ml = for_ml.merge(phone, on='customerID', how='left')\n",
    "\n",
    "for_ml= for_ml.merge(internet, on='customerID', how='left')\n",
    "\n",
    "for_ml.head(3)"
   ]
  },
  {
   "cell_type": "markdown",
   "metadata": {},
   "source": [
    "`live_contract` gets the data for all clients. Those who haven't left the company get the contract duration as if they left on the parsing: 1st of February 2020"
   ]
  },
  {
   "cell_type": "markdown",
   "metadata": {},
   "source": [
    "## Target"
   ]
  },
  {
   "cell_type": "markdown",
   "metadata": {},
   "source": [
    "The clients whose `live_contract` is empty haven't stopped using our telecom services. For them target is 0, for those who decided to quit- 1. After filling the target values the `live_contract` column is filled"
   ]
  },
  {
   "cell_type": "code",
   "execution_count": 60,
   "metadata": {},
   "outputs": [],
   "source": [
    "for_ml['target'] = 0\n",
    "for_ml.loc[for_ml['live_contract'].notna(), 'target'] = 1"
   ]
  },
  {
   "cell_type": "code",
   "execution_count": 61,
   "metadata": {},
   "outputs": [
    {
     "data": {
      "text/html": [
       "<div>\n",
       "<style scoped>\n",
       "    .dataframe tbody tr th:only-of-type {\n",
       "        vertical-align: middle;\n",
       "    }\n",
       "\n",
       "    .dataframe tbody tr th {\n",
       "        vertical-align: top;\n",
       "    }\n",
       "\n",
       "    .dataframe thead th {\n",
       "        text-align: right;\n",
       "    }\n",
       "</style>\n",
       "<table border=\"1\" class=\"dataframe\">\n",
       "  <thead>\n",
       "    <tr style=\"text-align: right;\">\n",
       "      <th></th>\n",
       "      <th>customerID</th>\n",
       "      <th>BeginDate</th>\n",
       "      <th>Type</th>\n",
       "      <th>PaperlessBilling</th>\n",
       "      <th>PaymentMethod</th>\n",
       "      <th>MonthlyCharges</th>\n",
       "      <th>TotalCharges</th>\n",
       "      <th>actualend</th>\n",
       "      <th>live_contract</th>\n",
       "      <th>gender</th>\n",
       "      <th>...</th>\n",
       "      <th>Dependents</th>\n",
       "      <th>MultipleLines</th>\n",
       "      <th>InternetService</th>\n",
       "      <th>OnlineSecurity</th>\n",
       "      <th>OnlineBackup</th>\n",
       "      <th>DeviceProtection</th>\n",
       "      <th>TechSupport</th>\n",
       "      <th>StreamingTV</th>\n",
       "      <th>StreamingMovies</th>\n",
       "      <th>target</th>\n",
       "    </tr>\n",
       "  </thead>\n",
       "  <tbody>\n",
       "    <tr>\n",
       "      <td>0</td>\n",
       "      <td>7590-VHVEG</td>\n",
       "      <td>2020-01-01</td>\n",
       "      <td>Month-to-month</td>\n",
       "      <td>Yes</td>\n",
       "      <td>Electronic check</td>\n",
       "      <td>29.85</td>\n",
       "      <td>29.85</td>\n",
       "      <td>NaT</td>\n",
       "      <td>NaN</td>\n",
       "      <td>Female</td>\n",
       "      <td>...</td>\n",
       "      <td>No</td>\n",
       "      <td>NaN</td>\n",
       "      <td>DSL</td>\n",
       "      <td>No</td>\n",
       "      <td>Yes</td>\n",
       "      <td>No</td>\n",
       "      <td>No</td>\n",
       "      <td>No</td>\n",
       "      <td>No</td>\n",
       "      <td>0</td>\n",
       "    </tr>\n",
       "    <tr>\n",
       "      <td>1</td>\n",
       "      <td>5575-GNVDE</td>\n",
       "      <td>2017-04-01</td>\n",
       "      <td>One year</td>\n",
       "      <td>No</td>\n",
       "      <td>Mailed check</td>\n",
       "      <td>56.95</td>\n",
       "      <td>1889.50</td>\n",
       "      <td>NaT</td>\n",
       "      <td>NaN</td>\n",
       "      <td>Male</td>\n",
       "      <td>...</td>\n",
       "      <td>No</td>\n",
       "      <td>No</td>\n",
       "      <td>DSL</td>\n",
       "      <td>Yes</td>\n",
       "      <td>No</td>\n",
       "      <td>Yes</td>\n",
       "      <td>No</td>\n",
       "      <td>No</td>\n",
       "      <td>No</td>\n",
       "      <td>0</td>\n",
       "    </tr>\n",
       "    <tr>\n",
       "      <td>2</td>\n",
       "      <td>3668-QPYBK</td>\n",
       "      <td>2019-10-01</td>\n",
       "      <td>Month-to-month</td>\n",
       "      <td>Yes</td>\n",
       "      <td>Mailed check</td>\n",
       "      <td>53.85</td>\n",
       "      <td>108.15</td>\n",
       "      <td>2019-12-01</td>\n",
       "      <td>61.0</td>\n",
       "      <td>Male</td>\n",
       "      <td>...</td>\n",
       "      <td>No</td>\n",
       "      <td>No</td>\n",
       "      <td>DSL</td>\n",
       "      <td>Yes</td>\n",
       "      <td>Yes</td>\n",
       "      <td>No</td>\n",
       "      <td>No</td>\n",
       "      <td>No</td>\n",
       "      <td>No</td>\n",
       "      <td>1</td>\n",
       "    </tr>\n",
       "    <tr>\n",
       "      <td>3</td>\n",
       "      <td>7795-CFOCW</td>\n",
       "      <td>2016-05-01</td>\n",
       "      <td>One year</td>\n",
       "      <td>No</td>\n",
       "      <td>Bank transfer (automatic)</td>\n",
       "      <td>42.30</td>\n",
       "      <td>1840.75</td>\n",
       "      <td>NaT</td>\n",
       "      <td>NaN</td>\n",
       "      <td>Male</td>\n",
       "      <td>...</td>\n",
       "      <td>No</td>\n",
       "      <td>NaN</td>\n",
       "      <td>DSL</td>\n",
       "      <td>Yes</td>\n",
       "      <td>No</td>\n",
       "      <td>Yes</td>\n",
       "      <td>Yes</td>\n",
       "      <td>No</td>\n",
       "      <td>No</td>\n",
       "      <td>0</td>\n",
       "    </tr>\n",
       "    <tr>\n",
       "      <td>4</td>\n",
       "      <td>9237-HQITU</td>\n",
       "      <td>2019-09-01</td>\n",
       "      <td>Month-to-month</td>\n",
       "      <td>Yes</td>\n",
       "      <td>Electronic check</td>\n",
       "      <td>70.70</td>\n",
       "      <td>151.65</td>\n",
       "      <td>2019-11-01</td>\n",
       "      <td>61.0</td>\n",
       "      <td>Female</td>\n",
       "      <td>...</td>\n",
       "      <td>No</td>\n",
       "      <td>No</td>\n",
       "      <td>Fiber optic</td>\n",
       "      <td>No</td>\n",
       "      <td>No</td>\n",
       "      <td>No</td>\n",
       "      <td>No</td>\n",
       "      <td>No</td>\n",
       "      <td>No</td>\n",
       "      <td>1</td>\n",
       "    </tr>\n",
       "    <tr>\n",
       "      <td>...</td>\n",
       "      <td>...</td>\n",
       "      <td>...</td>\n",
       "      <td>...</td>\n",
       "      <td>...</td>\n",
       "      <td>...</td>\n",
       "      <td>...</td>\n",
       "      <td>...</td>\n",
       "      <td>...</td>\n",
       "      <td>...</td>\n",
       "      <td>...</td>\n",
       "      <td>...</td>\n",
       "      <td>...</td>\n",
       "      <td>...</td>\n",
       "      <td>...</td>\n",
       "      <td>...</td>\n",
       "      <td>...</td>\n",
       "      <td>...</td>\n",
       "      <td>...</td>\n",
       "      <td>...</td>\n",
       "      <td>...</td>\n",
       "      <td>...</td>\n",
       "    </tr>\n",
       "    <tr>\n",
       "      <td>7038</td>\n",
       "      <td>6840-RESVB</td>\n",
       "      <td>2018-02-01</td>\n",
       "      <td>One year</td>\n",
       "      <td>Yes</td>\n",
       "      <td>Mailed check</td>\n",
       "      <td>84.80</td>\n",
       "      <td>1990.50</td>\n",
       "      <td>NaT</td>\n",
       "      <td>NaN</td>\n",
       "      <td>Male</td>\n",
       "      <td>...</td>\n",
       "      <td>Yes</td>\n",
       "      <td>Yes</td>\n",
       "      <td>DSL</td>\n",
       "      <td>Yes</td>\n",
       "      <td>No</td>\n",
       "      <td>Yes</td>\n",
       "      <td>Yes</td>\n",
       "      <td>Yes</td>\n",
       "      <td>Yes</td>\n",
       "      <td>0</td>\n",
       "    </tr>\n",
       "    <tr>\n",
       "      <td>7039</td>\n",
       "      <td>2234-XADUH</td>\n",
       "      <td>2014-02-01</td>\n",
       "      <td>One year</td>\n",
       "      <td>Yes</td>\n",
       "      <td>Credit card (automatic)</td>\n",
       "      <td>103.20</td>\n",
       "      <td>7362.90</td>\n",
       "      <td>NaT</td>\n",
       "      <td>NaN</td>\n",
       "      <td>Female</td>\n",
       "      <td>...</td>\n",
       "      <td>Yes</td>\n",
       "      <td>Yes</td>\n",
       "      <td>Fiber optic</td>\n",
       "      <td>No</td>\n",
       "      <td>Yes</td>\n",
       "      <td>Yes</td>\n",
       "      <td>No</td>\n",
       "      <td>Yes</td>\n",
       "      <td>Yes</td>\n",
       "      <td>0</td>\n",
       "    </tr>\n",
       "    <tr>\n",
       "      <td>7040</td>\n",
       "      <td>4801-JZAZL</td>\n",
       "      <td>2019-03-01</td>\n",
       "      <td>Month-to-month</td>\n",
       "      <td>Yes</td>\n",
       "      <td>Electronic check</td>\n",
       "      <td>29.60</td>\n",
       "      <td>346.45</td>\n",
       "      <td>NaT</td>\n",
       "      <td>NaN</td>\n",
       "      <td>Female</td>\n",
       "      <td>...</td>\n",
       "      <td>Yes</td>\n",
       "      <td>NaN</td>\n",
       "      <td>DSL</td>\n",
       "      <td>Yes</td>\n",
       "      <td>No</td>\n",
       "      <td>No</td>\n",
       "      <td>No</td>\n",
       "      <td>No</td>\n",
       "      <td>No</td>\n",
       "      <td>0</td>\n",
       "    </tr>\n",
       "    <tr>\n",
       "      <td>7041</td>\n",
       "      <td>8361-LTMKD</td>\n",
       "      <td>2019-07-01</td>\n",
       "      <td>Month-to-month</td>\n",
       "      <td>Yes</td>\n",
       "      <td>Mailed check</td>\n",
       "      <td>74.40</td>\n",
       "      <td>306.60</td>\n",
       "      <td>2019-11-01</td>\n",
       "      <td>123.0</td>\n",
       "      <td>Male</td>\n",
       "      <td>...</td>\n",
       "      <td>No</td>\n",
       "      <td>Yes</td>\n",
       "      <td>Fiber optic</td>\n",
       "      <td>No</td>\n",
       "      <td>No</td>\n",
       "      <td>No</td>\n",
       "      <td>No</td>\n",
       "      <td>No</td>\n",
       "      <td>No</td>\n",
       "      <td>1</td>\n",
       "    </tr>\n",
       "    <tr>\n",
       "      <td>7042</td>\n",
       "      <td>3186-AJIEK</td>\n",
       "      <td>2014-08-01</td>\n",
       "      <td>Two year</td>\n",
       "      <td>Yes</td>\n",
       "      <td>Bank transfer (automatic)</td>\n",
       "      <td>105.65</td>\n",
       "      <td>6844.50</td>\n",
       "      <td>NaT</td>\n",
       "      <td>NaN</td>\n",
       "      <td>Male</td>\n",
       "      <td>...</td>\n",
       "      <td>No</td>\n",
       "      <td>No</td>\n",
       "      <td>Fiber optic</td>\n",
       "      <td>Yes</td>\n",
       "      <td>No</td>\n",
       "      <td>Yes</td>\n",
       "      <td>Yes</td>\n",
       "      <td>Yes</td>\n",
       "      <td>Yes</td>\n",
       "      <td>0</td>\n",
       "    </tr>\n",
       "  </tbody>\n",
       "</table>\n",
       "<p>7043 rows × 22 columns</p>\n",
       "</div>"
      ],
      "text/plain": [
       "      customerID  BeginDate            Type PaperlessBilling  \\\n",
       "0     7590-VHVEG 2020-01-01  Month-to-month              Yes   \n",
       "1     5575-GNVDE 2017-04-01        One year               No   \n",
       "2     3668-QPYBK 2019-10-01  Month-to-month              Yes   \n",
       "3     7795-CFOCW 2016-05-01        One year               No   \n",
       "4     9237-HQITU 2019-09-01  Month-to-month              Yes   \n",
       "...          ...        ...             ...              ...   \n",
       "7038  6840-RESVB 2018-02-01        One year              Yes   \n",
       "7039  2234-XADUH 2014-02-01        One year              Yes   \n",
       "7040  4801-JZAZL 2019-03-01  Month-to-month              Yes   \n",
       "7041  8361-LTMKD 2019-07-01  Month-to-month              Yes   \n",
       "7042  3186-AJIEK 2014-08-01        Two year              Yes   \n",
       "\n",
       "                  PaymentMethod  MonthlyCharges  TotalCharges  actualend  \\\n",
       "0              Electronic check           29.85         29.85        NaT   \n",
       "1                  Mailed check           56.95       1889.50        NaT   \n",
       "2                  Mailed check           53.85        108.15 2019-12-01   \n",
       "3     Bank transfer (automatic)           42.30       1840.75        NaT   \n",
       "4              Electronic check           70.70        151.65 2019-11-01   \n",
       "...                         ...             ...           ...        ...   \n",
       "7038               Mailed check           84.80       1990.50        NaT   \n",
       "7039    Credit card (automatic)          103.20       7362.90        NaT   \n",
       "7040           Electronic check           29.60        346.45        NaT   \n",
       "7041               Mailed check           74.40        306.60 2019-11-01   \n",
       "7042  Bank transfer (automatic)          105.65       6844.50        NaT   \n",
       "\n",
       "      live_contract  gender  ...  Dependents MultipleLines InternetService  \\\n",
       "0               NaN  Female  ...          No           NaN             DSL   \n",
       "1               NaN    Male  ...          No            No             DSL   \n",
       "2              61.0    Male  ...          No            No             DSL   \n",
       "3               NaN    Male  ...          No           NaN             DSL   \n",
       "4              61.0  Female  ...          No            No     Fiber optic   \n",
       "...             ...     ...  ...         ...           ...             ...   \n",
       "7038            NaN    Male  ...         Yes           Yes             DSL   \n",
       "7039            NaN  Female  ...         Yes           Yes     Fiber optic   \n",
       "7040            NaN  Female  ...         Yes           NaN             DSL   \n",
       "7041          123.0    Male  ...          No           Yes     Fiber optic   \n",
       "7042            NaN    Male  ...          No            No     Fiber optic   \n",
       "\n",
       "     OnlineSecurity OnlineBackup DeviceProtection TechSupport StreamingTV  \\\n",
       "0                No          Yes               No          No          No   \n",
       "1               Yes           No              Yes          No          No   \n",
       "2               Yes          Yes               No          No          No   \n",
       "3               Yes           No              Yes         Yes          No   \n",
       "4                No           No               No          No          No   \n",
       "...             ...          ...              ...         ...         ...   \n",
       "7038            Yes           No              Yes         Yes         Yes   \n",
       "7039             No          Yes              Yes          No         Yes   \n",
       "7040            Yes           No               No          No          No   \n",
       "7041             No           No               No          No          No   \n",
       "7042            Yes           No              Yes         Yes         Yes   \n",
       "\n",
       "     StreamingMovies target  \n",
       "0                 No      0  \n",
       "1                 No      0  \n",
       "2                 No      1  \n",
       "3                 No      0  \n",
       "4                 No      1  \n",
       "...              ...    ...  \n",
       "7038             Yes      0  \n",
       "7039             Yes      0  \n",
       "7040              No      0  \n",
       "7041              No      1  \n",
       "7042             Yes      0  \n",
       "\n",
       "[7043 rows x 22 columns]"
      ]
     },
     "execution_count": 61,
     "metadata": {},
     "output_type": "execute_result"
    }
   ],
   "source": [
    "for_ml"
   ]
  },
  {
   "cell_type": "code",
   "execution_count": 62,
   "metadata": {},
   "outputs": [],
   "source": [
    "date_of_review = pd.to_datetime('2020-02-01', format='%Y-%m-%d')"
   ]
  },
  {
   "cell_type": "code",
   "execution_count": 63,
   "metadata": {},
   "outputs": [],
   "source": [
    "for_ml.loc[for_ml['live_contract'].notna(), 'live_contract'] = for_ml['actualend'].sub(for_ml['BeginDate'], axis=0)\n",
    "for_ml.loc[for_ml['live_contract'].isna(), 'live_contract'] = date_of_review - for_ml['BeginDate']\n",
    "\n",
    "for_ml.loc[for_ml['live_contract'].notna(), 'live_contract'] = for_ml['actualend'].sub(for_ml['BeginDate'], axis=0)\n",
    "for_ml.loc[for_ml['live_contract'].isna(), 'live_contract'] = date_of_review - for_ml['BeginDate']"
   ]
  },
  {
   "cell_type": "code",
   "execution_count": 64,
   "metadata": {},
   "outputs": [],
   "source": [
    "for_ml['live_contract'] = for_ml['live_contract'].dt.days"
   ]
  },
  {
   "cell_type": "code",
   "execution_count": 65,
   "metadata": {},
   "outputs": [
    {
     "data": {
      "text/html": [
       "<div>\n",
       "<style scoped>\n",
       "    .dataframe tbody tr th:only-of-type {\n",
       "        vertical-align: middle;\n",
       "    }\n",
       "\n",
       "    .dataframe tbody tr th {\n",
       "        vertical-align: top;\n",
       "    }\n",
       "\n",
       "    .dataframe thead th {\n",
       "        text-align: right;\n",
       "    }\n",
       "</style>\n",
       "<table border=\"1\" class=\"dataframe\">\n",
       "  <thead>\n",
       "    <tr style=\"text-align: right;\">\n",
       "      <th></th>\n",
       "      <th>customerID</th>\n",
       "      <th>BeginDate</th>\n",
       "      <th>Type</th>\n",
       "      <th>PaperlessBilling</th>\n",
       "      <th>PaymentMethod</th>\n",
       "      <th>MonthlyCharges</th>\n",
       "      <th>TotalCharges</th>\n",
       "      <th>actualend</th>\n",
       "      <th>live_contract</th>\n",
       "      <th>gender</th>\n",
       "      <th>...</th>\n",
       "      <th>Dependents</th>\n",
       "      <th>MultipleLines</th>\n",
       "      <th>InternetService</th>\n",
       "      <th>OnlineSecurity</th>\n",
       "      <th>OnlineBackup</th>\n",
       "      <th>DeviceProtection</th>\n",
       "      <th>TechSupport</th>\n",
       "      <th>StreamingTV</th>\n",
       "      <th>StreamingMovies</th>\n",
       "      <th>target</th>\n",
       "    </tr>\n",
       "  </thead>\n",
       "  <tbody>\n",
       "    <tr>\n",
       "      <td>0</td>\n",
       "      <td>7590-VHVEG</td>\n",
       "      <td>2020-01-01</td>\n",
       "      <td>Month-to-month</td>\n",
       "      <td>Yes</td>\n",
       "      <td>Electronic check</td>\n",
       "      <td>29.85</td>\n",
       "      <td>29.85</td>\n",
       "      <td>NaT</td>\n",
       "      <td>31</td>\n",
       "      <td>Female</td>\n",
       "      <td>...</td>\n",
       "      <td>No</td>\n",
       "      <td>NaN</td>\n",
       "      <td>DSL</td>\n",
       "      <td>No</td>\n",
       "      <td>Yes</td>\n",
       "      <td>No</td>\n",
       "      <td>No</td>\n",
       "      <td>No</td>\n",
       "      <td>No</td>\n",
       "      <td>0</td>\n",
       "    </tr>\n",
       "    <tr>\n",
       "      <td>1</td>\n",
       "      <td>5575-GNVDE</td>\n",
       "      <td>2017-04-01</td>\n",
       "      <td>One year</td>\n",
       "      <td>No</td>\n",
       "      <td>Mailed check</td>\n",
       "      <td>56.95</td>\n",
       "      <td>1889.50</td>\n",
       "      <td>NaT</td>\n",
       "      <td>1036</td>\n",
       "      <td>Male</td>\n",
       "      <td>...</td>\n",
       "      <td>No</td>\n",
       "      <td>No</td>\n",
       "      <td>DSL</td>\n",
       "      <td>Yes</td>\n",
       "      <td>No</td>\n",
       "      <td>Yes</td>\n",
       "      <td>No</td>\n",
       "      <td>No</td>\n",
       "      <td>No</td>\n",
       "      <td>0</td>\n",
       "    </tr>\n",
       "    <tr>\n",
       "      <td>2</td>\n",
       "      <td>3668-QPYBK</td>\n",
       "      <td>2019-10-01</td>\n",
       "      <td>Month-to-month</td>\n",
       "      <td>Yes</td>\n",
       "      <td>Mailed check</td>\n",
       "      <td>53.85</td>\n",
       "      <td>108.15</td>\n",
       "      <td>2019-12-01</td>\n",
       "      <td>61</td>\n",
       "      <td>Male</td>\n",
       "      <td>...</td>\n",
       "      <td>No</td>\n",
       "      <td>No</td>\n",
       "      <td>DSL</td>\n",
       "      <td>Yes</td>\n",
       "      <td>Yes</td>\n",
       "      <td>No</td>\n",
       "      <td>No</td>\n",
       "      <td>No</td>\n",
       "      <td>No</td>\n",
       "      <td>1</td>\n",
       "    </tr>\n",
       "  </tbody>\n",
       "</table>\n",
       "<p>3 rows × 22 columns</p>\n",
       "</div>"
      ],
      "text/plain": [
       "   customerID  BeginDate            Type PaperlessBilling     PaymentMethod  \\\n",
       "0  7590-VHVEG 2020-01-01  Month-to-month              Yes  Electronic check   \n",
       "1  5575-GNVDE 2017-04-01        One year               No      Mailed check   \n",
       "2  3668-QPYBK 2019-10-01  Month-to-month              Yes      Mailed check   \n",
       "\n",
       "   MonthlyCharges  TotalCharges  actualend  live_contract  gender  ...  \\\n",
       "0           29.85         29.85        NaT             31  Female  ...   \n",
       "1           56.95       1889.50        NaT           1036    Male  ...   \n",
       "2           53.85        108.15 2019-12-01             61    Male  ...   \n",
       "\n",
       "   Dependents MultipleLines InternetService OnlineSecurity OnlineBackup  \\\n",
       "0          No           NaN             DSL             No          Yes   \n",
       "1          No            No             DSL            Yes           No   \n",
       "2          No            No             DSL            Yes          Yes   \n",
       "\n",
       "  DeviceProtection TechSupport StreamingTV StreamingMovies target  \n",
       "0               No          No          No              No      0  \n",
       "1              Yes          No          No              No      0  \n",
       "2               No          No          No              No      1  \n",
       "\n",
       "[3 rows x 22 columns]"
      ]
     },
     "execution_count": 65,
     "metadata": {},
     "output_type": "execute_result"
    }
   ],
   "source": [
    "for_ml.head(3)"
   ]
  },
  {
   "cell_type": "markdown",
   "metadata": {},
   "source": [
    "Deleting not needed columns: `BeginDate`, `actualend`, `customerID`"
   ]
  },
  {
   "cell_type": "code",
   "execution_count": 66,
   "metadata": {},
   "outputs": [],
   "source": [
    "for_ml = for_ml.drop(columns = ['BeginDate', 'actualend', 'customerID'])"
   ]
  },
  {
   "cell_type": "markdown",
   "metadata": {},
   "source": [
    "## Gaps"
   ]
  },
  {
   "cell_type": "code",
   "execution_count": 67,
   "metadata": {},
   "outputs": [],
   "source": [
    "for_ml = for_ml.fillna(0)"
   ]
  },
  {
   "cell_type": "code",
   "execution_count": 68,
   "metadata": {},
   "outputs": [
    {
     "name": "stdout",
     "output_type": "stream",
     "text": [
      "<class 'pandas.core.frame.DataFrame'>\n",
      "Int64Index: 7043 entries, 0 to 7042\n",
      "Data columns (total 19 columns):\n",
      "Type                7043 non-null object\n",
      "PaperlessBilling    7043 non-null object\n",
      "PaymentMethod       7043 non-null object\n",
      "MonthlyCharges      7043 non-null float64\n",
      "TotalCharges        7043 non-null float64\n",
      "live_contract       7043 non-null int64\n",
      "gender              7043 non-null object\n",
      "SeniorCitizen       7043 non-null int64\n",
      "Partner             7043 non-null object\n",
      "Dependents          7043 non-null object\n",
      "MultipleLines       7043 non-null object\n",
      "InternetService     7043 non-null object\n",
      "OnlineSecurity      7043 non-null object\n",
      "OnlineBackup        7043 non-null object\n",
      "DeviceProtection    7043 non-null object\n",
      "TechSupport         7043 non-null object\n",
      "StreamingTV         7043 non-null object\n",
      "StreamingMovies     7043 non-null object\n",
      "target              7043 non-null int64\n",
      "dtypes: float64(2), int64(3), object(14)\n",
      "memory usage: 1.4+ MB\n"
     ]
    }
   ],
   "source": [
    "for_ml.info()"
   ]
  },
  {
   "cell_type": "markdown",
   "metadata": {},
   "source": [
    "## New features"
   ]
  },
  {
   "cell_type": "markdown",
   "metadata": {},
   "source": [
    "### \"family_guy\"\n",
    "\n",
    "- equals to 1 of the client has dependants and a partner at the same time"
   ]
  },
  {
   "cell_type": "code",
   "execution_count": 69,
   "metadata": {},
   "outputs": [
    {
     "data": {
      "text/html": [
       "<div>\n",
       "<style scoped>\n",
       "    .dataframe tbody tr th:only-of-type {\n",
       "        vertical-align: middle;\n",
       "    }\n",
       "\n",
       "    .dataframe tbody tr th {\n",
       "        vertical-align: top;\n",
       "    }\n",
       "\n",
       "    .dataframe thead th {\n",
       "        text-align: right;\n",
       "    }\n",
       "</style>\n",
       "<table border=\"1\" class=\"dataframe\">\n",
       "  <thead>\n",
       "    <tr style=\"text-align: right;\">\n",
       "      <th></th>\n",
       "      <th>Type</th>\n",
       "      <th>PaperlessBilling</th>\n",
       "      <th>PaymentMethod</th>\n",
       "      <th>MonthlyCharges</th>\n",
       "      <th>TotalCharges</th>\n",
       "      <th>live_contract</th>\n",
       "      <th>gender</th>\n",
       "      <th>SeniorCitizen</th>\n",
       "      <th>Partner</th>\n",
       "      <th>Dependents</th>\n",
       "      <th>MultipleLines</th>\n",
       "      <th>InternetService</th>\n",
       "      <th>OnlineSecurity</th>\n",
       "      <th>OnlineBackup</th>\n",
       "      <th>DeviceProtection</th>\n",
       "      <th>TechSupport</th>\n",
       "      <th>StreamingTV</th>\n",
       "      <th>StreamingMovies</th>\n",
       "      <th>target</th>\n",
       "      <th>familyguy</th>\n",
       "    </tr>\n",
       "  </thead>\n",
       "  <tbody>\n",
       "    <tr>\n",
       "      <td>7038</td>\n",
       "      <td>One year</td>\n",
       "      <td>Yes</td>\n",
       "      <td>Mailed check</td>\n",
       "      <td>84.80</td>\n",
       "      <td>1990.50</td>\n",
       "      <td>730</td>\n",
       "      <td>Male</td>\n",
       "      <td>0</td>\n",
       "      <td>Yes</td>\n",
       "      <td>Yes</td>\n",
       "      <td>Yes</td>\n",
       "      <td>DSL</td>\n",
       "      <td>Yes</td>\n",
       "      <td>No</td>\n",
       "      <td>Yes</td>\n",
       "      <td>Yes</td>\n",
       "      <td>Yes</td>\n",
       "      <td>Yes</td>\n",
       "      <td>0</td>\n",
       "      <td>1</td>\n",
       "    </tr>\n",
       "    <tr>\n",
       "      <td>7039</td>\n",
       "      <td>One year</td>\n",
       "      <td>Yes</td>\n",
       "      <td>Credit card (automatic)</td>\n",
       "      <td>103.20</td>\n",
       "      <td>7362.90</td>\n",
       "      <td>2191</td>\n",
       "      <td>Female</td>\n",
       "      <td>0</td>\n",
       "      <td>Yes</td>\n",
       "      <td>Yes</td>\n",
       "      <td>Yes</td>\n",
       "      <td>Fiber optic</td>\n",
       "      <td>No</td>\n",
       "      <td>Yes</td>\n",
       "      <td>Yes</td>\n",
       "      <td>No</td>\n",
       "      <td>Yes</td>\n",
       "      <td>Yes</td>\n",
       "      <td>0</td>\n",
       "      <td>1</td>\n",
       "    </tr>\n",
       "    <tr>\n",
       "      <td>7040</td>\n",
       "      <td>Month-to-month</td>\n",
       "      <td>Yes</td>\n",
       "      <td>Electronic check</td>\n",
       "      <td>29.60</td>\n",
       "      <td>346.45</td>\n",
       "      <td>337</td>\n",
       "      <td>Female</td>\n",
       "      <td>0</td>\n",
       "      <td>Yes</td>\n",
       "      <td>Yes</td>\n",
       "      <td>0</td>\n",
       "      <td>DSL</td>\n",
       "      <td>Yes</td>\n",
       "      <td>No</td>\n",
       "      <td>No</td>\n",
       "      <td>No</td>\n",
       "      <td>No</td>\n",
       "      <td>No</td>\n",
       "      <td>0</td>\n",
       "      <td>1</td>\n",
       "    </tr>\n",
       "    <tr>\n",
       "      <td>7041</td>\n",
       "      <td>Month-to-month</td>\n",
       "      <td>Yes</td>\n",
       "      <td>Mailed check</td>\n",
       "      <td>74.40</td>\n",
       "      <td>306.60</td>\n",
       "      <td>123</td>\n",
       "      <td>Male</td>\n",
       "      <td>1</td>\n",
       "      <td>Yes</td>\n",
       "      <td>No</td>\n",
       "      <td>Yes</td>\n",
       "      <td>Fiber optic</td>\n",
       "      <td>No</td>\n",
       "      <td>No</td>\n",
       "      <td>No</td>\n",
       "      <td>No</td>\n",
       "      <td>No</td>\n",
       "      <td>No</td>\n",
       "      <td>1</td>\n",
       "      <td>0</td>\n",
       "    </tr>\n",
       "    <tr>\n",
       "      <td>7042</td>\n",
       "      <td>Two year</td>\n",
       "      <td>Yes</td>\n",
       "      <td>Bank transfer (automatic)</td>\n",
       "      <td>105.65</td>\n",
       "      <td>6844.50</td>\n",
       "      <td>2010</td>\n",
       "      <td>Male</td>\n",
       "      <td>0</td>\n",
       "      <td>No</td>\n",
       "      <td>No</td>\n",
       "      <td>No</td>\n",
       "      <td>Fiber optic</td>\n",
       "      <td>Yes</td>\n",
       "      <td>No</td>\n",
       "      <td>Yes</td>\n",
       "      <td>Yes</td>\n",
       "      <td>Yes</td>\n",
       "      <td>Yes</td>\n",
       "      <td>0</td>\n",
       "      <td>0</td>\n",
       "    </tr>\n",
       "  </tbody>\n",
       "</table>\n",
       "</div>"
      ],
      "text/plain": [
       "                Type PaperlessBilling              PaymentMethod  \\\n",
       "7038        One year              Yes               Mailed check   \n",
       "7039        One year              Yes    Credit card (automatic)   \n",
       "7040  Month-to-month              Yes           Electronic check   \n",
       "7041  Month-to-month              Yes               Mailed check   \n",
       "7042        Two year              Yes  Bank transfer (automatic)   \n",
       "\n",
       "      MonthlyCharges  TotalCharges  live_contract  gender  SeniorCitizen  \\\n",
       "7038           84.80       1990.50            730    Male              0   \n",
       "7039          103.20       7362.90           2191  Female              0   \n",
       "7040           29.60        346.45            337  Female              0   \n",
       "7041           74.40        306.60            123    Male              1   \n",
       "7042          105.65       6844.50           2010    Male              0   \n",
       "\n",
       "     Partner Dependents MultipleLines InternetService OnlineSecurity  \\\n",
       "7038     Yes        Yes           Yes             DSL            Yes   \n",
       "7039     Yes        Yes           Yes     Fiber optic             No   \n",
       "7040     Yes        Yes             0             DSL            Yes   \n",
       "7041     Yes         No           Yes     Fiber optic             No   \n",
       "7042      No         No            No     Fiber optic            Yes   \n",
       "\n",
       "     OnlineBackup DeviceProtection TechSupport StreamingTV StreamingMovies  \\\n",
       "7038           No              Yes         Yes         Yes             Yes   \n",
       "7039          Yes              Yes          No         Yes             Yes   \n",
       "7040           No               No          No          No              No   \n",
       "7041           No               No          No          No              No   \n",
       "7042           No              Yes         Yes         Yes             Yes   \n",
       "\n",
       "      target  familyguy  \n",
       "7038       0          1  \n",
       "7039       0          1  \n",
       "7040       0          1  \n",
       "7041       1          0  \n",
       "7042       0          0  "
      ]
     },
     "execution_count": 69,
     "metadata": {},
     "output_type": "execute_result"
    }
   ],
   "source": [
    "for_ml['familyguy'] = 0\n",
    "\n",
    "for_ml.loc[(for_ml['Partner'] == 'Yes') & (for_ml['Dependents'] == 'Yes'), 'familyguy'] = 1\n",
    "\n",
    "for_ml.tail()"
   ]
  },
  {
   "cell_type": "markdown",
   "metadata": {},
   "source": [
    "## Encoding"
   ]
  },
  {
   "cell_type": "markdown",
   "metadata": {},
   "source": [
    "Function for data formating: 1 for each 'Yes', 0 for each 'No'"
   ]
  },
  {
   "cell_type": "code",
   "execution_count": 70,
   "metadata": {},
   "outputs": [],
   "source": [
    "def no_to_zero_yes_to_one(data, columns_given):\n",
    "    for column in columns_given:\n",
    "        data.loc[data[column] == 'No', column] = 0\n",
    "        data.loc[data[column] == 'Yes', column] = 1"
   ]
  },
  {
   "cell_type": "markdown",
   "metadata": {},
   "source": [
    "Columns to apply the function to"
   ]
  },
  {
   "cell_type": "code",
   "execution_count": 71,
   "metadata": {},
   "outputs": [],
   "source": [
    "needed_to_change = [\"OnlineSecurity\", \"OnlineBackup\", \"DeviceProtection\", \"Partner\", \"Dependents\", \"MultipleLines\",\n",
    "                    \"TechSupport\",\"StreamingTV\",\"StreamingMovies\"]"
   ]
  },
  {
   "cell_type": "code",
   "execution_count": 72,
   "metadata": {},
   "outputs": [],
   "source": [
    "no_to_zero_yes_to_one(for_ml, needed_to_change)"
   ]
  },
  {
   "cell_type": "code",
   "execution_count": 73,
   "metadata": {},
   "outputs": [
    {
     "data": {
      "text/html": [
       "<div>\n",
       "<style scoped>\n",
       "    .dataframe tbody tr th:only-of-type {\n",
       "        vertical-align: middle;\n",
       "    }\n",
       "\n",
       "    .dataframe tbody tr th {\n",
       "        vertical-align: top;\n",
       "    }\n",
       "\n",
       "    .dataframe thead th {\n",
       "        text-align: right;\n",
       "    }\n",
       "</style>\n",
       "<table border=\"1\" class=\"dataframe\">\n",
       "  <thead>\n",
       "    <tr style=\"text-align: right;\">\n",
       "      <th></th>\n",
       "      <th>Type</th>\n",
       "      <th>PaperlessBilling</th>\n",
       "      <th>PaymentMethod</th>\n",
       "      <th>MonthlyCharges</th>\n",
       "      <th>TotalCharges</th>\n",
       "      <th>live_contract</th>\n",
       "      <th>gender</th>\n",
       "      <th>SeniorCitizen</th>\n",
       "      <th>Partner</th>\n",
       "      <th>Dependents</th>\n",
       "      <th>MultipleLines</th>\n",
       "      <th>InternetService</th>\n",
       "      <th>OnlineSecurity</th>\n",
       "      <th>OnlineBackup</th>\n",
       "      <th>DeviceProtection</th>\n",
       "      <th>TechSupport</th>\n",
       "      <th>StreamingTV</th>\n",
       "      <th>StreamingMovies</th>\n",
       "      <th>target</th>\n",
       "      <th>familyguy</th>\n",
       "    </tr>\n",
       "  </thead>\n",
       "  <tbody>\n",
       "    <tr>\n",
       "      <td>0</td>\n",
       "      <td>Month-to-month</td>\n",
       "      <td>Yes</td>\n",
       "      <td>Electronic check</td>\n",
       "      <td>29.85</td>\n",
       "      <td>29.85</td>\n",
       "      <td>31</td>\n",
       "      <td>Female</td>\n",
       "      <td>0</td>\n",
       "      <td>1</td>\n",
       "      <td>0</td>\n",
       "      <td>0</td>\n",
       "      <td>DSL</td>\n",
       "      <td>0</td>\n",
       "      <td>1</td>\n",
       "      <td>0</td>\n",
       "      <td>0</td>\n",
       "      <td>0</td>\n",
       "      <td>0</td>\n",
       "      <td>0</td>\n",
       "      <td>0</td>\n",
       "    </tr>\n",
       "    <tr>\n",
       "      <td>1</td>\n",
       "      <td>One year</td>\n",
       "      <td>No</td>\n",
       "      <td>Mailed check</td>\n",
       "      <td>56.95</td>\n",
       "      <td>1889.50</td>\n",
       "      <td>1036</td>\n",
       "      <td>Male</td>\n",
       "      <td>0</td>\n",
       "      <td>0</td>\n",
       "      <td>0</td>\n",
       "      <td>0</td>\n",
       "      <td>DSL</td>\n",
       "      <td>1</td>\n",
       "      <td>0</td>\n",
       "      <td>1</td>\n",
       "      <td>0</td>\n",
       "      <td>0</td>\n",
       "      <td>0</td>\n",
       "      <td>0</td>\n",
       "      <td>0</td>\n",
       "    </tr>\n",
       "    <tr>\n",
       "      <td>2</td>\n",
       "      <td>Month-to-month</td>\n",
       "      <td>Yes</td>\n",
       "      <td>Mailed check</td>\n",
       "      <td>53.85</td>\n",
       "      <td>108.15</td>\n",
       "      <td>61</td>\n",
       "      <td>Male</td>\n",
       "      <td>0</td>\n",
       "      <td>0</td>\n",
       "      <td>0</td>\n",
       "      <td>0</td>\n",
       "      <td>DSL</td>\n",
       "      <td>1</td>\n",
       "      <td>1</td>\n",
       "      <td>0</td>\n",
       "      <td>0</td>\n",
       "      <td>0</td>\n",
       "      <td>0</td>\n",
       "      <td>1</td>\n",
       "      <td>0</td>\n",
       "    </tr>\n",
       "    <tr>\n",
       "      <td>3</td>\n",
       "      <td>One year</td>\n",
       "      <td>No</td>\n",
       "      <td>Bank transfer (automatic)</td>\n",
       "      <td>42.30</td>\n",
       "      <td>1840.75</td>\n",
       "      <td>1371</td>\n",
       "      <td>Male</td>\n",
       "      <td>0</td>\n",
       "      <td>0</td>\n",
       "      <td>0</td>\n",
       "      <td>0</td>\n",
       "      <td>DSL</td>\n",
       "      <td>1</td>\n",
       "      <td>0</td>\n",
       "      <td>1</td>\n",
       "      <td>1</td>\n",
       "      <td>0</td>\n",
       "      <td>0</td>\n",
       "      <td>0</td>\n",
       "      <td>0</td>\n",
       "    </tr>\n",
       "    <tr>\n",
       "      <td>4</td>\n",
       "      <td>Month-to-month</td>\n",
       "      <td>Yes</td>\n",
       "      <td>Electronic check</td>\n",
       "      <td>70.70</td>\n",
       "      <td>151.65</td>\n",
       "      <td>61</td>\n",
       "      <td>Female</td>\n",
       "      <td>0</td>\n",
       "      <td>0</td>\n",
       "      <td>0</td>\n",
       "      <td>0</td>\n",
       "      <td>Fiber optic</td>\n",
       "      <td>0</td>\n",
       "      <td>0</td>\n",
       "      <td>0</td>\n",
       "      <td>0</td>\n",
       "      <td>0</td>\n",
       "      <td>0</td>\n",
       "      <td>1</td>\n",
       "      <td>0</td>\n",
       "    </tr>\n",
       "    <tr>\n",
       "      <td>...</td>\n",
       "      <td>...</td>\n",
       "      <td>...</td>\n",
       "      <td>...</td>\n",
       "      <td>...</td>\n",
       "      <td>...</td>\n",
       "      <td>...</td>\n",
       "      <td>...</td>\n",
       "      <td>...</td>\n",
       "      <td>...</td>\n",
       "      <td>...</td>\n",
       "      <td>...</td>\n",
       "      <td>...</td>\n",
       "      <td>...</td>\n",
       "      <td>...</td>\n",
       "      <td>...</td>\n",
       "      <td>...</td>\n",
       "      <td>...</td>\n",
       "      <td>...</td>\n",
       "      <td>...</td>\n",
       "      <td>...</td>\n",
       "    </tr>\n",
       "    <tr>\n",
       "      <td>7038</td>\n",
       "      <td>One year</td>\n",
       "      <td>Yes</td>\n",
       "      <td>Mailed check</td>\n",
       "      <td>84.80</td>\n",
       "      <td>1990.50</td>\n",
       "      <td>730</td>\n",
       "      <td>Male</td>\n",
       "      <td>0</td>\n",
       "      <td>1</td>\n",
       "      <td>1</td>\n",
       "      <td>1</td>\n",
       "      <td>DSL</td>\n",
       "      <td>1</td>\n",
       "      <td>0</td>\n",
       "      <td>1</td>\n",
       "      <td>1</td>\n",
       "      <td>1</td>\n",
       "      <td>1</td>\n",
       "      <td>0</td>\n",
       "      <td>1</td>\n",
       "    </tr>\n",
       "    <tr>\n",
       "      <td>7039</td>\n",
       "      <td>One year</td>\n",
       "      <td>Yes</td>\n",
       "      <td>Credit card (automatic)</td>\n",
       "      <td>103.20</td>\n",
       "      <td>7362.90</td>\n",
       "      <td>2191</td>\n",
       "      <td>Female</td>\n",
       "      <td>0</td>\n",
       "      <td>1</td>\n",
       "      <td>1</td>\n",
       "      <td>1</td>\n",
       "      <td>Fiber optic</td>\n",
       "      <td>0</td>\n",
       "      <td>1</td>\n",
       "      <td>1</td>\n",
       "      <td>0</td>\n",
       "      <td>1</td>\n",
       "      <td>1</td>\n",
       "      <td>0</td>\n",
       "      <td>1</td>\n",
       "    </tr>\n",
       "    <tr>\n",
       "      <td>7040</td>\n",
       "      <td>Month-to-month</td>\n",
       "      <td>Yes</td>\n",
       "      <td>Electronic check</td>\n",
       "      <td>29.60</td>\n",
       "      <td>346.45</td>\n",
       "      <td>337</td>\n",
       "      <td>Female</td>\n",
       "      <td>0</td>\n",
       "      <td>1</td>\n",
       "      <td>1</td>\n",
       "      <td>0</td>\n",
       "      <td>DSL</td>\n",
       "      <td>1</td>\n",
       "      <td>0</td>\n",
       "      <td>0</td>\n",
       "      <td>0</td>\n",
       "      <td>0</td>\n",
       "      <td>0</td>\n",
       "      <td>0</td>\n",
       "      <td>1</td>\n",
       "    </tr>\n",
       "    <tr>\n",
       "      <td>7041</td>\n",
       "      <td>Month-to-month</td>\n",
       "      <td>Yes</td>\n",
       "      <td>Mailed check</td>\n",
       "      <td>74.40</td>\n",
       "      <td>306.60</td>\n",
       "      <td>123</td>\n",
       "      <td>Male</td>\n",
       "      <td>1</td>\n",
       "      <td>1</td>\n",
       "      <td>0</td>\n",
       "      <td>1</td>\n",
       "      <td>Fiber optic</td>\n",
       "      <td>0</td>\n",
       "      <td>0</td>\n",
       "      <td>0</td>\n",
       "      <td>0</td>\n",
       "      <td>0</td>\n",
       "      <td>0</td>\n",
       "      <td>1</td>\n",
       "      <td>0</td>\n",
       "    </tr>\n",
       "    <tr>\n",
       "      <td>7042</td>\n",
       "      <td>Two year</td>\n",
       "      <td>Yes</td>\n",
       "      <td>Bank transfer (automatic)</td>\n",
       "      <td>105.65</td>\n",
       "      <td>6844.50</td>\n",
       "      <td>2010</td>\n",
       "      <td>Male</td>\n",
       "      <td>0</td>\n",
       "      <td>0</td>\n",
       "      <td>0</td>\n",
       "      <td>0</td>\n",
       "      <td>Fiber optic</td>\n",
       "      <td>1</td>\n",
       "      <td>0</td>\n",
       "      <td>1</td>\n",
       "      <td>1</td>\n",
       "      <td>1</td>\n",
       "      <td>1</td>\n",
       "      <td>0</td>\n",
       "      <td>0</td>\n",
       "    </tr>\n",
       "  </tbody>\n",
       "</table>\n",
       "<p>7043 rows × 20 columns</p>\n",
       "</div>"
      ],
      "text/plain": [
       "                Type PaperlessBilling              PaymentMethod  \\\n",
       "0     Month-to-month              Yes           Electronic check   \n",
       "1           One year               No               Mailed check   \n",
       "2     Month-to-month              Yes               Mailed check   \n",
       "3           One year               No  Bank transfer (automatic)   \n",
       "4     Month-to-month              Yes           Electronic check   \n",
       "...              ...              ...                        ...   \n",
       "7038        One year              Yes               Mailed check   \n",
       "7039        One year              Yes    Credit card (automatic)   \n",
       "7040  Month-to-month              Yes           Electronic check   \n",
       "7041  Month-to-month              Yes               Mailed check   \n",
       "7042        Two year              Yes  Bank transfer (automatic)   \n",
       "\n",
       "      MonthlyCharges  TotalCharges  live_contract  gender  SeniorCitizen  \\\n",
       "0              29.85         29.85             31  Female              0   \n",
       "1              56.95       1889.50           1036    Male              0   \n",
       "2              53.85        108.15             61    Male              0   \n",
       "3              42.30       1840.75           1371    Male              0   \n",
       "4              70.70        151.65             61  Female              0   \n",
       "...              ...           ...            ...     ...            ...   \n",
       "7038           84.80       1990.50            730    Male              0   \n",
       "7039          103.20       7362.90           2191  Female              0   \n",
       "7040           29.60        346.45            337  Female              0   \n",
       "7041           74.40        306.60            123    Male              1   \n",
       "7042          105.65       6844.50           2010    Male              0   \n",
       "\n",
       "      Partner  Dependents  MultipleLines InternetService  OnlineSecurity  \\\n",
       "0           1           0              0             DSL               0   \n",
       "1           0           0              0             DSL               1   \n",
       "2           0           0              0             DSL               1   \n",
       "3           0           0              0             DSL               1   \n",
       "4           0           0              0     Fiber optic               0   \n",
       "...       ...         ...            ...             ...             ...   \n",
       "7038        1           1              1             DSL               1   \n",
       "7039        1           1              1     Fiber optic               0   \n",
       "7040        1           1              0             DSL               1   \n",
       "7041        1           0              1     Fiber optic               0   \n",
       "7042        0           0              0     Fiber optic               1   \n",
       "\n",
       "      OnlineBackup  DeviceProtection  TechSupport  StreamingTV  \\\n",
       "0                1                 0            0            0   \n",
       "1                0                 1            0            0   \n",
       "2                1                 0            0            0   \n",
       "3                0                 1            1            0   \n",
       "4                0                 0            0            0   \n",
       "...            ...               ...          ...          ...   \n",
       "7038             0                 1            1            1   \n",
       "7039             1                 1            0            1   \n",
       "7040             0                 0            0            0   \n",
       "7041             0                 0            0            0   \n",
       "7042             0                 1            1            1   \n",
       "\n",
       "      StreamingMovies  target  familyguy  \n",
       "0                   0       0          0  \n",
       "1                   0       0          0  \n",
       "2                   0       1          0  \n",
       "3                   0       0          0  \n",
       "4                   0       1          0  \n",
       "...               ...     ...        ...  \n",
       "7038                1       0          1  \n",
       "7039                1       0          1  \n",
       "7040                0       0          1  \n",
       "7041                0       1          0  \n",
       "7042                1       0          0  \n",
       "\n",
       "[7043 rows x 20 columns]"
      ]
     },
     "execution_count": 73,
     "metadata": {},
     "output_type": "execute_result"
    }
   ],
   "source": [
    "for_ml"
   ]
  },
  {
   "cell_type": "code",
   "execution_count": 74,
   "metadata": {},
   "outputs": [],
   "source": [
    "encoder = OrdinalEncoder()\n",
    "for_ml[[\n",
    "    \"Type\",\"PaperlessBilling\", \"PaymentMethod\", \"gender\"]] = (\n",
    "    \n",
    "    encoder.fit_transform(for_ml[[\n",
    "    \"Type\",\"PaperlessBilling\", \"PaymentMethod\", \"gender\"]]))"
   ]
  },
  {
   "cell_type": "markdown",
   "metadata": {},
   "source": [
    "`Internet_service` has three different values: dsl, fiber optic и NaN- for those who don't use the internet services. Solving them with get_dummies"
   ]
  },
  {
   "cell_type": "code",
   "execution_count": 75,
   "metadata": {},
   "outputs": [],
   "source": [
    "for_ml = pd.get_dummies(for_ml, drop_first=True)"
   ]
  },
  {
   "cell_type": "markdown",
   "metadata": {},
   "source": [
    "## Data:\n",
    "\n",
    "Having a sample of 7043 lines and 21 columns with data. Let's train_test_split them"
   ]
  },
  {
   "cell_type": "markdown",
   "metadata": {},
   "source": [
    "## Test sample"
   ]
  },
  {
   "cell_type": "markdown",
   "metadata": {},
   "source": [
    "sized of 0.25 from all data"
   ]
  },
  {
   "cell_type": "code",
   "execution_count": 76,
   "metadata": {},
   "outputs": [],
   "source": [
    "df_train, df_test = train_test_split(for_ml, test_size=0.25, random_state=12345)"
   ]
  },
  {
   "cell_type": "code",
   "execution_count": 77,
   "metadata": {},
   "outputs": [],
   "source": [
    "features_train = df_train.drop(columns = ['target'])\n",
    "\n",
    "target_train = df_train['target']"
   ]
  },
  {
   "cell_type": "code",
   "execution_count": 78,
   "metadata": {},
   "outputs": [],
   "source": [
    "features_test = df_test.drop(columns = ['target'])\n",
    "\n",
    "target_test = df_test['target']"
   ]
  },
  {
   "cell_type": "markdown",
   "metadata": {},
   "source": [
    "## learning"
   ]
  },
  {
   "cell_type": "markdown",
   "metadata": {},
   "source": [
    "Commenting this to avoid too much data outputs in github."
   ]
  },
  {
   "cell_type": "code",
   "execution_count": 1,
   "metadata": {},
   "outputs": [],
   "source": [
    "#%%time\n",
    "#CB_model = CatBoostClassifier()\n",
    "#grid = {'learning_rate': [0.03, 0.1],\n",
    "#        'depth': [4, 6, 10],\n",
    "#        'l2_leaf_reg': [5, 7, 9],\n",
    "#        'iterations': [1000]}\n",
    "\n",
    "\n",
    "#CV_model = GridSearchCV(estimator=CB_model, param_grid=grid, cv= 5, scoring = 'roc_auc')\n",
    "\n",
    "#CV_model.fit(features_train, target_train)\n",
    "#print(CV_model.best_params_)"
   ]
  },
  {
   "cell_type": "markdown",
   "metadata": {},
   "source": [
    "The best CV score:"
   ]
  },
  {
   "cell_type": "code",
   "execution_count": 80,
   "metadata": {},
   "outputs": [
    {
     "name": "stdout",
     "output_type": "stream",
     "text": [
      "0.9124184946350901\n"
     ]
    }
   ],
   "source": [
    "print(CV_model.best_score_)"
   ]
  },
  {
   "cell_type": "markdown",
   "metadata": {},
   "source": [
    "Parameters: iterations=1000, depth=4, l2_leaf_reg=5, learning_rate=0.1"
   ]
  },
  {
   "cell_type": "code",
   "execution_count": 81,
   "metadata": {},
   "outputs": [
    {
     "name": "stdout",
     "output_type": "stream",
     "text": [
      "0:\tlearn: 0.6302528\ttotal: 2.79ms\tremaining: 2.79s\n",
      "1:\tlearn: 0.5817209\ttotal: 5.7ms\tremaining: 2.84s\n",
      "2:\tlearn: 0.5479317\ttotal: 8.39ms\tremaining: 2.79s\n",
      "3:\tlearn: 0.5183064\ttotal: 11.4ms\tremaining: 2.84s\n",
      "4:\tlearn: 0.4947925\ttotal: 14.4ms\tremaining: 2.87s\n",
      "5:\tlearn: 0.4775807\ttotal: 17.1ms\tremaining: 2.84s\n",
      "6:\tlearn: 0.4643599\ttotal: 21.3ms\tremaining: 3.02s\n",
      "7:\tlearn: 0.4528529\ttotal: 24.2ms\tremaining: 3s\n",
      "8:\tlearn: 0.4433994\ttotal: 27.9ms\tremaining: 3.08s\n",
      "9:\tlearn: 0.4361265\ttotal: 31.4ms\tremaining: 3.11s\n",
      "10:\tlearn: 0.4298161\ttotal: 35.6ms\tremaining: 3.2s\n",
      "11:\tlearn: 0.4253347\ttotal: 39ms\tremaining: 3.21s\n",
      "12:\tlearn: 0.4206260\ttotal: 42ms\tremaining: 3.19s\n",
      "13:\tlearn: 0.4167591\ttotal: 45.9ms\tremaining: 3.23s\n",
      "14:\tlearn: 0.4137052\ttotal: 49.7ms\tremaining: 3.26s\n",
      "15:\tlearn: 0.4109908\ttotal: 53.7ms\tremaining: 3.3s\n",
      "16:\tlearn: 0.4087403\ttotal: 57.3ms\tremaining: 3.32s\n",
      "17:\tlearn: 0.4067863\ttotal: 60.8ms\tremaining: 3.31s\n",
      "18:\tlearn: 0.4045887\ttotal: 63.5ms\tremaining: 3.28s\n",
      "19:\tlearn: 0.4028405\ttotal: 68ms\tremaining: 3.33s\n",
      "20:\tlearn: 0.4012914\ttotal: 71.4ms\tremaining: 3.33s\n",
      "21:\tlearn: 0.3983283\ttotal: 75.4ms\tremaining: 3.35s\n",
      "22:\tlearn: 0.3969370\ttotal: 79ms\tremaining: 3.36s\n",
      "23:\tlearn: 0.3953713\ttotal: 81.8ms\tremaining: 3.33s\n",
      "24:\tlearn: 0.3933327\ttotal: 84.9ms\tremaining: 3.31s\n",
      "25:\tlearn: 0.3921506\ttotal: 88.5ms\tremaining: 3.31s\n",
      "26:\tlearn: 0.3917353\ttotal: 91.4ms\tremaining: 3.29s\n",
      "27:\tlearn: 0.3909591\ttotal: 94.2ms\tremaining: 3.27s\n",
      "28:\tlearn: 0.3901800\ttotal: 97ms\tremaining: 3.25s\n",
      "29:\tlearn: 0.3892770\ttotal: 101ms\tremaining: 3.26s\n",
      "30:\tlearn: 0.3887790\ttotal: 104ms\tremaining: 3.24s\n",
      "31:\tlearn: 0.3878924\ttotal: 107ms\tremaining: 3.23s\n",
      "32:\tlearn: 0.3873045\ttotal: 110ms\tremaining: 3.22s\n",
      "33:\tlearn: 0.3865308\ttotal: 113ms\tremaining: 3.21s\n",
      "34:\tlearn: 0.3858965\ttotal: 116ms\tremaining: 3.2s\n",
      "35:\tlearn: 0.3854273\ttotal: 118ms\tremaining: 3.17s\n",
      "36:\tlearn: 0.3849645\ttotal: 121ms\tremaining: 3.15s\n",
      "37:\tlearn: 0.3843283\ttotal: 123ms\tremaining: 3.12s\n",
      "38:\tlearn: 0.3838501\ttotal: 126ms\tremaining: 3.1s\n",
      "39:\tlearn: 0.3833318\ttotal: 129ms\tremaining: 3.09s\n",
      "40:\tlearn: 0.3825263\ttotal: 131ms\tremaining: 3.06s\n",
      "41:\tlearn: 0.3820053\ttotal: 134ms\tremaining: 3.05s\n",
      "42:\tlearn: 0.3814766\ttotal: 136ms\tremaining: 3.03s\n",
      "43:\tlearn: 0.3812254\ttotal: 139ms\tremaining: 3.01s\n",
      "44:\tlearn: 0.3767170\ttotal: 141ms\tremaining: 2.99s\n",
      "45:\tlearn: 0.3763704\ttotal: 144ms\tremaining: 2.98s\n",
      "46:\tlearn: 0.3757575\ttotal: 146ms\tremaining: 2.96s\n",
      "47:\tlearn: 0.3750066\ttotal: 149ms\tremaining: 2.95s\n",
      "48:\tlearn: 0.3740944\ttotal: 151ms\tremaining: 2.93s\n",
      "49:\tlearn: 0.3735841\ttotal: 154ms\tremaining: 2.92s\n",
      "50:\tlearn: 0.3731212\ttotal: 156ms\tremaining: 2.9s\n",
      "51:\tlearn: 0.3728941\ttotal: 158ms\tremaining: 2.89s\n",
      "52:\tlearn: 0.3720942\ttotal: 161ms\tremaining: 2.87s\n",
      "53:\tlearn: 0.3715976\ttotal: 164ms\tremaining: 2.87s\n",
      "54:\tlearn: 0.3714191\ttotal: 166ms\tremaining: 2.86s\n",
      "55:\tlearn: 0.3706899\ttotal: 169ms\tremaining: 2.85s\n",
      "56:\tlearn: 0.3701382\ttotal: 171ms\tremaining: 2.83s\n",
      "57:\tlearn: 0.3694866\ttotal: 174ms\tremaining: 2.82s\n",
      "58:\tlearn: 0.3690862\ttotal: 177ms\tremaining: 2.82s\n",
      "59:\tlearn: 0.3685995\ttotal: 179ms\tremaining: 2.81s\n",
      "60:\tlearn: 0.3684040\ttotal: 182ms\tremaining: 2.8s\n",
      "61:\tlearn: 0.3681002\ttotal: 184ms\tremaining: 2.79s\n",
      "62:\tlearn: 0.3659042\ttotal: 187ms\tremaining: 2.77s\n",
      "63:\tlearn: 0.3655832\ttotal: 189ms\tremaining: 2.76s\n",
      "64:\tlearn: 0.3651753\ttotal: 192ms\tremaining: 2.76s\n",
      "65:\tlearn: 0.3646405\ttotal: 194ms\tremaining: 2.75s\n",
      "66:\tlearn: 0.3642824\ttotal: 198ms\tremaining: 2.75s\n",
      "67:\tlearn: 0.3637963\ttotal: 201ms\tremaining: 2.75s\n",
      "68:\tlearn: 0.3635172\ttotal: 204ms\tremaining: 2.75s\n",
      "69:\tlearn: 0.3630099\ttotal: 207ms\tremaining: 2.75s\n",
      "70:\tlearn: 0.3614369\ttotal: 212ms\tremaining: 2.77s\n",
      "71:\tlearn: 0.3608851\ttotal: 214ms\tremaining: 2.76s\n",
      "72:\tlearn: 0.3605120\ttotal: 217ms\tremaining: 2.75s\n",
      "73:\tlearn: 0.3601738\ttotal: 219ms\tremaining: 2.75s\n",
      "74:\tlearn: 0.3598491\ttotal: 222ms\tremaining: 2.73s\n",
      "75:\tlearn: 0.3579772\ttotal: 225ms\tremaining: 2.74s\n",
      "76:\tlearn: 0.3576844\ttotal: 228ms\tremaining: 2.74s\n",
      "77:\tlearn: 0.3573456\ttotal: 231ms\tremaining: 2.73s\n",
      "78:\tlearn: 0.3569442\ttotal: 233ms\tremaining: 2.72s\n",
      "79:\tlearn: 0.3566792\ttotal: 236ms\tremaining: 2.71s\n",
      "80:\tlearn: 0.3562955\ttotal: 238ms\tremaining: 2.7s\n",
      "81:\tlearn: 0.3560401\ttotal: 241ms\tremaining: 2.7s\n",
      "82:\tlearn: 0.3557781\ttotal: 245ms\tremaining: 2.71s\n",
      "83:\tlearn: 0.3535519\ttotal: 247ms\tremaining: 2.7s\n",
      "84:\tlearn: 0.3532173\ttotal: 250ms\tremaining: 2.69s\n",
      "85:\tlearn: 0.3525642\ttotal: 252ms\tremaining: 2.68s\n",
      "86:\tlearn: 0.3521686\ttotal: 255ms\tremaining: 2.67s\n",
      "87:\tlearn: 0.3515902\ttotal: 257ms\tremaining: 2.66s\n",
      "88:\tlearn: 0.3507434\ttotal: 260ms\tremaining: 2.66s\n",
      "89:\tlearn: 0.3503202\ttotal: 262ms\tremaining: 2.65s\n",
      "90:\tlearn: 0.3486063\ttotal: 264ms\tremaining: 2.64s\n",
      "91:\tlearn: 0.3481998\ttotal: 267ms\tremaining: 2.63s\n",
      "92:\tlearn: 0.3473476\ttotal: 269ms\tremaining: 2.63s\n",
      "93:\tlearn: 0.3469590\ttotal: 272ms\tremaining: 2.63s\n",
      "94:\tlearn: 0.3466949\ttotal: 275ms\tremaining: 2.62s\n",
      "95:\tlearn: 0.3462668\ttotal: 278ms\tremaining: 2.61s\n",
      "96:\tlearn: 0.3461096\ttotal: 280ms\tremaining: 2.61s\n",
      "97:\tlearn: 0.3456279\ttotal: 282ms\tremaining: 2.6s\n",
      "98:\tlearn: 0.3451050\ttotal: 285ms\tremaining: 2.59s\n",
      "99:\tlearn: 0.3447569\ttotal: 287ms\tremaining: 2.58s\n",
      "100:\tlearn: 0.3443821\ttotal: 289ms\tremaining: 2.57s\n",
      "101:\tlearn: 0.3441549\ttotal: 292ms\tremaining: 2.57s\n",
      "102:\tlearn: 0.3439110\ttotal: 294ms\tremaining: 2.56s\n",
      "103:\tlearn: 0.3436170\ttotal: 297ms\tremaining: 2.55s\n",
      "104:\tlearn: 0.3421617\ttotal: 299ms\tremaining: 2.55s\n",
      "105:\tlearn: 0.3418625\ttotal: 301ms\tremaining: 2.54s\n",
      "106:\tlearn: 0.3406421\ttotal: 304ms\tremaining: 2.54s\n",
      "107:\tlearn: 0.3401196\ttotal: 307ms\tremaining: 2.54s\n",
      "108:\tlearn: 0.3398381\ttotal: 310ms\tremaining: 2.53s\n",
      "109:\tlearn: 0.3396389\ttotal: 312ms\tremaining: 2.53s\n",
      "110:\tlearn: 0.3393892\ttotal: 315ms\tremaining: 2.52s\n",
      "111:\tlearn: 0.3388547\ttotal: 317ms\tremaining: 2.51s\n",
      "112:\tlearn: 0.3384665\ttotal: 320ms\tremaining: 2.51s\n",
      "113:\tlearn: 0.3376072\ttotal: 323ms\tremaining: 2.51s\n",
      "114:\tlearn: 0.3365383\ttotal: 325ms\tremaining: 2.5s\n",
      "115:\tlearn: 0.3361518\ttotal: 327ms\tremaining: 2.49s\n",
      "116:\tlearn: 0.3356991\ttotal: 330ms\tremaining: 2.49s\n",
      "117:\tlearn: 0.3353162\ttotal: 332ms\tremaining: 2.48s\n",
      "118:\tlearn: 0.3337011\ttotal: 334ms\tremaining: 2.48s\n",
      "119:\tlearn: 0.3332685\ttotal: 337ms\tremaining: 2.47s\n",
      "120:\tlearn: 0.3329143\ttotal: 339ms\tremaining: 2.46s\n",
      "121:\tlearn: 0.3325112\ttotal: 342ms\tremaining: 2.46s\n",
      "122:\tlearn: 0.3318541\ttotal: 344ms\tremaining: 2.45s\n",
      "123:\tlearn: 0.3310773\ttotal: 346ms\tremaining: 2.45s\n",
      "124:\tlearn: 0.3307518\ttotal: 349ms\tremaining: 2.44s\n",
      "125:\tlearn: 0.3294607\ttotal: 351ms\tremaining: 2.44s\n",
      "126:\tlearn: 0.3291808\ttotal: 354ms\tremaining: 2.43s\n",
      "127:\tlearn: 0.3289398\ttotal: 356ms\tremaining: 2.42s\n",
      "128:\tlearn: 0.3286821\ttotal: 358ms\tremaining: 2.42s\n",
      "129:\tlearn: 0.3283750\ttotal: 361ms\tremaining: 2.41s\n",
      "130:\tlearn: 0.3279937\ttotal: 363ms\tremaining: 2.41s\n",
      "131:\tlearn: 0.3276828\ttotal: 366ms\tremaining: 2.4s\n",
      "132:\tlearn: 0.3270322\ttotal: 368ms\tremaining: 2.4s\n",
      "133:\tlearn: 0.3261957\ttotal: 371ms\tremaining: 2.4s\n",
      "134:\tlearn: 0.3252975\ttotal: 373ms\tremaining: 2.39s\n",
      "135:\tlearn: 0.3248476\ttotal: 376ms\tremaining: 2.38s\n",
      "136:\tlearn: 0.3244732\ttotal: 378ms\tremaining: 2.38s\n",
      "137:\tlearn: 0.3241671\ttotal: 381ms\tremaining: 2.38s\n",
      "138:\tlearn: 0.3235286\ttotal: 384ms\tremaining: 2.38s\n",
      "139:\tlearn: 0.3223188\ttotal: 388ms\tremaining: 2.38s\n",
      "140:\tlearn: 0.3216769\ttotal: 391ms\tremaining: 2.38s\n",
      "141:\tlearn: 0.3214838\ttotal: 393ms\tremaining: 2.38s\n",
      "142:\tlearn: 0.3200103\ttotal: 397ms\tremaining: 2.38s\n",
      "143:\tlearn: 0.3195385\ttotal: 400ms\tremaining: 2.38s\n",
      "144:\tlearn: 0.3191229\ttotal: 403ms\tremaining: 2.38s\n",
      "145:\tlearn: 0.3186324\ttotal: 405ms\tremaining: 2.37s\n",
      "146:\tlearn: 0.3183158\ttotal: 408ms\tremaining: 2.37s\n",
      "147:\tlearn: 0.3178539\ttotal: 411ms\tremaining: 2.36s\n",
      "148:\tlearn: 0.3169744\ttotal: 413ms\tremaining: 2.36s\n",
      "149:\tlearn: 0.3159685\ttotal: 416ms\tremaining: 2.36s\n",
      "150:\tlearn: 0.3156884\ttotal: 418ms\tremaining: 2.35s\n",
      "151:\tlearn: 0.3155081\ttotal: 421ms\tremaining: 2.35s\n",
      "152:\tlearn: 0.3151458\ttotal: 423ms\tremaining: 2.34s\n",
      "153:\tlearn: 0.3142113\ttotal: 426ms\tremaining: 2.34s\n",
      "154:\tlearn: 0.3137739\ttotal: 429ms\tremaining: 2.34s\n",
      "155:\tlearn: 0.3135549\ttotal: 432ms\tremaining: 2.33s\n",
      "156:\tlearn: 0.3134369\ttotal: 434ms\tremaining: 2.33s\n",
      "157:\tlearn: 0.3131577\ttotal: 437ms\tremaining: 2.33s\n",
      "158:\tlearn: 0.3130638\ttotal: 439ms\tremaining: 2.32s\n",
      "159:\tlearn: 0.3126767\ttotal: 442ms\tremaining: 2.32s\n",
      "160:\tlearn: 0.3123134\ttotal: 444ms\tremaining: 2.31s\n",
      "161:\tlearn: 0.3112231\ttotal: 447ms\tremaining: 2.31s\n",
      "162:\tlearn: 0.3109933\ttotal: 449ms\tremaining: 2.31s\n",
      "163:\tlearn: 0.3108010\ttotal: 451ms\tremaining: 2.3s\n",
      "164:\tlearn: 0.3105341\ttotal: 454ms\tremaining: 2.29s\n",
      "165:\tlearn: 0.3103110\ttotal: 456ms\tremaining: 2.29s\n",
      "166:\tlearn: 0.3099912\ttotal: 459ms\tremaining: 2.29s\n",
      "167:\tlearn: 0.3097053\ttotal: 461ms\tremaining: 2.28s\n",
      "168:\tlearn: 0.3090713\ttotal: 464ms\tremaining: 2.28s\n",
      "169:\tlearn: 0.3088542\ttotal: 466ms\tremaining: 2.27s\n",
      "170:\tlearn: 0.3087032\ttotal: 468ms\tremaining: 2.27s\n",
      "171:\tlearn: 0.3085225\ttotal: 471ms\tremaining: 2.27s\n",
      "172:\tlearn: 0.3082505\ttotal: 473ms\tremaining: 2.26s\n",
      "173:\tlearn: 0.3078659\ttotal: 476ms\tremaining: 2.26s\n",
      "174:\tlearn: 0.3076165\ttotal: 478ms\tremaining: 2.25s\n",
      "175:\tlearn: 0.3073775\ttotal: 481ms\tremaining: 2.25s\n",
      "176:\tlearn: 0.3072738\ttotal: 483ms\tremaining: 2.25s\n",
      "177:\tlearn: 0.3068323\ttotal: 485ms\tremaining: 2.24s\n",
      "178:\tlearn: 0.3064553\ttotal: 488ms\tremaining: 2.24s\n",
      "179:\tlearn: 0.3059931\ttotal: 491ms\tremaining: 2.24s\n",
      "180:\tlearn: 0.3055508\ttotal: 493ms\tremaining: 2.23s\n",
      "181:\tlearn: 0.3053699\ttotal: 496ms\tremaining: 2.23s\n",
      "182:\tlearn: 0.3050856\ttotal: 498ms\tremaining: 2.22s\n",
      "183:\tlearn: 0.3048956\ttotal: 500ms\tremaining: 2.22s\n",
      "184:\tlearn: 0.3046374\ttotal: 503ms\tremaining: 2.22s\n",
      "185:\tlearn: 0.3042715\ttotal: 506ms\tremaining: 2.21s\n",
      "186:\tlearn: 0.3038964\ttotal: 508ms\tremaining: 2.21s\n",
      "187:\tlearn: 0.3035080\ttotal: 511ms\tremaining: 2.21s\n",
      "188:\tlearn: 0.3032762\ttotal: 513ms\tremaining: 2.2s\n",
      "189:\tlearn: 0.3030784\ttotal: 515ms\tremaining: 2.2s\n",
      "190:\tlearn: 0.3022983\ttotal: 518ms\tremaining: 2.19s\n",
      "191:\tlearn: 0.3021057\ttotal: 520ms\tremaining: 2.19s\n",
      "192:\tlearn: 0.3014817\ttotal: 523ms\tremaining: 2.19s\n",
      "193:\tlearn: 0.3011654\ttotal: 525ms\tremaining: 2.18s\n",
      "194:\tlearn: 0.3001953\ttotal: 528ms\tremaining: 2.18s\n",
      "195:\tlearn: 0.2999364\ttotal: 530ms\tremaining: 2.17s\n",
      "196:\tlearn: 0.2991590\ttotal: 532ms\tremaining: 2.17s\n",
      "197:\tlearn: 0.2989049\ttotal: 535ms\tremaining: 2.17s\n",
      "198:\tlearn: 0.2974013\ttotal: 538ms\tremaining: 2.17s\n",
      "199:\tlearn: 0.2971957\ttotal: 541ms\tremaining: 2.16s\n",
      "200:\tlearn: 0.2969881\ttotal: 544ms\tremaining: 2.16s\n",
      "201:\tlearn: 0.2963643\ttotal: 547ms\tremaining: 2.16s\n",
      "202:\tlearn: 0.2959106\ttotal: 550ms\tremaining: 2.16s\n",
      "203:\tlearn: 0.2956276\ttotal: 553ms\tremaining: 2.16s\n",
      "204:\tlearn: 0.2955335\ttotal: 556ms\tremaining: 2.15s\n",
      "205:\tlearn: 0.2952846\ttotal: 558ms\tremaining: 2.15s\n",
      "206:\tlearn: 0.2941586\ttotal: 561ms\tremaining: 2.15s\n",
      "207:\tlearn: 0.2938301\ttotal: 564ms\tremaining: 2.15s\n",
      "208:\tlearn: 0.2935222\ttotal: 566ms\tremaining: 2.14s\n",
      "209:\tlearn: 0.2932802\ttotal: 569ms\tremaining: 2.14s\n",
      "210:\tlearn: 0.2930440\ttotal: 571ms\tremaining: 2.13s\n",
      "211:\tlearn: 0.2926950\ttotal: 574ms\tremaining: 2.13s\n",
      "212:\tlearn: 0.2925091\ttotal: 576ms\tremaining: 2.13s\n",
      "213:\tlearn: 0.2913892\ttotal: 578ms\tremaining: 2.12s\n",
      "214:\tlearn: 0.2912352\ttotal: 581ms\tremaining: 2.12s\n",
      "215:\tlearn: 0.2910539\ttotal: 584ms\tremaining: 2.12s\n",
      "216:\tlearn: 0.2909467\ttotal: 586ms\tremaining: 2.12s\n",
      "217:\tlearn: 0.2908200\ttotal: 588ms\tremaining: 2.11s\n",
      "218:\tlearn: 0.2904420\ttotal: 591ms\tremaining: 2.11s\n",
      "219:\tlearn: 0.2901843\ttotal: 593ms\tremaining: 2.1s\n",
      "220:\tlearn: 0.2897967\ttotal: 596ms\tremaining: 2.1s\n",
      "221:\tlearn: 0.2892985\ttotal: 599ms\tremaining: 2.1s\n",
      "222:\tlearn: 0.2890812\ttotal: 601ms\tremaining: 2.09s\n",
      "223:\tlearn: 0.2890071\ttotal: 603ms\tremaining: 2.09s\n",
      "224:\tlearn: 0.2887852\ttotal: 605ms\tremaining: 2.08s\n",
      "225:\tlearn: 0.2884607\ttotal: 608ms\tremaining: 2.08s\n",
      "226:\tlearn: 0.2882511\ttotal: 610ms\tremaining: 2.08s\n",
      "227:\tlearn: 0.2879019\ttotal: 613ms\tremaining: 2.07s\n",
      "228:\tlearn: 0.2876436\ttotal: 615ms\tremaining: 2.07s\n",
      "229:\tlearn: 0.2874608\ttotal: 618ms\tremaining: 2.07s\n",
      "230:\tlearn: 0.2873246\ttotal: 620ms\tremaining: 2.06s\n",
      "231:\tlearn: 0.2868350\ttotal: 622ms\tremaining: 2.06s\n",
      "232:\tlearn: 0.2867373\ttotal: 625ms\tremaining: 2.06s\n",
      "233:\tlearn: 0.2864111\ttotal: 627ms\tremaining: 2.05s\n",
      "234:\tlearn: 0.2860666\ttotal: 630ms\tremaining: 2.05s\n",
      "235:\tlearn: 0.2858510\ttotal: 633ms\tremaining: 2.05s\n",
      "236:\tlearn: 0.2855193\ttotal: 635ms\tremaining: 2.04s\n",
      "237:\tlearn: 0.2854322\ttotal: 638ms\tremaining: 2.04s\n",
      "238:\tlearn: 0.2848746\ttotal: 641ms\tremaining: 2.04s\n",
      "239:\tlearn: 0.2846000\ttotal: 643ms\tremaining: 2.04s\n",
      "240:\tlearn: 0.2842309\ttotal: 646ms\tremaining: 2.03s\n",
      "241:\tlearn: 0.2841146\ttotal: 648ms\tremaining: 2.03s\n",
      "242:\tlearn: 0.2838006\ttotal: 651ms\tremaining: 2.03s\n",
      "243:\tlearn: 0.2834636\ttotal: 653ms\tremaining: 2.02s\n",
      "244:\tlearn: 0.2833495\ttotal: 657ms\tremaining: 2.02s\n",
      "245:\tlearn: 0.2828882\ttotal: 659ms\tremaining: 2.02s\n",
      "246:\tlearn: 0.2816828\ttotal: 662ms\tremaining: 2.02s\n",
      "247:\tlearn: 0.2813809\ttotal: 664ms\tremaining: 2.01s\n",
      "248:\tlearn: 0.2810504\ttotal: 667ms\tremaining: 2.01s\n",
      "249:\tlearn: 0.2808081\ttotal: 669ms\tremaining: 2.01s\n",
      "250:\tlearn: 0.2799101\ttotal: 672ms\tremaining: 2s\n",
      "251:\tlearn: 0.2796355\ttotal: 674ms\tremaining: 2s\n",
      "252:\tlearn: 0.2792646\ttotal: 677ms\tremaining: 2s\n",
      "253:\tlearn: 0.2789904\ttotal: 679ms\tremaining: 1.99s\n",
      "254:\tlearn: 0.2781324\ttotal: 681ms\tremaining: 1.99s\n",
      "255:\tlearn: 0.2776468\ttotal: 684ms\tremaining: 1.99s\n",
      "256:\tlearn: 0.2773821\ttotal: 687ms\tremaining: 1.99s\n",
      "257:\tlearn: 0.2773007\ttotal: 689ms\tremaining: 1.98s\n",
      "258:\tlearn: 0.2770514\ttotal: 692ms\tremaining: 1.98s\n",
      "259:\tlearn: 0.2766565\ttotal: 694ms\tremaining: 1.98s\n",
      "260:\tlearn: 0.2764365\ttotal: 697ms\tremaining: 1.97s\n",
      "261:\tlearn: 0.2762130\ttotal: 699ms\tremaining: 1.97s\n",
      "262:\tlearn: 0.2760219\ttotal: 701ms\tremaining: 1.97s\n",
      "263:\tlearn: 0.2756252\ttotal: 704ms\tremaining: 1.96s\n",
      "264:\tlearn: 0.2752757\ttotal: 707ms\tremaining: 1.96s\n",
      "265:\tlearn: 0.2750516\ttotal: 709ms\tremaining: 1.96s\n",
      "266:\tlearn: 0.2743234\ttotal: 712ms\tremaining: 1.95s\n",
      "267:\tlearn: 0.2740312\ttotal: 714ms\tremaining: 1.95s\n",
      "268:\tlearn: 0.2737735\ttotal: 717ms\tremaining: 1.95s\n",
      "269:\tlearn: 0.2735188\ttotal: 719ms\tremaining: 1.94s\n",
      "270:\tlearn: 0.2733564\ttotal: 724ms\tremaining: 1.95s\n",
      "271:\tlearn: 0.2730155\ttotal: 726ms\tremaining: 1.94s\n",
      "272:\tlearn: 0.2727203\ttotal: 729ms\tremaining: 1.94s\n",
      "273:\tlearn: 0.2725144\ttotal: 732ms\tremaining: 1.94s\n",
      "274:\tlearn: 0.2723398\ttotal: 734ms\tremaining: 1.94s\n",
      "275:\tlearn: 0.2720530\ttotal: 737ms\tremaining: 1.93s\n",
      "276:\tlearn: 0.2718825\ttotal: 739ms\tremaining: 1.93s\n",
      "277:\tlearn: 0.2715541\ttotal: 742ms\tremaining: 1.93s\n",
      "278:\tlearn: 0.2713742\ttotal: 744ms\tremaining: 1.92s\n",
      "279:\tlearn: 0.2712983\ttotal: 747ms\tremaining: 1.92s\n",
      "280:\tlearn: 0.2712225\ttotal: 749ms\tremaining: 1.92s\n",
      "281:\tlearn: 0.2703248\ttotal: 752ms\tremaining: 1.91s\n",
      "282:\tlearn: 0.2702657\ttotal: 754ms\tremaining: 1.91s\n",
      "283:\tlearn: 0.2700867\ttotal: 756ms\tremaining: 1.91s\n",
      "284:\tlearn: 0.2699938\ttotal: 759ms\tremaining: 1.9s\n",
      "285:\tlearn: 0.2696387\ttotal: 761ms\tremaining: 1.9s\n",
      "286:\tlearn: 0.2695525\ttotal: 764ms\tremaining: 1.9s\n",
      "287:\tlearn: 0.2692899\ttotal: 766ms\tremaining: 1.89s\n",
      "288:\tlearn: 0.2692211\ttotal: 769ms\tremaining: 1.89s\n",
      "289:\tlearn: 0.2690135\ttotal: 771ms\tremaining: 1.89s\n",
      "290:\tlearn: 0.2687224\ttotal: 773ms\tremaining: 1.88s\n",
      "291:\tlearn: 0.2684347\ttotal: 776ms\tremaining: 1.88s\n",
      "292:\tlearn: 0.2681338\ttotal: 778ms\tremaining: 1.88s\n",
      "293:\tlearn: 0.2678863\ttotal: 781ms\tremaining: 1.87s\n",
      "294:\tlearn: 0.2675887\ttotal: 783ms\tremaining: 1.87s\n",
      "295:\tlearn: 0.2671705\ttotal: 786ms\tremaining: 1.87s\n",
      "296:\tlearn: 0.2669372\ttotal: 788ms\tremaining: 1.86s\n",
      "297:\tlearn: 0.2662431\ttotal: 790ms\tremaining: 1.86s\n",
      "298:\tlearn: 0.2659961\ttotal: 793ms\tremaining: 1.86s\n",
      "299:\tlearn: 0.2657596\ttotal: 795ms\tremaining: 1.85s\n",
      "300:\tlearn: 0.2655469\ttotal: 798ms\tremaining: 1.85s\n",
      "301:\tlearn: 0.2649443\ttotal: 800ms\tremaining: 1.85s\n",
      "302:\tlearn: 0.2644421\ttotal: 802ms\tremaining: 1.84s\n",
      "303:\tlearn: 0.2643514\ttotal: 806ms\tremaining: 1.84s\n",
      "304:\tlearn: 0.2641650\ttotal: 808ms\tremaining: 1.84s\n",
      "305:\tlearn: 0.2635279\ttotal: 811ms\tremaining: 1.84s\n",
      "306:\tlearn: 0.2631562\ttotal: 814ms\tremaining: 1.84s\n",
      "307:\tlearn: 0.2630976\ttotal: 816ms\tremaining: 1.83s\n",
      "308:\tlearn: 0.2629293\ttotal: 819ms\tremaining: 1.83s\n",
      "309:\tlearn: 0.2627182\ttotal: 821ms\tremaining: 1.83s\n",
      "310:\tlearn: 0.2625614\ttotal: 823ms\tremaining: 1.82s\n",
      "311:\tlearn: 0.2624799\ttotal: 826ms\tremaining: 1.82s\n",
      "312:\tlearn: 0.2620076\ttotal: 829ms\tremaining: 1.82s\n",
      "313:\tlearn: 0.2618602\ttotal: 831ms\tremaining: 1.81s\n",
      "314:\tlearn: 0.2616445\ttotal: 833ms\tremaining: 1.81s\n",
      "315:\tlearn: 0.2612279\ttotal: 836ms\tremaining: 1.81s\n",
      "316:\tlearn: 0.2609757\ttotal: 838ms\tremaining: 1.81s\n",
      "317:\tlearn: 0.2603949\ttotal: 841ms\tremaining: 1.8s\n",
      "318:\tlearn: 0.2601072\ttotal: 843ms\tremaining: 1.8s\n",
      "319:\tlearn: 0.2599156\ttotal: 846ms\tremaining: 1.8s\n",
      "320:\tlearn: 0.2597650\ttotal: 848ms\tremaining: 1.79s\n",
      "321:\tlearn: 0.2595677\ttotal: 851ms\tremaining: 1.79s\n",
      "322:\tlearn: 0.2593007\ttotal: 853ms\tremaining: 1.79s\n",
      "323:\tlearn: 0.2591795\ttotal: 855ms\tremaining: 1.78s\n",
      "324:\tlearn: 0.2590165\ttotal: 858ms\tremaining: 1.78s\n",
      "325:\tlearn: 0.2587537\ttotal: 861ms\tremaining: 1.78s\n",
      "326:\tlearn: 0.2585389\ttotal: 863ms\tremaining: 1.78s\n",
      "327:\tlearn: 0.2584368\ttotal: 865ms\tremaining: 1.77s\n",
      "328:\tlearn: 0.2577678\ttotal: 868ms\tremaining: 1.77s\n",
      "329:\tlearn: 0.2576569\ttotal: 870ms\tremaining: 1.77s\n",
      "330:\tlearn: 0.2575607\ttotal: 873ms\tremaining: 1.76s\n",
      "331:\tlearn: 0.2573816\ttotal: 875ms\tremaining: 1.76s\n",
      "332:\tlearn: 0.2573301\ttotal: 878ms\tremaining: 1.76s\n",
      "333:\tlearn: 0.2570138\ttotal: 880ms\tremaining: 1.75s\n",
      "334:\tlearn: 0.2567097\ttotal: 883ms\tremaining: 1.75s\n",
      "335:\tlearn: 0.2564552\ttotal: 885ms\tremaining: 1.75s\n",
      "336:\tlearn: 0.2562394\ttotal: 887ms\tremaining: 1.75s\n",
      "337:\tlearn: 0.2560754\ttotal: 890ms\tremaining: 1.74s\n",
      "338:\tlearn: 0.2558744\ttotal: 893ms\tremaining: 1.74s\n",
      "339:\tlearn: 0.2557331\ttotal: 895ms\tremaining: 1.74s\n",
      "340:\tlearn: 0.2556353\ttotal: 898ms\tremaining: 1.74s\n",
      "341:\tlearn: 0.2555005\ttotal: 901ms\tremaining: 1.73s\n",
      "342:\tlearn: 0.2551816\ttotal: 903ms\tremaining: 1.73s\n",
      "343:\tlearn: 0.2550462\ttotal: 907ms\tremaining: 1.73s\n",
      "344:\tlearn: 0.2548119\ttotal: 910ms\tremaining: 1.73s\n",
      "345:\tlearn: 0.2545672\ttotal: 912ms\tremaining: 1.72s\n",
      "346:\tlearn: 0.2544470\ttotal: 915ms\tremaining: 1.72s\n",
      "347:\tlearn: 0.2542777\ttotal: 917ms\tremaining: 1.72s\n",
      "348:\tlearn: 0.2540774\ttotal: 920ms\tremaining: 1.72s\n",
      "349:\tlearn: 0.2539476\ttotal: 922ms\tremaining: 1.71s\n",
      "350:\tlearn: 0.2538191\ttotal: 926ms\tremaining: 1.71s\n",
      "351:\tlearn: 0.2536444\ttotal: 928ms\tremaining: 1.71s\n",
      "352:\tlearn: 0.2535446\ttotal: 930ms\tremaining: 1.71s\n",
      "353:\tlearn: 0.2532697\ttotal: 933ms\tremaining: 1.7s\n",
      "354:\tlearn: 0.2531490\ttotal: 935ms\tremaining: 1.7s\n",
      "355:\tlearn: 0.2529288\ttotal: 938ms\tremaining: 1.7s\n",
      "356:\tlearn: 0.2525929\ttotal: 941ms\tremaining: 1.69s\n",
      "357:\tlearn: 0.2524157\ttotal: 943ms\tremaining: 1.69s\n",
      "358:\tlearn: 0.2521468\ttotal: 946ms\tremaining: 1.69s\n",
      "359:\tlearn: 0.2520593\ttotal: 949ms\tremaining: 1.69s\n",
      "360:\tlearn: 0.2518655\ttotal: 952ms\tremaining: 1.69s\n",
      "361:\tlearn: 0.2515891\ttotal: 955ms\tremaining: 1.68s\n",
      "362:\tlearn: 0.2514752\ttotal: 957ms\tremaining: 1.68s\n",
      "363:\tlearn: 0.2514288\ttotal: 960ms\tremaining: 1.68s\n",
      "364:\tlearn: 0.2513873\ttotal: 962ms\tremaining: 1.67s\n",
      "365:\tlearn: 0.2511918\ttotal: 965ms\tremaining: 1.67s\n",
      "366:\tlearn: 0.2510164\ttotal: 968ms\tremaining: 1.67s\n",
      "367:\tlearn: 0.2508631\ttotal: 971ms\tremaining: 1.67s\n",
      "368:\tlearn: 0.2506749\ttotal: 973ms\tremaining: 1.66s\n",
      "369:\tlearn: 0.2505880\ttotal: 976ms\tremaining: 1.66s\n",
      "370:\tlearn: 0.2504587\ttotal: 979ms\tremaining: 1.66s\n",
      "371:\tlearn: 0.2502073\ttotal: 982ms\tremaining: 1.66s\n",
      "372:\tlearn: 0.2499306\ttotal: 984ms\tremaining: 1.65s\n",
      "373:\tlearn: 0.2498034\ttotal: 987ms\tremaining: 1.65s\n",
      "374:\tlearn: 0.2496925\ttotal: 989ms\tremaining: 1.65s\n",
      "375:\tlearn: 0.2495343\ttotal: 992ms\tremaining: 1.65s\n",
      "376:\tlearn: 0.2494304\ttotal: 995ms\tremaining: 1.64s\n",
      "377:\tlearn: 0.2492722\ttotal: 998ms\tremaining: 1.64s\n",
      "378:\tlearn: 0.2490441\ttotal: 1s\tremaining: 1.64s\n",
      "379:\tlearn: 0.2488392\ttotal: 1s\tremaining: 1.64s\n",
      "380:\tlearn: 0.2486774\ttotal: 1s\tremaining: 1.63s\n",
      "381:\tlearn: 0.2485313\ttotal: 1.01s\tremaining: 1.63s\n",
      "382:\tlearn: 0.2484439\ttotal: 1.01s\tremaining: 1.63s\n",
      "383:\tlearn: 0.2482388\ttotal: 1.01s\tremaining: 1.63s\n",
      "384:\tlearn: 0.2480846\ttotal: 1.02s\tremaining: 1.62s\n",
      "385:\tlearn: 0.2480103\ttotal: 1.02s\tremaining: 1.62s\n",
      "386:\tlearn: 0.2477840\ttotal: 1.02s\tremaining: 1.62s\n",
      "387:\tlearn: 0.2476589\ttotal: 1.02s\tremaining: 1.62s\n",
      "388:\tlearn: 0.2473669\ttotal: 1.03s\tremaining: 1.61s\n",
      "389:\tlearn: 0.2470818\ttotal: 1.03s\tremaining: 1.61s\n",
      "390:\tlearn: 0.2469933\ttotal: 1.03s\tremaining: 1.61s\n",
      "391:\tlearn: 0.2469327\ttotal: 1.03s\tremaining: 1.6s\n",
      "392:\tlearn: 0.2469043\ttotal: 1.04s\tremaining: 1.6s\n",
      "393:\tlearn: 0.2467146\ttotal: 1.04s\tremaining: 1.6s\n",
      "394:\tlearn: 0.2465595\ttotal: 1.04s\tremaining: 1.6s\n",
      "395:\tlearn: 0.2465152\ttotal: 1.04s\tremaining: 1.59s\n",
      "396:\tlearn: 0.2462326\ttotal: 1.05s\tremaining: 1.59s\n",
      "397:\tlearn: 0.2461137\ttotal: 1.05s\tremaining: 1.59s\n",
      "398:\tlearn: 0.2458932\ttotal: 1.05s\tremaining: 1.58s\n",
      "399:\tlearn: 0.2456553\ttotal: 1.06s\tremaining: 1.58s\n",
      "400:\tlearn: 0.2453331\ttotal: 1.06s\tremaining: 1.58s\n",
      "401:\tlearn: 0.2447575\ttotal: 1.06s\tremaining: 1.58s\n",
      "402:\tlearn: 0.2442646\ttotal: 1.06s\tremaining: 1.58s\n",
      "403:\tlearn: 0.2440878\ttotal: 1.07s\tremaining: 1.57s\n",
      "404:\tlearn: 0.2439153\ttotal: 1.07s\tremaining: 1.57s\n",
      "405:\tlearn: 0.2434957\ttotal: 1.07s\tremaining: 1.57s\n",
      "406:\tlearn: 0.2433389\ttotal: 1.07s\tremaining: 1.57s\n",
      "407:\tlearn: 0.2432712\ttotal: 1.08s\tremaining: 1.56s\n",
      "408:\tlearn: 0.2430995\ttotal: 1.08s\tremaining: 1.56s\n",
      "409:\tlearn: 0.2428763\ttotal: 1.08s\tremaining: 1.56s\n",
      "410:\tlearn: 0.2428422\ttotal: 1.08s\tremaining: 1.55s\n",
      "411:\tlearn: 0.2426745\ttotal: 1.09s\tremaining: 1.55s\n",
      "412:\tlearn: 0.2421549\ttotal: 1.09s\tremaining: 1.55s\n",
      "413:\tlearn: 0.2416774\ttotal: 1.09s\tremaining: 1.55s\n",
      "414:\tlearn: 0.2415585\ttotal: 1.1s\tremaining: 1.54s\n",
      "415:\tlearn: 0.2412764\ttotal: 1.1s\tremaining: 1.54s\n",
      "416:\tlearn: 0.2411886\ttotal: 1.1s\tremaining: 1.54s\n",
      "417:\tlearn: 0.2411110\ttotal: 1.1s\tremaining: 1.54s\n",
      "418:\tlearn: 0.2409549\ttotal: 1.11s\tremaining: 1.53s\n",
      "419:\tlearn: 0.2409334\ttotal: 1.11s\tremaining: 1.53s\n",
      "420:\tlearn: 0.2408243\ttotal: 1.11s\tremaining: 1.53s\n",
      "421:\tlearn: 0.2406564\ttotal: 1.11s\tremaining: 1.53s\n",
      "422:\tlearn: 0.2405011\ttotal: 1.12s\tremaining: 1.52s\n",
      "423:\tlearn: 0.2402814\ttotal: 1.12s\tremaining: 1.52s\n",
      "424:\tlearn: 0.2399405\ttotal: 1.12s\tremaining: 1.52s\n",
      "425:\tlearn: 0.2398089\ttotal: 1.12s\tremaining: 1.51s\n",
      "426:\tlearn: 0.2396913\ttotal: 1.13s\tremaining: 1.51s\n",
      "427:\tlearn: 0.2396222\ttotal: 1.13s\tremaining: 1.51s\n",
      "428:\tlearn: 0.2394284\ttotal: 1.13s\tremaining: 1.51s\n",
      "429:\tlearn: 0.2392819\ttotal: 1.13s\tremaining: 1.5s\n",
      "430:\tlearn: 0.2389569\ttotal: 1.14s\tremaining: 1.5s\n",
      "431:\tlearn: 0.2388109\ttotal: 1.14s\tremaining: 1.5s\n",
      "432:\tlearn: 0.2386599\ttotal: 1.14s\tremaining: 1.5s\n",
      "433:\tlearn: 0.2385557\ttotal: 1.15s\tremaining: 1.49s\n",
      "434:\tlearn: 0.2384503\ttotal: 1.15s\tremaining: 1.49s\n",
      "435:\tlearn: 0.2382501\ttotal: 1.15s\tremaining: 1.49s\n",
      "436:\tlearn: 0.2381116\ttotal: 1.15s\tremaining: 1.48s\n",
      "437:\tlearn: 0.2379743\ttotal: 1.15s\tremaining: 1.48s\n",
      "438:\tlearn: 0.2378488\ttotal: 1.16s\tremaining: 1.48s\n",
      "439:\tlearn: 0.2376644\ttotal: 1.16s\tremaining: 1.48s\n",
      "440:\tlearn: 0.2375772\ttotal: 1.16s\tremaining: 1.47s\n",
      "441:\tlearn: 0.2373677\ttotal: 1.17s\tremaining: 1.47s\n",
      "442:\tlearn: 0.2369210\ttotal: 1.17s\tremaining: 1.47s\n",
      "443:\tlearn: 0.2368245\ttotal: 1.17s\tremaining: 1.47s\n",
      "444:\tlearn: 0.2366937\ttotal: 1.18s\tremaining: 1.47s\n",
      "445:\tlearn: 0.2364305\ttotal: 1.18s\tremaining: 1.46s\n",
      "446:\tlearn: 0.2363082\ttotal: 1.18s\tremaining: 1.46s\n",
      "447:\tlearn: 0.2362079\ttotal: 1.18s\tremaining: 1.46s\n",
      "448:\tlearn: 0.2360053\ttotal: 1.19s\tremaining: 1.46s\n",
      "449:\tlearn: 0.2358263\ttotal: 1.19s\tremaining: 1.45s\n",
      "450:\tlearn: 0.2356731\ttotal: 1.19s\tremaining: 1.45s\n",
      "451:\tlearn: 0.2355344\ttotal: 1.19s\tremaining: 1.45s\n",
      "452:\tlearn: 0.2353573\ttotal: 1.2s\tremaining: 1.44s\n",
      "453:\tlearn: 0.2351669\ttotal: 1.2s\tremaining: 1.44s\n",
      "454:\tlearn: 0.2349476\ttotal: 1.2s\tremaining: 1.44s\n",
      "455:\tlearn: 0.2347802\ttotal: 1.2s\tremaining: 1.44s\n",
      "456:\tlearn: 0.2346112\ttotal: 1.21s\tremaining: 1.43s\n",
      "457:\tlearn: 0.2344156\ttotal: 1.21s\tremaining: 1.43s\n",
      "458:\tlearn: 0.2343228\ttotal: 1.21s\tremaining: 1.43s\n",
      "459:\tlearn: 0.2341739\ttotal: 1.21s\tremaining: 1.42s\n",
      "460:\tlearn: 0.2340233\ttotal: 1.22s\tremaining: 1.42s\n",
      "461:\tlearn: 0.2338261\ttotal: 1.22s\tremaining: 1.42s\n",
      "462:\tlearn: 0.2335967\ttotal: 1.22s\tremaining: 1.42s\n",
      "463:\tlearn: 0.2334449\ttotal: 1.22s\tremaining: 1.41s\n",
      "464:\tlearn: 0.2332166\ttotal: 1.23s\tremaining: 1.41s\n",
      "465:\tlearn: 0.2331386\ttotal: 1.23s\tremaining: 1.41s\n",
      "466:\tlearn: 0.2328707\ttotal: 1.23s\tremaining: 1.4s\n",
      "467:\tlearn: 0.2327209\ttotal: 1.23s\tremaining: 1.4s\n",
      "468:\tlearn: 0.2326782\ttotal: 1.24s\tremaining: 1.4s\n",
      "469:\tlearn: 0.2325768\ttotal: 1.24s\tremaining: 1.4s\n",
      "470:\tlearn: 0.2323639\ttotal: 1.24s\tremaining: 1.39s\n",
      "471:\tlearn: 0.2322253\ttotal: 1.24s\tremaining: 1.39s\n",
      "472:\tlearn: 0.2318660\ttotal: 1.25s\tremaining: 1.39s\n",
      "473:\tlearn: 0.2316514\ttotal: 1.25s\tremaining: 1.39s\n",
      "474:\tlearn: 0.2314834\ttotal: 1.25s\tremaining: 1.38s\n",
      "475:\tlearn: 0.2313601\ttotal: 1.25s\tremaining: 1.38s\n",
      "476:\tlearn: 0.2312649\ttotal: 1.26s\tremaining: 1.38s\n",
      "477:\tlearn: 0.2311278\ttotal: 1.26s\tremaining: 1.38s\n",
      "478:\tlearn: 0.2309973\ttotal: 1.26s\tremaining: 1.37s\n",
      "479:\tlearn: 0.2308588\ttotal: 1.26s\tremaining: 1.37s\n",
      "480:\tlearn: 0.2307892\ttotal: 1.27s\tremaining: 1.37s\n",
      "481:\tlearn: 0.2304920\ttotal: 1.27s\tremaining: 1.36s\n",
      "482:\tlearn: 0.2303615\ttotal: 1.27s\tremaining: 1.36s\n",
      "483:\tlearn: 0.2302779\ttotal: 1.27s\tremaining: 1.36s\n",
      "484:\tlearn: 0.2302173\ttotal: 1.28s\tremaining: 1.36s\n",
      "485:\tlearn: 0.2301248\ttotal: 1.28s\tremaining: 1.35s\n",
      "486:\tlearn: 0.2300229\ttotal: 1.28s\tremaining: 1.35s\n",
      "487:\tlearn: 0.2297803\ttotal: 1.29s\tremaining: 1.35s\n",
      "488:\tlearn: 0.2296195\ttotal: 1.29s\tremaining: 1.35s\n",
      "489:\tlearn: 0.2295332\ttotal: 1.29s\tremaining: 1.34s\n",
      "490:\tlearn: 0.2294854\ttotal: 1.29s\tremaining: 1.34s\n",
      "491:\tlearn: 0.2292942\ttotal: 1.3s\tremaining: 1.34s\n",
      "492:\tlearn: 0.2290570\ttotal: 1.3s\tremaining: 1.33s\n",
      "493:\tlearn: 0.2288358\ttotal: 1.3s\tremaining: 1.33s\n",
      "494:\tlearn: 0.2285492\ttotal: 1.3s\tremaining: 1.33s\n",
      "495:\tlearn: 0.2283920\ttotal: 1.31s\tremaining: 1.33s\n",
      "496:\tlearn: 0.2282200\ttotal: 1.31s\tremaining: 1.32s\n",
      "497:\tlearn: 0.2280298\ttotal: 1.31s\tremaining: 1.32s\n",
      "498:\tlearn: 0.2278528\ttotal: 1.31s\tremaining: 1.32s\n",
      "499:\tlearn: 0.2276226\ttotal: 1.32s\tremaining: 1.32s\n",
      "500:\tlearn: 0.2275935\ttotal: 1.32s\tremaining: 1.31s\n",
      "501:\tlearn: 0.2274563\ttotal: 1.32s\tremaining: 1.31s\n",
      "502:\tlearn: 0.2272765\ttotal: 1.32s\tremaining: 1.31s\n",
      "503:\tlearn: 0.2271905\ttotal: 1.33s\tremaining: 1.31s\n",
      "504:\tlearn: 0.2270300\ttotal: 1.33s\tremaining: 1.3s\n",
      "505:\tlearn: 0.2268988\ttotal: 1.33s\tremaining: 1.3s\n",
      "506:\tlearn: 0.2267180\ttotal: 1.33s\tremaining: 1.3s\n",
      "507:\tlearn: 0.2265256\ttotal: 1.34s\tremaining: 1.29s\n",
      "508:\tlearn: 0.2264341\ttotal: 1.34s\tremaining: 1.29s\n",
      "509:\tlearn: 0.2261829\ttotal: 1.34s\tremaining: 1.29s\n",
      "510:\tlearn: 0.2260674\ttotal: 1.34s\tremaining: 1.29s\n",
      "511:\tlearn: 0.2258443\ttotal: 1.35s\tremaining: 1.28s\n",
      "512:\tlearn: 0.2257622\ttotal: 1.35s\tremaining: 1.28s\n",
      "513:\tlearn: 0.2256572\ttotal: 1.35s\tremaining: 1.28s\n",
      "514:\tlearn: 0.2255381\ttotal: 1.35s\tremaining: 1.28s\n",
      "515:\tlearn: 0.2253026\ttotal: 1.36s\tremaining: 1.27s\n",
      "516:\tlearn: 0.2252028\ttotal: 1.36s\tremaining: 1.27s\n",
      "517:\tlearn: 0.2250725\ttotal: 1.36s\tremaining: 1.27s\n",
      "518:\tlearn: 0.2249541\ttotal: 1.36s\tremaining: 1.26s\n",
      "519:\tlearn: 0.2247167\ttotal: 1.37s\tremaining: 1.26s\n",
      "520:\tlearn: 0.2243011\ttotal: 1.37s\tremaining: 1.26s\n",
      "521:\tlearn: 0.2237834\ttotal: 1.37s\tremaining: 1.26s\n",
      "522:\tlearn: 0.2236195\ttotal: 1.38s\tremaining: 1.25s\n",
      "523:\tlearn: 0.2235710\ttotal: 1.38s\tremaining: 1.25s\n",
      "524:\tlearn: 0.2234976\ttotal: 1.38s\tremaining: 1.25s\n",
      "525:\tlearn: 0.2233371\ttotal: 1.38s\tremaining: 1.25s\n",
      "526:\tlearn: 0.2231915\ttotal: 1.39s\tremaining: 1.24s\n",
      "527:\tlearn: 0.2231667\ttotal: 1.39s\tremaining: 1.24s\n",
      "528:\tlearn: 0.2230432\ttotal: 1.39s\tremaining: 1.24s\n",
      "529:\tlearn: 0.2229326\ttotal: 1.39s\tremaining: 1.24s\n",
      "530:\tlearn: 0.2227700\ttotal: 1.4s\tremaining: 1.23s\n",
      "531:\tlearn: 0.2225085\ttotal: 1.4s\tremaining: 1.23s\n",
      "532:\tlearn: 0.2224330\ttotal: 1.4s\tremaining: 1.23s\n",
      "533:\tlearn: 0.2222608\ttotal: 1.4s\tremaining: 1.22s\n",
      "534:\tlearn: 0.2220121\ttotal: 1.41s\tremaining: 1.22s\n",
      "535:\tlearn: 0.2218174\ttotal: 1.41s\tremaining: 1.22s\n",
      "536:\tlearn: 0.2217688\ttotal: 1.41s\tremaining: 1.22s\n",
      "537:\tlearn: 0.2217266\ttotal: 1.41s\tremaining: 1.21s\n",
      "538:\tlearn: 0.2215216\ttotal: 1.42s\tremaining: 1.21s\n",
      "539:\tlearn: 0.2213896\ttotal: 1.42s\tremaining: 1.21s\n",
      "540:\tlearn: 0.2212611\ttotal: 1.42s\tremaining: 1.21s\n",
      "541:\tlearn: 0.2211085\ttotal: 1.42s\tremaining: 1.2s\n",
      "542:\tlearn: 0.2210856\ttotal: 1.43s\tremaining: 1.2s\n",
      "543:\tlearn: 0.2210081\ttotal: 1.43s\tremaining: 1.2s\n",
      "544:\tlearn: 0.2208465\ttotal: 1.43s\tremaining: 1.2s\n",
      "545:\tlearn: 0.2206785\ttotal: 1.43s\tremaining: 1.19s\n",
      "546:\tlearn: 0.2206430\ttotal: 1.44s\tremaining: 1.19s\n",
      "547:\tlearn: 0.2206134\ttotal: 1.44s\tremaining: 1.19s\n",
      "548:\tlearn: 0.2204573\ttotal: 1.44s\tremaining: 1.18s\n",
      "549:\tlearn: 0.2202119\ttotal: 1.44s\tremaining: 1.18s\n",
      "550:\tlearn: 0.2200953\ttotal: 1.45s\tremaining: 1.18s\n",
      "551:\tlearn: 0.2199472\ttotal: 1.45s\tremaining: 1.18s\n",
      "552:\tlearn: 0.2197115\ttotal: 1.45s\tremaining: 1.17s\n",
      "553:\tlearn: 0.2195935\ttotal: 1.46s\tremaining: 1.17s\n",
      "554:\tlearn: 0.2194388\ttotal: 1.46s\tremaining: 1.17s\n",
      "555:\tlearn: 0.2192530\ttotal: 1.46s\tremaining: 1.17s\n",
      "556:\tlearn: 0.2190047\ttotal: 1.46s\tremaining: 1.16s\n",
      "557:\tlearn: 0.2189190\ttotal: 1.47s\tremaining: 1.16s\n",
      "558:\tlearn: 0.2188177\ttotal: 1.47s\tremaining: 1.16s\n",
      "559:\tlearn: 0.2185764\ttotal: 1.47s\tremaining: 1.16s\n",
      "560:\tlearn: 0.2184411\ttotal: 1.47s\tremaining: 1.15s\n",
      "561:\tlearn: 0.2182810\ttotal: 1.48s\tremaining: 1.15s\n",
      "562:\tlearn: 0.2181832\ttotal: 1.48s\tremaining: 1.15s\n",
      "563:\tlearn: 0.2180394\ttotal: 1.49s\tremaining: 1.15s\n",
      "564:\tlearn: 0.2174820\ttotal: 1.49s\tremaining: 1.15s\n",
      "565:\tlearn: 0.2173477\ttotal: 1.49s\tremaining: 1.14s\n",
      "566:\tlearn: 0.2172533\ttotal: 1.49s\tremaining: 1.14s\n",
      "567:\tlearn: 0.2171308\ttotal: 1.5s\tremaining: 1.14s\n",
      "568:\tlearn: 0.2169096\ttotal: 1.5s\tremaining: 1.14s\n",
      "569:\tlearn: 0.2168067\ttotal: 1.5s\tremaining: 1.13s\n",
      "570:\tlearn: 0.2167221\ttotal: 1.5s\tremaining: 1.13s\n",
      "571:\tlearn: 0.2166026\ttotal: 1.51s\tremaining: 1.13s\n",
      "572:\tlearn: 0.2164062\ttotal: 1.51s\tremaining: 1.12s\n",
      "573:\tlearn: 0.2163088\ttotal: 1.51s\tremaining: 1.12s\n",
      "574:\tlearn: 0.2161666\ttotal: 1.51s\tremaining: 1.12s\n",
      "575:\tlearn: 0.2159277\ttotal: 1.52s\tremaining: 1.12s\n",
      "576:\tlearn: 0.2157590\ttotal: 1.52s\tremaining: 1.11s\n",
      "577:\tlearn: 0.2156964\ttotal: 1.52s\tremaining: 1.11s\n",
      "578:\tlearn: 0.2154946\ttotal: 1.53s\tremaining: 1.11s\n",
      "579:\tlearn: 0.2153011\ttotal: 1.53s\tremaining: 1.11s\n",
      "580:\tlearn: 0.2151289\ttotal: 1.53s\tremaining: 1.1s\n",
      "581:\tlearn: 0.2150264\ttotal: 1.53s\tremaining: 1.1s\n",
      "582:\tlearn: 0.2147001\ttotal: 1.54s\tremaining: 1.1s\n",
      "583:\tlearn: 0.2145737\ttotal: 1.54s\tremaining: 1.1s\n",
      "584:\tlearn: 0.2143794\ttotal: 1.54s\tremaining: 1.09s\n",
      "585:\tlearn: 0.2142926\ttotal: 1.55s\tremaining: 1.09s\n",
      "586:\tlearn: 0.2140957\ttotal: 1.55s\tremaining: 1.09s\n",
      "587:\tlearn: 0.2139153\ttotal: 1.55s\tremaining: 1.09s\n",
      "588:\tlearn: 0.2137673\ttotal: 1.56s\tremaining: 1.09s\n",
      "589:\tlearn: 0.2136777\ttotal: 1.56s\tremaining: 1.08s\n",
      "590:\tlearn: 0.2135602\ttotal: 1.56s\tremaining: 1.08s\n",
      "591:\tlearn: 0.2134673\ttotal: 1.56s\tremaining: 1.08s\n",
      "592:\tlearn: 0.2132143\ttotal: 1.57s\tremaining: 1.08s\n",
      "593:\tlearn: 0.2130326\ttotal: 1.57s\tremaining: 1.07s\n",
      "594:\tlearn: 0.2129405\ttotal: 1.57s\tremaining: 1.07s\n",
      "595:\tlearn: 0.2129029\ttotal: 1.57s\tremaining: 1.07s\n",
      "596:\tlearn: 0.2128112\ttotal: 1.58s\tremaining: 1.06s\n",
      "597:\tlearn: 0.2126665\ttotal: 1.58s\tremaining: 1.06s\n",
      "598:\tlearn: 0.2125443\ttotal: 1.58s\tremaining: 1.06s\n",
      "599:\tlearn: 0.2125188\ttotal: 1.59s\tremaining: 1.06s\n",
      "600:\tlearn: 0.2123988\ttotal: 1.59s\tremaining: 1.05s\n",
      "601:\tlearn: 0.2121116\ttotal: 1.59s\tremaining: 1.05s\n",
      "602:\tlearn: 0.2119960\ttotal: 1.59s\tremaining: 1.05s\n",
      "603:\tlearn: 0.2118996\ttotal: 1.6s\tremaining: 1.05s\n",
      "604:\tlearn: 0.2118155\ttotal: 1.6s\tremaining: 1.04s\n",
      "605:\tlearn: 0.2117314\ttotal: 1.6s\tremaining: 1.04s\n",
      "606:\tlearn: 0.2116551\ttotal: 1.6s\tremaining: 1.04s\n",
      "607:\tlearn: 0.2115153\ttotal: 1.61s\tremaining: 1.04s\n",
      "608:\tlearn: 0.2114450\ttotal: 1.61s\tremaining: 1.03s\n",
      "609:\tlearn: 0.2114298\ttotal: 1.61s\tremaining: 1.03s\n",
      "610:\tlearn: 0.2112803\ttotal: 1.62s\tremaining: 1.03s\n",
      "611:\tlearn: 0.2111816\ttotal: 1.62s\tremaining: 1.03s\n",
      "612:\tlearn: 0.2110448\ttotal: 1.62s\tremaining: 1.02s\n",
      "613:\tlearn: 0.2108890\ttotal: 1.63s\tremaining: 1.02s\n",
      "614:\tlearn: 0.2107360\ttotal: 1.63s\tremaining: 1.02s\n",
      "615:\tlearn: 0.2106514\ttotal: 1.63s\tremaining: 1.02s\n",
      "616:\tlearn: 0.2105732\ttotal: 1.63s\tremaining: 1.01s\n",
      "617:\tlearn: 0.2105060\ttotal: 1.64s\tremaining: 1.01s\n",
      "618:\tlearn: 0.2103224\ttotal: 1.64s\tremaining: 1.01s\n",
      "619:\tlearn: 0.2102358\ttotal: 1.64s\tremaining: 1.01s\n",
      "620:\tlearn: 0.2101774\ttotal: 1.64s\tremaining: 1s\n",
      "621:\tlearn: 0.2100441\ttotal: 1.65s\tremaining: 1s\n",
      "622:\tlearn: 0.2098298\ttotal: 1.65s\tremaining: 998ms\n",
      "623:\tlearn: 0.2097664\ttotal: 1.65s\tremaining: 995ms\n",
      "624:\tlearn: 0.2093966\ttotal: 1.65s\tremaining: 993ms\n",
      "625:\tlearn: 0.2092073\ttotal: 1.66s\tremaining: 990ms\n",
      "626:\tlearn: 0.2090968\ttotal: 1.66s\tremaining: 987ms\n",
      "627:\tlearn: 0.2090521\ttotal: 1.66s\tremaining: 984ms\n",
      "628:\tlearn: 0.2089151\ttotal: 1.66s\tremaining: 982ms\n",
      "629:\tlearn: 0.2087623\ttotal: 1.67s\tremaining: 979ms\n",
      "630:\tlearn: 0.2085689\ttotal: 1.67s\tremaining: 976ms\n",
      "631:\tlearn: 0.2085092\ttotal: 1.67s\tremaining: 974ms\n",
      "632:\tlearn: 0.2083830\ttotal: 1.67s\tremaining: 971ms\n",
      "633:\tlearn: 0.2082752\ttotal: 1.68s\tremaining: 968ms\n",
      "634:\tlearn: 0.2081935\ttotal: 1.68s\tremaining: 965ms\n",
      "635:\tlearn: 0.2080637\ttotal: 1.68s\tremaining: 963ms\n",
      "636:\tlearn: 0.2079331\ttotal: 1.68s\tremaining: 960ms\n",
      "637:\tlearn: 0.2078421\ttotal: 1.69s\tremaining: 957ms\n",
      "638:\tlearn: 0.2075662\ttotal: 1.69s\tremaining: 954ms\n",
      "639:\tlearn: 0.2074075\ttotal: 1.69s\tremaining: 952ms\n",
      "640:\tlearn: 0.2069933\ttotal: 1.69s\tremaining: 949ms\n",
      "641:\tlearn: 0.2069691\ttotal: 1.7s\tremaining: 946ms\n",
      "642:\tlearn: 0.2068728\ttotal: 1.7s\tremaining: 944ms\n",
      "643:\tlearn: 0.2067094\ttotal: 1.7s\tremaining: 941ms\n",
      "644:\tlearn: 0.2064660\ttotal: 1.7s\tremaining: 938ms\n",
      "645:\tlearn: 0.2063994\ttotal: 1.71s\tremaining: 936ms\n",
      "646:\tlearn: 0.2063756\ttotal: 1.71s\tremaining: 933ms\n",
      "647:\tlearn: 0.2062693\ttotal: 1.71s\tremaining: 930ms\n",
      "648:\tlearn: 0.2062338\ttotal: 1.72s\tremaining: 928ms\n",
      "649:\tlearn: 0.2061004\ttotal: 1.72s\tremaining: 925ms\n",
      "650:\tlearn: 0.2060440\ttotal: 1.72s\tremaining: 922ms\n",
      "651:\tlearn: 0.2059905\ttotal: 1.72s\tremaining: 919ms\n",
      "652:\tlearn: 0.2058676\ttotal: 1.73s\tremaining: 917ms\n",
      "653:\tlearn: 0.2057223\ttotal: 1.73s\tremaining: 915ms\n",
      "654:\tlearn: 0.2056321\ttotal: 1.73s\tremaining: 912ms\n",
      "655:\tlearn: 0.2055169\ttotal: 1.73s\tremaining: 909ms\n",
      "656:\tlearn: 0.2053929\ttotal: 1.74s\tremaining: 906ms\n",
      "657:\tlearn: 0.2052043\ttotal: 1.74s\tremaining: 904ms\n",
      "658:\tlearn: 0.2050217\ttotal: 1.74s\tremaining: 901ms\n",
      "659:\tlearn: 0.2048803\ttotal: 1.74s\tremaining: 898ms\n",
      "660:\tlearn: 0.2047851\ttotal: 1.75s\tremaining: 896ms\n",
      "661:\tlearn: 0.2046683\ttotal: 1.75s\tremaining: 893ms\n",
      "662:\tlearn: 0.2045040\ttotal: 1.75s\tremaining: 891ms\n",
      "663:\tlearn: 0.2042211\ttotal: 1.75s\tremaining: 888ms\n",
      "664:\tlearn: 0.2041110\ttotal: 1.76s\tremaining: 885ms\n",
      "665:\tlearn: 0.2038957\ttotal: 1.76s\tremaining: 882ms\n",
      "666:\tlearn: 0.2038603\ttotal: 1.76s\tremaining: 880ms\n",
      "667:\tlearn: 0.2037164\ttotal: 1.76s\tremaining: 877ms\n",
      "668:\tlearn: 0.2036602\ttotal: 1.77s\tremaining: 874ms\n",
      "669:\tlearn: 0.2034481\ttotal: 1.77s\tremaining: 871ms\n",
      "670:\tlearn: 0.2032019\ttotal: 1.77s\tremaining: 869ms\n",
      "671:\tlearn: 0.2030794\ttotal: 1.77s\tremaining: 866ms\n",
      "672:\tlearn: 0.2029464\ttotal: 1.78s\tremaining: 863ms\n",
      "673:\tlearn: 0.2028515\ttotal: 1.78s\tremaining: 861ms\n",
      "674:\tlearn: 0.2027636\ttotal: 1.78s\tremaining: 858ms\n",
      "675:\tlearn: 0.2026675\ttotal: 1.78s\tremaining: 855ms\n",
      "676:\tlearn: 0.2022818\ttotal: 1.79s\tremaining: 852ms\n",
      "677:\tlearn: 0.2022137\ttotal: 1.79s\tremaining: 850ms\n",
      "678:\tlearn: 0.2020941\ttotal: 1.79s\tremaining: 847ms\n",
      "679:\tlearn: 0.2018972\ttotal: 1.79s\tremaining: 844ms\n",
      "680:\tlearn: 0.2017863\ttotal: 1.8s\tremaining: 842ms\n",
      "681:\tlearn: 0.2016537\ttotal: 1.8s\tremaining: 839ms\n",
      "682:\tlearn: 0.2014965\ttotal: 1.8s\tremaining: 836ms\n",
      "683:\tlearn: 0.2013868\ttotal: 1.8s\tremaining: 833ms\n",
      "684:\tlearn: 0.2013145\ttotal: 1.81s\tremaining: 831ms\n",
      "685:\tlearn: 0.2011667\ttotal: 1.81s\tremaining: 828ms\n",
      "686:\tlearn: 0.2010391\ttotal: 1.81s\tremaining: 825ms\n",
      "687:\tlearn: 0.2009405\ttotal: 1.81s\tremaining: 823ms\n",
      "688:\tlearn: 0.2008041\ttotal: 1.82s\tremaining: 820ms\n",
      "689:\tlearn: 0.2007198\ttotal: 1.82s\tremaining: 817ms\n",
      "690:\tlearn: 0.2006318\ttotal: 1.82s\tremaining: 815ms\n",
      "691:\tlearn: 0.2005285\ttotal: 1.82s\tremaining: 812ms\n",
      "692:\tlearn: 0.2004355\ttotal: 1.83s\tremaining: 809ms\n",
      "693:\tlearn: 0.2003265\ttotal: 1.83s\tremaining: 806ms\n",
      "694:\tlearn: 0.2002317\ttotal: 1.83s\tremaining: 804ms\n",
      "695:\tlearn: 0.2001655\ttotal: 1.83s\tremaining: 801ms\n",
      "696:\tlearn: 0.2000520\ttotal: 1.84s\tremaining: 798ms\n",
      "697:\tlearn: 0.1999190\ttotal: 1.84s\tremaining: 796ms\n",
      "698:\tlearn: 0.1998115\ttotal: 1.84s\tremaining: 793ms\n",
      "699:\tlearn: 0.1995058\ttotal: 1.84s\tremaining: 790ms\n",
      "700:\tlearn: 0.1994052\ttotal: 1.85s\tremaining: 788ms\n",
      "701:\tlearn: 0.1988143\ttotal: 1.85s\tremaining: 785ms\n",
      "702:\tlearn: 0.1984348\ttotal: 1.85s\tremaining: 782ms\n",
      "703:\tlearn: 0.1984023\ttotal: 1.85s\tremaining: 780ms\n",
      "704:\tlearn: 0.1982610\ttotal: 1.86s\tremaining: 777ms\n",
      "705:\tlearn: 0.1981714\ttotal: 1.86s\tremaining: 774ms\n",
      "706:\tlearn: 0.1980670\ttotal: 1.86s\tremaining: 772ms\n",
      "707:\tlearn: 0.1979307\ttotal: 1.86s\tremaining: 769ms\n",
      "708:\tlearn: 0.1976436\ttotal: 1.87s\tremaining: 766ms\n",
      "709:\tlearn: 0.1975876\ttotal: 1.87s\tremaining: 764ms\n",
      "710:\tlearn: 0.1973610\ttotal: 1.87s\tremaining: 761ms\n",
      "711:\tlearn: 0.1972155\ttotal: 1.87s\tremaining: 758ms\n",
      "712:\tlearn: 0.1971254\ttotal: 1.88s\tremaining: 756ms\n",
      "713:\tlearn: 0.1968575\ttotal: 1.88s\tremaining: 753ms\n",
      "714:\tlearn: 0.1967649\ttotal: 1.88s\tremaining: 750ms\n",
      "715:\tlearn: 0.1966375\ttotal: 1.88s\tremaining: 748ms\n",
      "716:\tlearn: 0.1965840\ttotal: 1.89s\tremaining: 745ms\n",
      "717:\tlearn: 0.1964400\ttotal: 1.89s\tremaining: 742ms\n",
      "718:\tlearn: 0.1961986\ttotal: 1.89s\tremaining: 739ms\n",
      "719:\tlearn: 0.1960984\ttotal: 1.89s\tremaining: 737ms\n",
      "720:\tlearn: 0.1959870\ttotal: 1.9s\tremaining: 734ms\n",
      "721:\tlearn: 0.1959530\ttotal: 1.9s\tremaining: 731ms\n",
      "722:\tlearn: 0.1957932\ttotal: 1.9s\tremaining: 729ms\n",
      "723:\tlearn: 0.1956891\ttotal: 1.9s\tremaining: 726ms\n",
      "724:\tlearn: 0.1955783\ttotal: 1.91s\tremaining: 723ms\n",
      "725:\tlearn: 0.1954631\ttotal: 1.91s\tremaining: 720ms\n",
      "726:\tlearn: 0.1952999\ttotal: 1.91s\tremaining: 718ms\n",
      "727:\tlearn: 0.1951593\ttotal: 1.91s\tremaining: 715ms\n",
      "728:\tlearn: 0.1950615\ttotal: 1.92s\tremaining: 712ms\n",
      "729:\tlearn: 0.1950012\ttotal: 1.92s\tremaining: 710ms\n",
      "730:\tlearn: 0.1948892\ttotal: 1.92s\tremaining: 707ms\n",
      "731:\tlearn: 0.1947827\ttotal: 1.92s\tremaining: 704ms\n",
      "732:\tlearn: 0.1945003\ttotal: 1.93s\tremaining: 702ms\n",
      "733:\tlearn: 0.1943935\ttotal: 1.93s\tremaining: 699ms\n",
      "734:\tlearn: 0.1942505\ttotal: 1.93s\tremaining: 697ms\n",
      "735:\tlearn: 0.1941435\ttotal: 1.94s\tremaining: 694ms\n",
      "736:\tlearn: 0.1940229\ttotal: 1.94s\tremaining: 692ms\n",
      "737:\tlearn: 0.1939006\ttotal: 1.94s\tremaining: 689ms\n",
      "738:\tlearn: 0.1938813\ttotal: 1.94s\tremaining: 686ms\n",
      "739:\tlearn: 0.1937376\ttotal: 1.95s\tremaining: 684ms\n",
      "740:\tlearn: 0.1937286\ttotal: 1.95s\tremaining: 681ms\n",
      "741:\tlearn: 0.1936192\ttotal: 1.95s\tremaining: 678ms\n",
      "742:\tlearn: 0.1935222\ttotal: 1.95s\tremaining: 676ms\n",
      "743:\tlearn: 0.1934288\ttotal: 1.96s\tremaining: 673ms\n",
      "744:\tlearn: 0.1933772\ttotal: 1.96s\tremaining: 670ms\n",
      "745:\tlearn: 0.1932800\ttotal: 1.96s\tremaining: 668ms\n",
      "746:\tlearn: 0.1931511\ttotal: 1.96s\tremaining: 665ms\n",
      "747:\tlearn: 0.1930413\ttotal: 1.97s\tremaining: 662ms\n",
      "748:\tlearn: 0.1929852\ttotal: 1.97s\tremaining: 660ms\n",
      "749:\tlearn: 0.1928908\ttotal: 1.97s\tremaining: 657ms\n",
      "750:\tlearn: 0.1928137\ttotal: 1.97s\tremaining: 655ms\n",
      "751:\tlearn: 0.1926587\ttotal: 1.98s\tremaining: 652ms\n",
      "752:\tlearn: 0.1925884\ttotal: 1.98s\tremaining: 650ms\n",
      "753:\tlearn: 0.1925148\ttotal: 1.98s\tremaining: 647ms\n",
      "754:\tlearn: 0.1923550\ttotal: 1.99s\tremaining: 644ms\n",
      "755:\tlearn: 0.1922595\ttotal: 1.99s\tremaining: 642ms\n",
      "756:\tlearn: 0.1921579\ttotal: 1.99s\tremaining: 639ms\n",
      "757:\tlearn: 0.1920782\ttotal: 1.99s\tremaining: 636ms\n",
      "758:\tlearn: 0.1919854\ttotal: 2s\tremaining: 634ms\n",
      "759:\tlearn: 0.1919529\ttotal: 2s\tremaining: 631ms\n",
      "760:\tlearn: 0.1917247\ttotal: 2s\tremaining: 628ms\n",
      "761:\tlearn: 0.1916418\ttotal: 2s\tremaining: 625ms\n",
      "762:\tlearn: 0.1916135\ttotal: 2s\tremaining: 623ms\n",
      "763:\tlearn: 0.1915623\ttotal: 2.01s\tremaining: 620ms\n",
      "764:\tlearn: 0.1914353\ttotal: 2.01s\tremaining: 617ms\n",
      "765:\tlearn: 0.1913776\ttotal: 2.01s\tremaining: 615ms\n",
      "766:\tlearn: 0.1912959\ttotal: 2.01s\tremaining: 612ms\n",
      "767:\tlearn: 0.1911943\ttotal: 2.02s\tremaining: 609ms\n",
      "768:\tlearn: 0.1910843\ttotal: 2.02s\tremaining: 607ms\n",
      "769:\tlearn: 0.1910041\ttotal: 2.02s\tremaining: 604ms\n",
      "770:\tlearn: 0.1909113\ttotal: 2.02s\tremaining: 601ms\n",
      "771:\tlearn: 0.1907506\ttotal: 2.03s\tremaining: 599ms\n",
      "772:\tlearn: 0.1905537\ttotal: 2.03s\tremaining: 596ms\n",
      "773:\tlearn: 0.1903801\ttotal: 2.03s\tremaining: 593ms\n",
      "774:\tlearn: 0.1902532\ttotal: 2.03s\tremaining: 591ms\n",
      "775:\tlearn: 0.1900431\ttotal: 2.04s\tremaining: 588ms\n",
      "776:\tlearn: 0.1899744\ttotal: 2.04s\tremaining: 585ms\n",
      "777:\tlearn: 0.1899224\ttotal: 2.04s\tremaining: 583ms\n",
      "778:\tlearn: 0.1898351\ttotal: 2.04s\tremaining: 580ms\n",
      "779:\tlearn: 0.1896584\ttotal: 2.05s\tremaining: 577ms\n",
      "780:\tlearn: 0.1895718\ttotal: 2.05s\tremaining: 575ms\n",
      "781:\tlearn: 0.1895444\ttotal: 2.05s\tremaining: 572ms\n",
      "782:\tlearn: 0.1894973\ttotal: 2.05s\tremaining: 569ms\n",
      "783:\tlearn: 0.1893317\ttotal: 2.06s\tremaining: 567ms\n",
      "784:\tlearn: 0.1891478\ttotal: 2.06s\tremaining: 564ms\n",
      "785:\tlearn: 0.1890722\ttotal: 2.06s\tremaining: 561ms\n",
      "786:\tlearn: 0.1889853\ttotal: 2.06s\tremaining: 559ms\n",
      "787:\tlearn: 0.1889184\ttotal: 2.07s\tremaining: 556ms\n",
      "788:\tlearn: 0.1888445\ttotal: 2.07s\tremaining: 554ms\n",
      "789:\tlearn: 0.1887813\ttotal: 2.07s\tremaining: 551ms\n",
      "790:\tlearn: 0.1886852\ttotal: 2.08s\tremaining: 548ms\n",
      "791:\tlearn: 0.1885686\ttotal: 2.08s\tremaining: 546ms\n",
      "792:\tlearn: 0.1884544\ttotal: 2.08s\tremaining: 543ms\n",
      "793:\tlearn: 0.1883304\ttotal: 2.08s\tremaining: 540ms\n",
      "794:\tlearn: 0.1882318\ttotal: 2.08s\tremaining: 538ms\n",
      "795:\tlearn: 0.1880763\ttotal: 2.09s\tremaining: 535ms\n",
      "796:\tlearn: 0.1880231\ttotal: 2.09s\tremaining: 532ms\n",
      "797:\tlearn: 0.1879737\ttotal: 2.09s\tremaining: 530ms\n",
      "798:\tlearn: 0.1879569\ttotal: 2.1s\tremaining: 527ms\n",
      "799:\tlearn: 0.1879310\ttotal: 2.1s\tremaining: 524ms\n",
      "800:\tlearn: 0.1877551\ttotal: 2.1s\tremaining: 522ms\n",
      "801:\tlearn: 0.1877025\ttotal: 2.1s\tremaining: 519ms\n",
      "802:\tlearn: 0.1876709\ttotal: 2.1s\tremaining: 516ms\n",
      "803:\tlearn: 0.1874965\ttotal: 2.11s\tremaining: 514ms\n",
      "804:\tlearn: 0.1870216\ttotal: 2.11s\tremaining: 512ms\n",
      "805:\tlearn: 0.1869676\ttotal: 2.12s\tremaining: 509ms\n",
      "806:\tlearn: 0.1868238\ttotal: 2.12s\tremaining: 507ms\n",
      "807:\tlearn: 0.1865321\ttotal: 2.12s\tremaining: 504ms\n",
      "808:\tlearn: 0.1864116\ttotal: 2.12s\tremaining: 501ms\n",
      "809:\tlearn: 0.1861654\ttotal: 2.13s\tremaining: 499ms\n",
      "810:\tlearn: 0.1860238\ttotal: 2.13s\tremaining: 496ms\n",
      "811:\tlearn: 0.1858929\ttotal: 2.13s\tremaining: 493ms\n",
      "812:\tlearn: 0.1857483\ttotal: 2.13s\tremaining: 491ms\n",
      "813:\tlearn: 0.1855730\ttotal: 2.13s\tremaining: 488ms\n",
      "814:\tlearn: 0.1855400\ttotal: 2.14s\tremaining: 485ms\n",
      "815:\tlearn: 0.1854979\ttotal: 2.14s\tremaining: 483ms\n",
      "816:\tlearn: 0.1854266\ttotal: 2.14s\tremaining: 480ms\n",
      "817:\tlearn: 0.1854017\ttotal: 2.15s\tremaining: 477ms\n",
      "818:\tlearn: 0.1852905\ttotal: 2.15s\tremaining: 475ms\n",
      "819:\tlearn: 0.1851506\ttotal: 2.15s\tremaining: 472ms\n",
      "820:\tlearn: 0.1850879\ttotal: 2.15s\tremaining: 469ms\n",
      "821:\tlearn: 0.1849842\ttotal: 2.15s\tremaining: 467ms\n",
      "822:\tlearn: 0.1849045\ttotal: 2.16s\tremaining: 464ms\n",
      "823:\tlearn: 0.1847831\ttotal: 2.16s\tremaining: 461ms\n",
      "824:\tlearn: 0.1847036\ttotal: 2.16s\tremaining: 459ms\n",
      "825:\tlearn: 0.1846700\ttotal: 2.17s\tremaining: 456ms\n",
      "826:\tlearn: 0.1845556\ttotal: 2.17s\tremaining: 453ms\n",
      "827:\tlearn: 0.1844969\ttotal: 2.17s\tremaining: 451ms\n",
      "828:\tlearn: 0.1843872\ttotal: 2.17s\tremaining: 448ms\n",
      "829:\tlearn: 0.1842373\ttotal: 2.18s\tremaining: 446ms\n",
      "830:\tlearn: 0.1840888\ttotal: 2.18s\tremaining: 443ms\n",
      "831:\tlearn: 0.1839634\ttotal: 2.18s\tremaining: 441ms\n",
      "832:\tlearn: 0.1837728\ttotal: 2.18s\tremaining: 438ms\n",
      "833:\tlearn: 0.1836003\ttotal: 2.19s\tremaining: 435ms\n",
      "834:\tlearn: 0.1834953\ttotal: 2.19s\tremaining: 433ms\n",
      "835:\tlearn: 0.1834026\ttotal: 2.19s\tremaining: 430ms\n",
      "836:\tlearn: 0.1833225\ttotal: 2.2s\tremaining: 428ms\n",
      "837:\tlearn: 0.1832669\ttotal: 2.2s\tremaining: 425ms\n",
      "838:\tlearn: 0.1832046\ttotal: 2.2s\tremaining: 422ms\n",
      "839:\tlearn: 0.1830796\ttotal: 2.2s\tremaining: 420ms\n",
      "840:\tlearn: 0.1830173\ttotal: 2.21s\tremaining: 417ms\n",
      "841:\tlearn: 0.1829418\ttotal: 2.21s\tremaining: 414ms\n",
      "842:\tlearn: 0.1828576\ttotal: 2.21s\tremaining: 412ms\n",
      "843:\tlearn: 0.1828012\ttotal: 2.21s\tremaining: 409ms\n",
      "844:\tlearn: 0.1827229\ttotal: 2.22s\tremaining: 406ms\n",
      "845:\tlearn: 0.1826972\ttotal: 2.22s\tremaining: 404ms\n",
      "846:\tlearn: 0.1826028\ttotal: 2.22s\tremaining: 401ms\n",
      "847:\tlearn: 0.1825535\ttotal: 2.22s\tremaining: 399ms\n",
      "848:\tlearn: 0.1825228\ttotal: 2.23s\tremaining: 396ms\n",
      "849:\tlearn: 0.1824257\ttotal: 2.23s\tremaining: 393ms\n",
      "850:\tlearn: 0.1823349\ttotal: 2.23s\tremaining: 391ms\n",
      "851:\tlearn: 0.1822911\ttotal: 2.23s\tremaining: 388ms\n",
      "852:\tlearn: 0.1822370\ttotal: 2.24s\tremaining: 385ms\n",
      "853:\tlearn: 0.1820579\ttotal: 2.24s\tremaining: 383ms\n",
      "854:\tlearn: 0.1818130\ttotal: 2.24s\tremaining: 380ms\n",
      "855:\tlearn: 0.1817397\ttotal: 2.24s\tremaining: 378ms\n",
      "856:\tlearn: 0.1816449\ttotal: 2.25s\tremaining: 375ms\n",
      "857:\tlearn: 0.1815500\ttotal: 2.25s\tremaining: 372ms\n",
      "858:\tlearn: 0.1812057\ttotal: 2.25s\tremaining: 370ms\n",
      "859:\tlearn: 0.1810873\ttotal: 2.25s\tremaining: 367ms\n",
      "860:\tlearn: 0.1809384\ttotal: 2.26s\tremaining: 364ms\n",
      "861:\tlearn: 0.1808750\ttotal: 2.26s\tremaining: 362ms\n",
      "862:\tlearn: 0.1807540\ttotal: 2.26s\tremaining: 359ms\n",
      "863:\tlearn: 0.1806605\ttotal: 2.26s\tremaining: 356ms\n",
      "864:\tlearn: 0.1805216\ttotal: 2.27s\tremaining: 354ms\n",
      "865:\tlearn: 0.1804498\ttotal: 2.27s\tremaining: 351ms\n",
      "866:\tlearn: 0.1803735\ttotal: 2.27s\tremaining: 349ms\n",
      "867:\tlearn: 0.1802887\ttotal: 2.27s\tremaining: 346ms\n",
      "868:\tlearn: 0.1802524\ttotal: 2.28s\tremaining: 343ms\n",
      "869:\tlearn: 0.1801354\ttotal: 2.28s\tremaining: 341ms\n",
      "870:\tlearn: 0.1799957\ttotal: 2.28s\tremaining: 338ms\n",
      "871:\tlearn: 0.1799419\ttotal: 2.28s\tremaining: 335ms\n",
      "872:\tlearn: 0.1798819\ttotal: 2.29s\tremaining: 333ms\n",
      "873:\tlearn: 0.1797817\ttotal: 2.29s\tremaining: 330ms\n",
      "874:\tlearn: 0.1796254\ttotal: 2.29s\tremaining: 328ms\n",
      "875:\tlearn: 0.1795672\ttotal: 2.29s\tremaining: 325ms\n",
      "876:\tlearn: 0.1795245\ttotal: 2.3s\tremaining: 322ms\n",
      "877:\tlearn: 0.1794455\ttotal: 2.3s\tremaining: 320ms\n",
      "878:\tlearn: 0.1793719\ttotal: 2.3s\tremaining: 317ms\n",
      "879:\tlearn: 0.1792706\ttotal: 2.31s\tremaining: 314ms\n",
      "880:\tlearn: 0.1792046\ttotal: 2.31s\tremaining: 312ms\n",
      "881:\tlearn: 0.1790732\ttotal: 2.31s\tremaining: 309ms\n",
      "882:\tlearn: 0.1789784\ttotal: 2.31s\tremaining: 306ms\n",
      "883:\tlearn: 0.1789060\ttotal: 2.31s\tremaining: 304ms\n",
      "884:\tlearn: 0.1787910\ttotal: 2.32s\tremaining: 301ms\n",
      "885:\tlearn: 0.1787379\ttotal: 2.32s\tremaining: 299ms\n",
      "886:\tlearn: 0.1786524\ttotal: 2.32s\tremaining: 296ms\n",
      "887:\tlearn: 0.1785276\ttotal: 2.33s\tremaining: 293ms\n",
      "888:\tlearn: 0.1784742\ttotal: 2.33s\tremaining: 291ms\n",
      "889:\tlearn: 0.1783883\ttotal: 2.33s\tremaining: 288ms\n",
      "890:\tlearn: 0.1783727\ttotal: 2.33s\tremaining: 285ms\n",
      "891:\tlearn: 0.1782892\ttotal: 2.33s\tremaining: 283ms\n",
      "892:\tlearn: 0.1781537\ttotal: 2.34s\tremaining: 280ms\n",
      "893:\tlearn: 0.1780103\ttotal: 2.34s\tremaining: 278ms\n",
      "894:\tlearn: 0.1779381\ttotal: 2.34s\tremaining: 275ms\n",
      "895:\tlearn: 0.1778094\ttotal: 2.35s\tremaining: 272ms\n",
      "896:\tlearn: 0.1777311\ttotal: 2.35s\tremaining: 270ms\n",
      "897:\tlearn: 0.1773826\ttotal: 2.35s\tremaining: 267ms\n",
      "898:\tlearn: 0.1773152\ttotal: 2.35s\tremaining: 264ms\n",
      "899:\tlearn: 0.1772110\ttotal: 2.35s\tremaining: 262ms\n",
      "900:\tlearn: 0.1771695\ttotal: 2.36s\tremaining: 259ms\n",
      "901:\tlearn: 0.1769764\ttotal: 2.36s\tremaining: 256ms\n",
      "902:\tlearn: 0.1768447\ttotal: 2.36s\tremaining: 254ms\n",
      "903:\tlearn: 0.1767786\ttotal: 2.37s\tremaining: 251ms\n",
      "904:\tlearn: 0.1766916\ttotal: 2.37s\tremaining: 249ms\n",
      "905:\tlearn: 0.1766560\ttotal: 2.37s\tremaining: 246ms\n",
      "906:\tlearn: 0.1764696\ttotal: 2.37s\tremaining: 243ms\n",
      "907:\tlearn: 0.1763714\ttotal: 2.38s\tremaining: 241ms\n",
      "908:\tlearn: 0.1761060\ttotal: 2.38s\tremaining: 238ms\n",
      "909:\tlearn: 0.1760147\ttotal: 2.38s\tremaining: 235ms\n",
      "910:\tlearn: 0.1759402\ttotal: 2.38s\tremaining: 233ms\n",
      "911:\tlearn: 0.1755624\ttotal: 2.38s\tremaining: 230ms\n",
      "912:\tlearn: 0.1755399\ttotal: 2.39s\tremaining: 228ms\n",
      "913:\tlearn: 0.1754395\ttotal: 2.39s\tremaining: 225ms\n",
      "914:\tlearn: 0.1754242\ttotal: 2.39s\tremaining: 222ms\n",
      "915:\tlearn: 0.1752120\ttotal: 2.4s\tremaining: 220ms\n",
      "916:\tlearn: 0.1751140\ttotal: 2.4s\tremaining: 217ms\n",
      "917:\tlearn: 0.1750629\ttotal: 2.4s\tremaining: 214ms\n",
      "918:\tlearn: 0.1750407\ttotal: 2.4s\tremaining: 212ms\n",
      "919:\tlearn: 0.1749469\ttotal: 2.4s\tremaining: 209ms\n",
      "920:\tlearn: 0.1748431\ttotal: 2.41s\tremaining: 207ms\n",
      "921:\tlearn: 0.1747519\ttotal: 2.41s\tremaining: 204ms\n",
      "922:\tlearn: 0.1746642\ttotal: 2.41s\tremaining: 201ms\n",
      "923:\tlearn: 0.1745024\ttotal: 2.42s\tremaining: 199ms\n",
      "924:\tlearn: 0.1743723\ttotal: 2.42s\tremaining: 196ms\n",
      "925:\tlearn: 0.1742762\ttotal: 2.42s\tremaining: 193ms\n",
      "926:\tlearn: 0.1742241\ttotal: 2.42s\tremaining: 191ms\n",
      "927:\tlearn: 0.1742035\ttotal: 2.42s\tremaining: 188ms\n",
      "928:\tlearn: 0.1740664\ttotal: 2.43s\tremaining: 186ms\n",
      "929:\tlearn: 0.1739663\ttotal: 2.43s\tremaining: 183ms\n",
      "930:\tlearn: 0.1737348\ttotal: 2.43s\tremaining: 180ms\n",
      "931:\tlearn: 0.1735595\ttotal: 2.44s\tremaining: 178ms\n",
      "932:\tlearn: 0.1734379\ttotal: 2.44s\tremaining: 175ms\n",
      "933:\tlearn: 0.1733217\ttotal: 2.44s\tremaining: 173ms\n",
      "934:\tlearn: 0.1732579\ttotal: 2.44s\tremaining: 170ms\n",
      "935:\tlearn: 0.1731428\ttotal: 2.45s\tremaining: 167ms\n",
      "936:\tlearn: 0.1730295\ttotal: 2.45s\tremaining: 165ms\n",
      "937:\tlearn: 0.1729515\ttotal: 2.45s\tremaining: 162ms\n",
      "938:\tlearn: 0.1729135\ttotal: 2.45s\tremaining: 159ms\n",
      "939:\tlearn: 0.1728568\ttotal: 2.46s\tremaining: 157ms\n",
      "940:\tlearn: 0.1725958\ttotal: 2.46s\tremaining: 154ms\n",
      "941:\tlearn: 0.1725406\ttotal: 2.46s\tremaining: 152ms\n",
      "942:\tlearn: 0.1723729\ttotal: 2.46s\tremaining: 149ms\n",
      "943:\tlearn: 0.1723561\ttotal: 2.47s\tremaining: 146ms\n",
      "944:\tlearn: 0.1722649\ttotal: 2.47s\tremaining: 144ms\n",
      "945:\tlearn: 0.1722054\ttotal: 2.47s\tremaining: 141ms\n",
      "946:\tlearn: 0.1720273\ttotal: 2.47s\tremaining: 138ms\n",
      "947:\tlearn: 0.1719665\ttotal: 2.48s\tremaining: 136ms\n",
      "948:\tlearn: 0.1719226\ttotal: 2.48s\tremaining: 133ms\n",
      "949:\tlearn: 0.1718677\ttotal: 2.48s\tremaining: 131ms\n",
      "950:\tlearn: 0.1718042\ttotal: 2.49s\tremaining: 128ms\n",
      "951:\tlearn: 0.1717189\ttotal: 2.49s\tremaining: 126ms\n",
      "952:\tlearn: 0.1715996\ttotal: 2.49s\tremaining: 123ms\n",
      "953:\tlearn: 0.1715446\ttotal: 2.49s\tremaining: 120ms\n",
      "954:\tlearn: 0.1714711\ttotal: 2.5s\tremaining: 118ms\n",
      "955:\tlearn: 0.1714561\ttotal: 2.5s\tremaining: 115ms\n",
      "956:\tlearn: 0.1713618\ttotal: 2.5s\tremaining: 112ms\n",
      "957:\tlearn: 0.1713083\ttotal: 2.5s\tremaining: 110ms\n",
      "958:\tlearn: 0.1712619\ttotal: 2.51s\tremaining: 107ms\n",
      "959:\tlearn: 0.1712157\ttotal: 2.51s\tremaining: 105ms\n",
      "960:\tlearn: 0.1711276\ttotal: 2.51s\tremaining: 102ms\n",
      "961:\tlearn: 0.1709975\ttotal: 2.52s\tremaining: 99.4ms\n",
      "962:\tlearn: 0.1707747\ttotal: 2.52s\tremaining: 96.8ms\n",
      "963:\tlearn: 0.1704979\ttotal: 2.52s\tremaining: 94.1ms\n",
      "964:\tlearn: 0.1703070\ttotal: 2.52s\tremaining: 91.5ms\n",
      "965:\tlearn: 0.1701373\ttotal: 2.52s\tremaining: 88.9ms\n",
      "966:\tlearn: 0.1700570\ttotal: 2.53s\tremaining: 86.3ms\n",
      "967:\tlearn: 0.1699923\ttotal: 2.53s\tremaining: 83.7ms\n",
      "968:\tlearn: 0.1698826\ttotal: 2.53s\tremaining: 81ms\n",
      "969:\tlearn: 0.1698345\ttotal: 2.54s\tremaining: 78.4ms\n",
      "970:\tlearn: 0.1697847\ttotal: 2.54s\tremaining: 75.8ms\n",
      "971:\tlearn: 0.1697209\ttotal: 2.54s\tremaining: 73.2ms\n",
      "972:\tlearn: 0.1695896\ttotal: 2.54s\tremaining: 70.6ms\n",
      "973:\tlearn: 0.1695313\ttotal: 2.54s\tremaining: 67.9ms\n",
      "974:\tlearn: 0.1695136\ttotal: 2.55s\tremaining: 65.3ms\n",
      "975:\tlearn: 0.1694835\ttotal: 2.55s\tremaining: 62.7ms\n",
      "976:\tlearn: 0.1693630\ttotal: 2.55s\tremaining: 60.1ms\n",
      "977:\tlearn: 0.1692500\ttotal: 2.56s\tremaining: 57.5ms\n",
      "978:\tlearn: 0.1691736\ttotal: 2.56s\tremaining: 54.9ms\n",
      "979:\tlearn: 0.1690757\ttotal: 2.56s\tremaining: 52.2ms\n",
      "980:\tlearn: 0.1689804\ttotal: 2.56s\tremaining: 49.6ms\n",
      "981:\tlearn: 0.1688701\ttotal: 2.56s\tremaining: 47ms\n",
      "982:\tlearn: 0.1688130\ttotal: 2.57s\tremaining: 44.4ms\n",
      "983:\tlearn: 0.1687968\ttotal: 2.57s\tremaining: 41.8ms\n",
      "984:\tlearn: 0.1686719\ttotal: 2.57s\tremaining: 39.2ms\n",
      "985:\tlearn: 0.1685962\ttotal: 2.58s\tremaining: 36.6ms\n",
      "986:\tlearn: 0.1684935\ttotal: 2.58s\tremaining: 34ms\n",
      "987:\tlearn: 0.1683238\ttotal: 2.58s\tremaining: 31.4ms\n",
      "988:\tlearn: 0.1682545\ttotal: 2.58s\tremaining: 28.7ms\n",
      "989:\tlearn: 0.1681805\ttotal: 2.59s\tremaining: 26.1ms\n",
      "990:\tlearn: 0.1680857\ttotal: 2.59s\tremaining: 23.5ms\n",
      "991:\tlearn: 0.1679730\ttotal: 2.59s\tremaining: 20.9ms\n",
      "992:\tlearn: 0.1678563\ttotal: 2.59s\tremaining: 18.3ms\n",
      "993:\tlearn: 0.1678488\ttotal: 2.6s\tremaining: 15.7ms\n",
      "994:\tlearn: 0.1674929\ttotal: 2.6s\tremaining: 13.1ms\n",
      "995:\tlearn: 0.1674275\ttotal: 2.6s\tremaining: 10.4ms\n",
      "996:\tlearn: 0.1673717\ttotal: 2.6s\tremaining: 7.83ms\n",
      "997:\tlearn: 0.1671989\ttotal: 2.61s\tremaining: 5.22ms\n",
      "998:\tlearn: 0.1670241\ttotal: 2.61s\tremaining: 2.61ms\n",
      "999:\tlearn: 0.1669672\ttotal: 2.61s\tremaining: 0us\n",
      "Wall time: 2.86 s\n"
     ]
    }
   ],
   "source": [
    "%%time\n",
    "CB_model = CatBoostClassifier(iterations=1000, depth=4, l2_leaf_reg=5, learning_rate=0.1)\n",
    "CB_model.fit(features_train, target_train)\n",
    "CB_model_prediction = CB_model.predict_proba(features_test)"
   ]
  },
  {
   "cell_type": "markdown",
   "metadata": {},
   "source": [
    "## Metrics"
   ]
  },
  {
   "cell_type": "code",
   "execution_count": 82,
   "metadata": {},
   "outputs": [],
   "source": [
    "auc_roc = roc_auc_score(target_test, CB_model_prediction[:,1])"
   ]
  },
  {
   "cell_type": "code",
   "execution_count": 83,
   "metadata": {},
   "outputs": [
    {
     "data": {
      "text/plain": [
       "0.9195410777689259"
      ]
     },
     "execution_count": 83,
     "metadata": {},
     "output_type": "execute_result"
    }
   ],
   "source": [
    "auc_roc"
   ]
  },
  {
   "cell_type": "markdown",
   "metadata": {},
   "source": [
    "__accuracy with test sample__:"
   ]
  },
  {
   "cell_type": "code",
   "execution_count": 84,
   "metadata": {},
   "outputs": [
    {
     "data": {
      "text/plain": [
       "0.8801817149346962"
      ]
     },
     "execution_count": 84,
     "metadata": {},
     "output_type": "execute_result"
    }
   ],
   "source": [
    "accuracy_score(CB_model.predict(features_test), target_test)"
   ]
  },
  {
   "cell_type": "markdown",
   "metadata": {},
   "source": [
    "# Machine Learning Summary"
   ]
  },
  {
   "cell_type": "markdown",
   "metadata": {},
   "source": [
    "Achieved roc-auc - 0.91+\n",
    "\n",
    "Great result for such a task: the excellent mark from the reviewer is given when you achieve roc-auc > 0.88\n",
    "\n",
    "Order:\n",
    "- __Target__: The clients whose `live_contract` is empty haven't stopped using our telecom services. For them target is 0, for those who decided to quit- 1. After filling the target values the `live_contract` column is filled\n",
    "- `live_contract` is filled with all the data: those who has had `NaN` now has the contract duration as a result of subtraction of the beginning date and 1st of February 2020\n",
    "- __Gaps__: All `NaN`s are filled with zeros because the service of this column is not provided. All 'Yes' and 'No\" are also converted to 1s and 0s\n",
    "- __New features__ Family_guy: equals to 1 if the client has dependants and a spouse at the same time\n",
    "- Test sample has the size of 0.25 of all data set\n",
    "- __Learning__\n",
    "    - catboostclassifier(), parameters are chosen using gridsearchCV\n",
    "    - Test sample auc-roc = 0.91+\n",
    "    \n",
    "    _accuracy is 88%_"
   ]
  },
  {
   "cell_type": "code",
   "execution_count": null,
   "metadata": {},
   "outputs": [],
   "source": []
  }
 ],
 "metadata": {
  "kernelspec": {
   "display_name": "Python 3",
   "language": "python",
   "name": "python3"
  },
  "language_info": {
   "codemirror_mode": {
    "name": "ipython",
    "version": 3
   },
   "file_extension": ".py",
   "mimetype": "text/x-python",
   "name": "python",
   "nbconvert_exporter": "python",
   "pygments_lexer": "ipython3",
   "version": "3.7.4"
  }
 },
 "nbformat": 4,
 "nbformat_minor": 2
}
